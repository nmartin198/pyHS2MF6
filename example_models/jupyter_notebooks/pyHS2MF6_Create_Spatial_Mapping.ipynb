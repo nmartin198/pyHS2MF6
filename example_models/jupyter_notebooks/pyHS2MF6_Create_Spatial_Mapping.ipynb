{
 "cells": [
  {
   "cell_type": "markdown",
   "metadata": {},
   "source": [
    "# pyHS2MF6: Create Spatial Mapping for Coupling"
   ]
  },
  {
   "cell_type": "markdown",
   "metadata": {},
   "source": [
    "The goal of this notebook is to use shapefiles that provide a description of the coupled model including GW model, 2D cell Id by cell polygon, buffered RCHRES areas, and PERLND areas. The HSPF regions (RCHRES and PERLND) are intersected with 2D model grid to provide model cell areas in each defined RCHRES and PERLND.\n",
    "\n",
    "Create three mapping dictionaries and save these to pickle files. These pickle files/mapping dictionaries provide inputs to the coupled model. The three mapping dictionaries are:\n",
    "\n",
    "1. RCHRES: buffered RCHRES areas are mapped on to or interesected with the GW model, 2D grid. Areas of each model cell within the buffered RCHRES areas are calculated. This dictionary has TargID as key with a list, RL, of values.\n",
    "    - RL[0]: (int) number of exit that goes to GW\n",
    "    - RL[1]: (float) total area for buffered RCHRES segment\n",
    "    - RL[2]: (pd.DataFrame) \n",
    "        - index is 2D, Cell ID, 1-based\n",
    "        - 4 columns\n",
    "            - \"iuzno\" which is the cell id for the uzf package, 1-based\n",
    "            - \"TopActive\" which is the top active layer, 1-based\n",
    "            - \"SArea_m2\" which holds the area of the cell for the Cell ID within the buffered RCHRES segment\n",
    "            - \"Weight\" which holds the weight factor for that cell. Needs to be >0 and <= 100.0\n",
    "2. PERLND: pervious land areas are mapped on to or intersected with the GW model, 2D grid. Areas of each model cell within the specified PERLND area are calculated. This dictionary has TargID as key with a list, PL, of values.\n",
    "    - PL[0]: (float) total area for PERLND region\n",
    "    - PL[1]: (pd.DataFrame)\n",
    "        - index is 2D, Cell ID, 1-based\n",
    "        - 4 columns\n",
    "            - \"iuzno\" which is the cell id for the uzf package, 1-based\n",
    "            - \"TopActive\" which is the top active layer, 1-based\n",
    "            - \"SArea_m2\" which holds the area of the cell for the Cell ID within the PERLND area\n",
    "            - \"Weight\" which holds the weight factor for that cell. Needs to be >0 and <= 100.0\n",
    "3.  Springs: springs which are represented with drain cells in the MODFLOW model are identified in this dictionary. The key is the TargID. Values are a list with a sublist for each drain cell, SL.\n",
    "    - SL[0]: boundary name\n",
    "    - SL[1]: NCPL, cell ID, 1-based\n",
    "    - SL[2]: \"TopActive\" top active layer (this is the remainder of the cell id), 1-based\n",
    "    - SL[3]: \"SArea_m2\" which holds the area of the cell for the Cell ID within the PERLND area"
   ]
  },
  {
   "cell_type": "markdown",
   "metadata": {},
   "source": [
    "## Imports and Parameters"
   ]
  },
  {
   "cell_type": "code",
   "execution_count": 1,
   "metadata": {},
   "outputs": [],
   "source": [
    "%matplotlib inline"
   ]
  },
  {
   "cell_type": "code",
   "execution_count": 2,
   "metadata": {},
   "outputs": [],
   "source": [
    "from IPython.display import display, HTML\n",
    "import numpy as np\n",
    "import pandas as pd\n",
    "import datetime as dt\n",
    "import geopandas as gpd\n",
    "import matplotlib as mpl\n",
    "import matplotlib.pyplot as plt\n",
    "import os\n",
    "from shapely.geometry import Polygon\n",
    "import pickle"
   ]
  },
  {
   "cell_type": "code",
   "execution_count": 3,
   "metadata": {},
   "outputs": [],
   "source": [
    "import flopy"
   ]
  },
  {
   "cell_type": "code",
   "execution_count": 4,
   "metadata": {},
   "outputs": [],
   "source": [
    "MF6_Dir = r'C:\\Repositories\\pyHS2MF6\\example_models\\standalone\\MF6'\n",
    "MF6_Root = \"DC_MF6\""
   ]
  },
  {
   "cell_type": "code",
   "execution_count": 5,
   "metadata": {},
   "outputs": [],
   "source": [
    "OUT_DIR = r'C:\\Repositories\\pyHS2MF6\\example_models\\coupled'"
   ]
  },
  {
   "cell_type": "code",
   "execution_count": 6,
   "metadata": {},
   "outputs": [],
   "source": [
    "BReach_shp = r'C:\\Repositories\\pyHS2MF6\\example_models\\gis_files\\Buffered_Reaches_100m.shp'\n",
    "SHP_MGRID = r'C:\\Repositories\\pyHS2MF6\\example_models\\gis_files\\cpMGridUzfNo.shp'"
   ]
  },
  {
   "cell_type": "markdown",
   "metadata": {},
   "source": [
    "**Assume**: The stream reaches are represented by buffered polygons that are clipped so that are non-overlapping. In addition, the model grid shapefile contains the iuzno and CellID and top active layer for every 2D cell."
   ]
  },
  {
   "cell_type": "code",
   "execution_count": 7,
   "metadata": {},
   "outputs": [],
   "source": [
    "NewHdrs = [ \"CellID\", #0 1-based cell ID\n",
    "            \"iuzno\", #1\n",
    "            \"TopActive\", #2\n",
    "            \"SArea_m2\", #3\n",
    "            \"Weight\", #4\n",
    "          ]"
   ]
  },
  {
   "cell_type": "markdown",
   "metadata": {},
   "source": [
    "## Load the Model"
   ]
  },
  {
   "cell_type": "code",
   "execution_count": 8,
   "metadata": {},
   "outputs": [
    {
     "name": "stdout",
     "output_type": "stream",
     "text": [
      "loading simulation...\n",
      "  loading simulation name file...\n",
      "  loading tdis package...\n",
      "  loading model gwf6...\n",
      "    loading package disv...\n",
      "WARNING: Unable to resolve dimension of ('gwf6', 'disv', 'cell2d', 'cell2d', 'icvert') based on shape \"ncvert\".\n",
      "    loading package uzf...\n",
      "    loading package ic...\n",
      "    loading package gnc...\n",
      "    loading package sto...\n",
      "    loading package npf...\n",
      "    loading package ghb...\n",
      "    loading package chd...\n",
      "    loading package drn...\n",
      "    loading package oc...\n",
      "    loading package riv...\n",
      "    loading package rch...\n",
      "  loading ims package dc_mf6...\n"
     ]
    }
   ],
   "source": [
    "mf6_sim = flopy.mf6.MFSimulation.load( MF6_Root, 'mf6', 'mf6', MF6_Dir )"
   ]
  },
  {
   "cell_type": "code",
   "execution_count": 9,
   "metadata": {},
   "outputs": [],
   "source": [
    "mf6 = mf6_sim.get_model( MF6_Root.lower() )"
   ]
  },
  {
   "cell_type": "code",
   "execution_count": 10,
   "metadata": {},
   "outputs": [
    {
     "data": {
      "text/plain": [
       "['disv',\n",
       " 'uzf_ts',\n",
       " 'uzf_obs',\n",
       " 'uzf',\n",
       " 'ic',\n",
       " 'gnc',\n",
       " 'sto',\n",
       " 'npf',\n",
       " 'ghb_obs',\n",
       " 'ghb',\n",
       " 'chd_obs',\n",
       " 'chd',\n",
       " 'drn_obs',\n",
       " 'drn',\n",
       " 'oc',\n",
       " 'riv_ts',\n",
       " 'riv_obs',\n",
       " 'riv',\n",
       " 'rch_ts',\n",
       " 'rch_obs',\n",
       " 'rch']"
      ]
     },
     "execution_count": 10,
     "metadata": {},
     "output_type": "execute_result"
    }
   ],
   "source": [
    "mf6.package_names"
   ]
  },
  {
   "cell_type": "markdown",
   "metadata": {},
   "source": [
    "## Load Shapefiles and Set CRS"
   ]
  },
  {
   "cell_type": "code",
   "execution_count": 11,
   "metadata": {},
   "outputs": [],
   "source": [
    "BReaches = gpd.read_file( BReach_shp )"
   ]
  },
  {
   "cell_type": "code",
   "execution_count": 12,
   "metadata": {},
   "outputs": [],
   "source": [
    "gpd_Grid2D = gpd.read_file( SHP_MGRID )"
   ]
  },
  {
   "cell_type": "markdown",
   "metadata": {},
   "source": [
    "### Extensions and Additions for Calculating Weights"
   ]
  },
  {
   "cell_type": "markdown",
   "metadata": {},
   "source": [
    "Add an area field to the grid GeoDataFrame"
   ]
  },
  {
   "cell_type": "code",
   "execution_count": 13,
   "metadata": {},
   "outputs": [],
   "source": [
    "gpd_Grid2D[\"CellArea_m2\"] = gpd_Grid2D[\"geometry\"].area "
   ]
  },
  {
   "cell_type": "markdown",
   "metadata": {},
   "source": [
    "Create a dictionary to set our weights by hydrologic soil type"
   ]
  },
  {
   "cell_type": "code",
   "execution_count": 14,
   "metadata": {},
   "outputs": [],
   "source": [
    "HSMapDict = { 'A' : 100.0,\n",
    "              'B' : 10.0,\n",
    "              'C' : 1.0,\n",
    "              'D' : 0.1, }"
   ]
  },
  {
   "cell_type": "markdown",
   "metadata": {},
   "source": [
    "Next make a custom function to do the mapping with apply because want to take into account the value for the existence of Fort Terrett outcrop"
   ]
  },
  {
   "cell_type": "code",
   "execution_count": 15,
   "metadata": {},
   "outputs": [],
   "source": [
    "def setWeights( HSoil, mapDict ):\n",
    "    \"\"\"Custom function to set the weight based on hydrologic soil type\n",
    "    \n",
    "    Args:\n",
    "        HSoil (str): hydrologic soil type. One of 'A', 'B', 'C', 'D'\n",
    "    \"\"\"\n",
    "    if HSoil in mapDict.keys():\n",
    "        cWeight = mapDict[HSoil]\n",
    "    else:\n",
    "        cWeight = 0.0\n",
    "    # end if\n",
    "    return cWeight"
   ]
  },
  {
   "cell_type": "markdown",
   "metadata": {},
   "source": [
    "Apply the mapping to calculate a weight field."
   ]
  },
  {
   "cell_type": "code",
   "execution_count": 16,
   "metadata": {},
   "outputs": [],
   "source": [
    "gpd_Grid2D[NewHdrs[4]] = gpd_Grid2D.apply( lambda row: setWeights( row['HSoil'], HSMapDict ), \n",
    "                                             axis=1 )"
   ]
  },
  {
   "cell_type": "code",
   "execution_count": 17,
   "metadata": {},
   "outputs": [],
   "source": [
    "gpd_Grid2D[NewHdrs[4]] = np.where( gpd_Grid2D[\"FtTerrOut\"] == 1, 0.0, gpd_Grid2D[NewHdrs[4]] )"
   ]
  },
  {
   "cell_type": "markdown",
   "metadata": {},
   "source": [
    "The grid file has CellID as 1-based."
   ]
  },
  {
   "cell_type": "code",
   "execution_count": 18,
   "metadata": {},
   "outputs": [],
   "source": [
    "ProjCRS = gpd_Grid2D.crs"
   ]
  },
  {
   "cell_type": "code",
   "execution_count": 19,
   "metadata": {},
   "outputs": [
    {
     "data": {
      "text/html": [
       "<table border=\"1\" class=\"dataframe\">\n",
       "  <thead>\n",
       "    <tr style=\"text-align: right;\">\n",
       "      <th></th>\n",
       "      <th>CellID</th>\n",
       "      <th>TopAct</th>\n",
       "      <th>iuzno</th>\n",
       "      <th>HSoil</th>\n",
       "      <th>FtTerrOut</th>\n",
       "      <th>HRU</th>\n",
       "      <th>CellArea_m2</th>\n",
       "      <th>Weight</th>\n",
       "    </tr>\n",
       "  </thead>\n",
       "  <tbody>\n",
       "    <tr>\n",
       "      <th>0</th>\n",
       "      <td>1</td>\n",
       "      <td>1</td>\n",
       "      <td>-1</td>\n",
       "      <td>D</td>\n",
       "      <td>0</td>\n",
       "      <td>1</td>\n",
       "      <td>1000000.0</td>\n",
       "      <td>0.1</td>\n",
       "    </tr>\n",
       "    <tr>\n",
       "      <th>1</th>\n",
       "      <td>2</td>\n",
       "      <td>1</td>\n",
       "      <td>-1</td>\n",
       "      <td>D</td>\n",
       "      <td>0</td>\n",
       "      <td>1</td>\n",
       "      <td>1000000.0</td>\n",
       "      <td>0.1</td>\n",
       "    </tr>\n",
       "    <tr>\n",
       "      <th>2</th>\n",
       "      <td>3</td>\n",
       "      <td>1</td>\n",
       "      <td>-1</td>\n",
       "      <td>D</td>\n",
       "      <td>0</td>\n",
       "      <td>1</td>\n",
       "      <td>1000000.0</td>\n",
       "      <td>0.1</td>\n",
       "    </tr>\n",
       "    <tr>\n",
       "      <th>3</th>\n",
       "      <td>4</td>\n",
       "      <td>1</td>\n",
       "      <td>-1</td>\n",
       "      <td>D</td>\n",
       "      <td>0</td>\n",
       "      <td>1</td>\n",
       "      <td>1000000.0</td>\n",
       "      <td>0.1</td>\n",
       "    </tr>\n",
       "    <tr>\n",
       "      <th>4</th>\n",
       "      <td>5</td>\n",
       "      <td>1</td>\n",
       "      <td>1</td>\n",
       "      <td>D</td>\n",
       "      <td>0</td>\n",
       "      <td>1</td>\n",
       "      <td>1000000.0</td>\n",
       "      <td>0.1</td>\n",
       "    </tr>\n",
       "  </tbody>\n",
       "</table>"
      ],
      "text/plain": [
       "<IPython.core.display.HTML object>"
      ]
     },
     "metadata": {},
     "output_type": "display_data"
    }
   ],
   "source": [
    "V1Cols = list( gpd_Grid2D.columns )\n",
    "V1Cols.remove(\"geometry\")\n",
    "display( HTML( gpd_Grid2D[V1Cols].head().to_html() ) )"
   ]
  },
  {
   "cell_type": "code",
   "execution_count": 20,
   "metadata": {},
   "outputs": [
    {
     "data": {
      "text/html": [
       "<table border=\"1\" class=\"dataframe\">\n",
       "  <thead>\n",
       "    <tr style=\"text-align: right;\">\n",
       "      <th></th>\n",
       "      <th>CellID</th>\n",
       "      <th>TopAct</th>\n",
       "      <th>iuzno</th>\n",
       "      <th>FtTerrOut</th>\n",
       "      <th>HRU</th>\n",
       "      <th>CellArea_m2</th>\n",
       "      <th>Weight</th>\n",
       "    </tr>\n",
       "  </thead>\n",
       "  <tbody>\n",
       "    <tr>\n",
       "      <th>count</th>\n",
       "      <td>12347.000000</td>\n",
       "      <td>12347.000000</td>\n",
       "      <td>12347.000000</td>\n",
       "      <td>12347.000000</td>\n",
       "      <td>12347.000000</td>\n",
       "      <td>12347.000000</td>\n",
       "      <td>12347.000000</td>\n",
       "    </tr>\n",
       "    <tr>\n",
       "      <th>mean</th>\n",
       "      <td>6174.000000</td>\n",
       "      <td>3.414919</td>\n",
       "      <td>5389.536325</td>\n",
       "      <td>0.037661</td>\n",
       "      <td>7.201587</td>\n",
       "      <td>41633.658480</td>\n",
       "      <td>18.647882</td>\n",
       "    </tr>\n",
       "    <tr>\n",
       "      <th>std</th>\n",
       "      <td>3564.416221</td>\n",
       "      <td>1.157294</td>\n",
       "      <td>3522.120390</td>\n",
       "      <td>0.190383</td>\n",
       "      <td>3.748419</td>\n",
       "      <td>110665.319566</td>\n",
       "      <td>38.842187</td>\n",
       "    </tr>\n",
       "    <tr>\n",
       "      <th>min</th>\n",
       "      <td>1.000000</td>\n",
       "      <td>-1.000000</td>\n",
       "      <td>-1.000000</td>\n",
       "      <td>0.000000</td>\n",
       "      <td>-1.000000</td>\n",
       "      <td>3906.250000</td>\n",
       "      <td>0.000000</td>\n",
       "    </tr>\n",
       "    <tr>\n",
       "      <th>25%</th>\n",
       "      <td>3087.500000</td>\n",
       "      <td>3.000000</td>\n",
       "      <td>2276.500000</td>\n",
       "      <td>0.000000</td>\n",
       "      <td>4.000000</td>\n",
       "      <td>15625.000000</td>\n",
       "      <td>0.100000</td>\n",
       "    </tr>\n",
       "    <tr>\n",
       "      <th>50%</th>\n",
       "      <td>6174.000000</td>\n",
       "      <td>3.000000</td>\n",
       "      <td>5363.000000</td>\n",
       "      <td>0.000000</td>\n",
       "      <td>8.000000</td>\n",
       "      <td>15625.000000</td>\n",
       "      <td>0.100000</td>\n",
       "    </tr>\n",
       "    <tr>\n",
       "      <th>75%</th>\n",
       "      <td>9260.500000</td>\n",
       "      <td>4.000000</td>\n",
       "      <td>8449.500000</td>\n",
       "      <td>0.000000</td>\n",
       "      <td>10.000000</td>\n",
       "      <td>62500.000000</td>\n",
       "      <td>0.100000</td>\n",
       "    </tr>\n",
       "    <tr>\n",
       "      <th>max</th>\n",
       "      <td>12347.000000</td>\n",
       "      <td>6.000000</td>\n",
       "      <td>11536.000000</td>\n",
       "      <td>1.000000</td>\n",
       "      <td>12.000000</td>\n",
       "      <td>1000000.000000</td>\n",
       "      <td>100.000000</td>\n",
       "    </tr>\n",
       "  </tbody>\n",
       "</table>"
      ],
      "text/plain": [
       "<IPython.core.display.HTML object>"
      ]
     },
     "metadata": {},
     "output_type": "display_data"
    }
   ],
   "source": [
    "display( HTML( gpd_Grid2D.describe().to_html() ) )"
   ]
  },
  {
   "cell_type": "markdown",
   "metadata": {},
   "source": [
    "### Reaches"
   ]
  },
  {
   "cell_type": "markdown",
   "metadata": {},
   "source": [
    "Look at the reaches in more detail"
   ]
  },
  {
   "cell_type": "code",
   "execution_count": 21,
   "metadata": {},
   "outputs": [
    {
     "data": {
      "text/html": [
       "<table border=\"1\" class=\"dataframe\">\n",
       "  <thead>\n",
       "    <tr style=\"text-align: right;\">\n",
       "      <th></th>\n",
       "      <th>Id</th>\n",
       "      <th>TargId</th>\n",
       "      <th>GWExit</th>\n",
       "      <th>LName</th>\n",
       "      <th>RLength</th>\n",
       "    </tr>\n",
       "  </thead>\n",
       "  <tbody>\n",
       "    <tr>\n",
       "      <th>0</th>\n",
       "      <td>1</td>\n",
       "      <td>R001</td>\n",
       "      <td>2</td>\n",
       "      <td>Upper Dolan Creek</td>\n",
       "      <td>10242.027966</td>\n",
       "    </tr>\n",
       "    <tr>\n",
       "      <th>1</th>\n",
       "      <td>2</td>\n",
       "      <td>R002</td>\n",
       "      <td>2</td>\n",
       "      <td>Upper Central</td>\n",
       "      <td>13804.821259</td>\n",
       "    </tr>\n",
       "    <tr>\n",
       "      <th>2</th>\n",
       "      <td>3</td>\n",
       "      <td>R003</td>\n",
       "      <td>2</td>\n",
       "      <td>Lower Central</td>\n",
       "      <td>5878.525280</td>\n",
       "    </tr>\n",
       "    <tr>\n",
       "      <th>3</th>\n",
       "      <td>4</td>\n",
       "      <td>R004</td>\n",
       "      <td>2</td>\n",
       "      <td>Lower</td>\n",
       "      <td>7254.425563</td>\n",
       "    </tr>\n",
       "    <tr>\n",
       "      <th>4</th>\n",
       "      <td>5</td>\n",
       "      <td>R005</td>\n",
       "      <td>0</td>\n",
       "      <td>Dolan Springs</td>\n",
       "      <td>1745.430893</td>\n",
       "    </tr>\n",
       "  </tbody>\n",
       "</table>"
      ],
      "text/plain": [
       "<IPython.core.display.HTML object>"
      ]
     },
     "metadata": {},
     "output_type": "display_data"
    }
   ],
   "source": [
    "V1Cols = list( BReaches.columns )\n",
    "V1Cols.remove(\"geometry\")\n",
    "display( HTML( BReaches[V1Cols].to_html() ) )"
   ]
  },
  {
   "cell_type": "code",
   "execution_count": 22,
   "metadata": {},
   "outputs": [
    {
     "data": {
      "text/plain": [
       "['Id', 'TargId', 'GWExit', 'LName', 'RLength', 'geometry']"
      ]
     },
     "execution_count": 22,
     "metadata": {},
     "output_type": "execute_result"
    }
   ],
   "source": [
    "list( BReaches.columns )"
   ]
  },
  {
   "cell_type": "code",
   "execution_count": 23,
   "metadata": {},
   "outputs": [
    {
     "data": {
      "text/plain": [
       "[2, 2, 2, 2, 0]"
      ]
     },
     "execution_count": 23,
     "metadata": {},
     "output_type": "execute_result"
    }
   ],
   "source": [
    "RGWExitList = BReaches['GWExit'].tolist()\n",
    "RGWExitList"
   ]
  },
  {
   "cell_type": "code",
   "execution_count": 24,
   "metadata": {},
   "outputs": [
    {
     "data": {
      "text/plain": [
       "['R001', 'R002', 'R003', 'R004', 'R005']"
      ]
     },
     "execution_count": 24,
     "metadata": {},
     "output_type": "execute_result"
    }
   ],
   "source": [
    "RTargIdList = BReaches['TargId'].tolist()\n",
    "RTargIdList"
   ]
  },
  {
   "cell_type": "markdown",
   "metadata": {},
   "source": [
    "## Create Intersections and Mappings"
   ]
  },
  {
   "cell_type": "markdown",
   "metadata": {},
   "source": [
    "Need a series of mappings that relate specific MODFLOW 2D grid cells to specific HSPF targets.\n",
    "\n",
    "Mappings:\n",
    "\n",
    "1. Grid cells to river valley by RCHRES ID\n",
    "2. Grid cells to subbasins by subbasin ID\n",
    "\n",
    "Need to be able to calculate total areas in each region"
   ]
  },
  {
   "cell_type": "markdown",
   "metadata": {},
   "source": [
    "### Buffered Reaches"
   ]
  },
  {
   "cell_type": "code",
   "execution_count": 25,
   "metadata": {},
   "outputs": [],
   "source": [
    "AllGridRchs = gpd.overlay( BReaches, gpd_Grid2D, how='intersection' )"
   ]
  },
  {
   "cell_type": "code",
   "execution_count": 26,
   "metadata": {},
   "outputs": [
    {
     "data": {
      "text/html": [
       "<table border=\"1\" class=\"dataframe\">\n",
       "  <thead>\n",
       "    <tr style=\"text-align: right;\">\n",
       "      <th></th>\n",
       "      <th>Id</th>\n",
       "      <th>TargId</th>\n",
       "      <th>GWExit</th>\n",
       "      <th>LName</th>\n",
       "      <th>RLength</th>\n",
       "      <th>CellID</th>\n",
       "      <th>TopAct</th>\n",
       "      <th>iuzno</th>\n",
       "      <th>HSoil</th>\n",
       "      <th>FtTerrOut</th>\n",
       "      <th>HRU</th>\n",
       "      <th>CellArea_m2</th>\n",
       "      <th>Weight</th>\n",
       "    </tr>\n",
       "  </thead>\n",
       "  <tbody>\n",
       "    <tr>\n",
       "      <th>0</th>\n",
       "      <td>1</td>\n",
       "      <td>R001</td>\n",
       "      <td>2</td>\n",
       "      <td>Upper Dolan Creek</td>\n",
       "      <td>10242.027966</td>\n",
       "      <td>850</td>\n",
       "      <td>3</td>\n",
       "      <td>810</td>\n",
       "      <td>A</td>\n",
       "      <td>0</td>\n",
       "      <td>3</td>\n",
       "      <td>15625.0</td>\n",
       "      <td>100.0</td>\n",
       "    </tr>\n",
       "    <tr>\n",
       "      <th>1</th>\n",
       "      <td>1</td>\n",
       "      <td>R001</td>\n",
       "      <td>2</td>\n",
       "      <td>Upper Dolan Creek</td>\n",
       "      <td>10242.027966</td>\n",
       "      <td>851</td>\n",
       "      <td>3</td>\n",
       "      <td>811</td>\n",
       "      <td>A</td>\n",
       "      <td>0</td>\n",
       "      <td>3</td>\n",
       "      <td>15625.0</td>\n",
       "      <td>100.0</td>\n",
       "    </tr>\n",
       "    <tr>\n",
       "      <th>2</th>\n",
       "      <td>1</td>\n",
       "      <td>R001</td>\n",
       "      <td>2</td>\n",
       "      <td>Upper Dolan Creek</td>\n",
       "      <td>10242.027966</td>\n",
       "      <td>852</td>\n",
       "      <td>3</td>\n",
       "      <td>812</td>\n",
       "      <td>A</td>\n",
       "      <td>0</td>\n",
       "      <td>1</td>\n",
       "      <td>15625.0</td>\n",
       "      <td>100.0</td>\n",
       "    </tr>\n",
       "    <tr>\n",
       "      <th>3</th>\n",
       "      <td>1</td>\n",
       "      <td>R001</td>\n",
       "      <td>2</td>\n",
       "      <td>Upper Dolan Creek</td>\n",
       "      <td>10242.027966</td>\n",
       "      <td>853</td>\n",
       "      <td>3</td>\n",
       "      <td>813</td>\n",
       "      <td>A</td>\n",
       "      <td>0</td>\n",
       "      <td>3</td>\n",
       "      <td>15625.0</td>\n",
       "      <td>100.0</td>\n",
       "    </tr>\n",
       "    <tr>\n",
       "      <th>4</th>\n",
       "      <td>1</td>\n",
       "      <td>R001</td>\n",
       "      <td>2</td>\n",
       "      <td>Upper Dolan Creek</td>\n",
       "      <td>10242.027966</td>\n",
       "      <td>854</td>\n",
       "      <td>3</td>\n",
       "      <td>814</td>\n",
       "      <td>A</td>\n",
       "      <td>0</td>\n",
       "      <td>2</td>\n",
       "      <td>15625.0</td>\n",
       "      <td>100.0</td>\n",
       "    </tr>\n",
       "  </tbody>\n",
       "</table>"
      ],
      "text/plain": [
       "<IPython.core.display.HTML object>"
      ]
     },
     "metadata": {},
     "output_type": "display_data"
    }
   ],
   "source": [
    "V1Cols = list( AllGridRchs.columns )\n",
    "V1Cols.remove(\"geometry\")\n",
    "display( HTML( AllGridRchs[V1Cols].head().to_html() ) )"
   ]
  },
  {
   "cell_type": "markdown",
   "metadata": {},
   "source": [
    "Calculate the area of the interesected model cells"
   ]
  },
  {
   "cell_type": "code",
   "execution_count": 27,
   "metadata": {},
   "outputs": [],
   "source": [
    "AllGridRchs[\"IntArea_m2\"] = AllGridRchs[\"geometry\"].area"
   ]
  },
  {
   "cell_type": "markdown",
   "metadata": {},
   "source": [
    "Now split into separate DataFrames by reach"
   ]
  },
  {
   "cell_type": "code",
   "execution_count": 28,
   "metadata": {},
   "outputs": [],
   "source": [
    "Rch1Grd = AllGridRchs[ ( AllGridRchs[\"TargId\"] == \"R001\" ) & ( AllGridRchs['iuzno'] > 0 ) ].copy()\n",
    "Rch2Grd = AllGridRchs[ ( AllGridRchs[\"TargId\"] == \"R002\" ) & ( AllGridRchs['iuzno'] > 0 ) ].copy()\n",
    "Rch3Grd = AllGridRchs[ ( AllGridRchs[\"TargId\"] == \"R003\" ) & ( AllGridRchs['iuzno'] > 0 ) ].copy()\n",
    "Rch4Grd = AllGridRchs[ ( AllGridRchs[\"TargId\"] == \"R004\" ) & ( AllGridRchs['iuzno'] > 0 ) ].copy()\n",
    "Rch5Grd = AllGridRchs[ ( AllGridRchs[\"TargId\"] == \"R005\" ) & ( AllGridRchs['iuzno'] > 0 ) ].copy()"
   ]
  },
  {
   "cell_type": "markdown",
   "metadata": {},
   "source": [
    "Extract the 2D Cell ID for each reach and go through these lists and enforce that they be unique"
   ]
  },
  {
   "cell_type": "code",
   "execution_count": 29,
   "metadata": {},
   "outputs": [
    {
     "data": {
      "text/plain": [
       "247"
      ]
     },
     "execution_count": 29,
     "metadata": {},
     "output_type": "execute_result"
    }
   ],
   "source": [
    "Rch1CellID = sorted( Rch1Grd['CellID'].unique() )\n",
    "len(Rch1CellID)"
   ]
  },
  {
   "cell_type": "code",
   "execution_count": 30,
   "metadata": {},
   "outputs": [
    {
     "data": {
      "text/plain": [
       "[850, 851, 852, 853, 854]"
      ]
     },
     "execution_count": 30,
     "metadata": {},
     "output_type": "execute_result"
    }
   ],
   "source": [
    "Rch1CellID[:5]"
   ]
  },
  {
   "cell_type": "code",
   "execution_count": 31,
   "metadata": {},
   "outputs": [],
   "source": [
    "Rch2CellID = sorted( Rch2Grd['CellID'].unique() )\n",
    "Rch3CellID = sorted( Rch3Grd['CellID'].unique() )\n",
    "Rch4CellID = sorted( Rch4Grd['CellID'].unique() )\n",
    "Rch5CellID = sorted( Rch5Grd['CellID'].unique() )"
   ]
  },
  {
   "cell_type": "markdown",
   "metadata": {},
   "source": [
    "Make sure that the CellIDs are unique to one reach. We want to use the entire cell area allocated to a single reach"
   ]
  },
  {
   "cell_type": "code",
   "execution_count": 32,
   "metadata": {},
   "outputs": [
    {
     "data": {
      "text/plain": [
       "6"
      ]
     },
     "execution_count": 32,
     "metadata": {},
     "output_type": "execute_result"
    }
   ],
   "source": [
    "CellsIn4and5 = set( Rch4CellID ) & set( Rch5CellID )\n",
    "len(CellsIn4and5)"
   ]
  },
  {
   "cell_type": "code",
   "execution_count": 33,
   "metadata": {},
   "outputs": [
    {
     "data": {
      "text/plain": [
       "{11133, 11136, 11137, 11142, 11144, 11717}"
      ]
     },
     "execution_count": 33,
     "metadata": {},
     "output_type": "execute_result"
    }
   ],
   "source": [
    "CellsIn4and5"
   ]
  },
  {
   "cell_type": "code",
   "execution_count": 34,
   "metadata": {},
   "outputs": [
    {
     "data": {
      "text/plain": [
       "(510, 127)"
      ]
     },
     "execution_count": 34,
     "metadata": {},
     "output_type": "execute_result"
    }
   ],
   "source": [
    "NumRch5 = len( Rch5CellID )\n",
    "NumRch4 = len( Rch4CellID )\n",
    "NumRch4, NumRch5"
   ]
  },
  {
   "cell_type": "code",
   "execution_count": 35,
   "metadata": {},
   "outputs": [
    {
     "data": {
      "text/plain": [
       "504"
      ]
     },
     "execution_count": 35,
     "metadata": {},
     "output_type": "execute_result"
    }
   ],
   "source": [
    "for cL in CellsIn4and5:\n",
    "    Rch4CellID.remove(cL)\n",
    "# end for\n",
    "NumRch4 = len( Rch4CellID )\n",
    "NumRch4"
   ]
  },
  {
   "cell_type": "code",
   "execution_count": 36,
   "metadata": {},
   "outputs": [
    {
     "data": {
      "text/plain": [
       "3"
      ]
     },
     "execution_count": 36,
     "metadata": {},
     "output_type": "execute_result"
    }
   ],
   "source": [
    "CellsIn3and4 = set( Rch3CellID ) & set( Rch4CellID )\n",
    "len(CellsIn3and4)"
   ]
  },
  {
   "cell_type": "code",
   "execution_count": 37,
   "metadata": {},
   "outputs": [
    {
     "data": {
      "text/plain": [
       "140"
      ]
     },
     "execution_count": 37,
     "metadata": {},
     "output_type": "execute_result"
    }
   ],
   "source": [
    "NumRch3 = len( Rch3CellID )\n",
    "NumRch3"
   ]
  },
  {
   "cell_type": "code",
   "execution_count": 38,
   "metadata": {},
   "outputs": [
    {
     "data": {
      "text/plain": [
       "137"
      ]
     },
     "execution_count": 38,
     "metadata": {},
     "output_type": "execute_result"
    }
   ],
   "source": [
    "for cL in CellsIn3and4:\n",
    "    Rch3CellID.remove(cL)\n",
    "# end for\n",
    "NumRch3 = len( Rch3CellID )\n",
    "NumRch3"
   ]
  },
  {
   "cell_type": "code",
   "execution_count": 39,
   "metadata": {},
   "outputs": [
    {
     "data": {
      "text/plain": [
       "4"
      ]
     },
     "execution_count": 39,
     "metadata": {},
     "output_type": "execute_result"
    }
   ],
   "source": [
    "CellsIn2and3 = set( Rch2CellID ) & set( Rch3CellID )\n",
    "len(CellsIn2and3)"
   ]
  },
  {
   "cell_type": "code",
   "execution_count": 40,
   "metadata": {},
   "outputs": [
    {
     "data": {
      "text/plain": [
       "322"
      ]
     },
     "execution_count": 40,
     "metadata": {},
     "output_type": "execute_result"
    }
   ],
   "source": [
    "NumRch2 = len( Rch2CellID )\n",
    "NumRch2"
   ]
  },
  {
   "cell_type": "code",
   "execution_count": 41,
   "metadata": {},
   "outputs": [
    {
     "data": {
      "text/plain": [
       "318"
      ]
     },
     "execution_count": 41,
     "metadata": {},
     "output_type": "execute_result"
    }
   ],
   "source": [
    "for cL in CellsIn2and3:\n",
    "    Rch2CellID.remove(cL)\n",
    "# end for\n",
    "NumRch2 = len( Rch2CellID )\n",
    "NumRch2"
   ]
  },
  {
   "cell_type": "code",
   "execution_count": 42,
   "metadata": {},
   "outputs": [
    {
     "data": {
      "text/plain": [
       "3"
      ]
     },
     "execution_count": 42,
     "metadata": {},
     "output_type": "execute_result"
    }
   ],
   "source": [
    "CellsIn1and2 = set( Rch1CellID ) & set( Rch2CellID )\n",
    "len(CellsIn1and2)"
   ]
  },
  {
   "cell_type": "code",
   "execution_count": 43,
   "metadata": {},
   "outputs": [
    {
     "data": {
      "text/plain": [
       "247"
      ]
     },
     "execution_count": 43,
     "metadata": {},
     "output_type": "execute_result"
    }
   ],
   "source": [
    "NumRch1 = len( Rch1CellID )\n",
    "NumRch1"
   ]
  },
  {
   "cell_type": "code",
   "execution_count": 44,
   "metadata": {},
   "outputs": [
    {
     "data": {
      "text/plain": [
       "244"
      ]
     },
     "execution_count": 44,
     "metadata": {},
     "output_type": "execute_result"
    }
   ],
   "source": [
    "for cL in CellsIn1and2:\n",
    "    Rch1CellID.remove(cL)\n",
    "# end for\n",
    "NumRch1 = len( Rch1CellID )\n",
    "NumRch1"
   ]
  },
  {
   "cell_type": "code",
   "execution_count": 45,
   "metadata": {},
   "outputs": [
    {
     "data": {
      "text/plain": [
       "244"
      ]
     },
     "execution_count": 45,
     "metadata": {},
     "output_type": "execute_result"
    }
   ],
   "source": [
    "Rch1Grd = gpd_Grid2D[gpd_Grid2D['CellID'].isin(Rch1CellID)].copy()\n",
    "len(Rch1Grd)"
   ]
  },
  {
   "cell_type": "code",
   "execution_count": 46,
   "metadata": {},
   "outputs": [
    {
     "data": {
      "text/html": [
       "<table border=\"1\" class=\"dataframe\">\n",
       "  <thead>\n",
       "    <tr style=\"text-align: right;\">\n",
       "      <th></th>\n",
       "      <th>CellID</th>\n",
       "      <th>TopAct</th>\n",
       "      <th>iuzno</th>\n",
       "      <th>HSoil</th>\n",
       "      <th>FtTerrOut</th>\n",
       "      <th>HRU</th>\n",
       "      <th>CellArea_m2</th>\n",
       "      <th>Weight</th>\n",
       "    </tr>\n",
       "  </thead>\n",
       "  <tbody>\n",
       "    <tr>\n",
       "      <th>849</th>\n",
       "      <td>850</td>\n",
       "      <td>3</td>\n",
       "      <td>810</td>\n",
       "      <td>A</td>\n",
       "      <td>0</td>\n",
       "      <td>3</td>\n",
       "      <td>15625.0</td>\n",
       "      <td>100.0</td>\n",
       "    </tr>\n",
       "    <tr>\n",
       "      <th>850</th>\n",
       "      <td>851</td>\n",
       "      <td>3</td>\n",
       "      <td>811</td>\n",
       "      <td>A</td>\n",
       "      <td>0</td>\n",
       "      <td>3</td>\n",
       "      <td>15625.0</td>\n",
       "      <td>100.0</td>\n",
       "    </tr>\n",
       "    <tr>\n",
       "      <th>851</th>\n",
       "      <td>852</td>\n",
       "      <td>3</td>\n",
       "      <td>812</td>\n",
       "      <td>A</td>\n",
       "      <td>0</td>\n",
       "      <td>1</td>\n",
       "      <td>15625.0</td>\n",
       "      <td>100.0</td>\n",
       "    </tr>\n",
       "    <tr>\n",
       "      <th>852</th>\n",
       "      <td>853</td>\n",
       "      <td>3</td>\n",
       "      <td>813</td>\n",
       "      <td>A</td>\n",
       "      <td>0</td>\n",
       "      <td>3</td>\n",
       "      <td>15625.0</td>\n",
       "      <td>100.0</td>\n",
       "    </tr>\n",
       "    <tr>\n",
       "      <th>853</th>\n",
       "      <td>854</td>\n",
       "      <td>3</td>\n",
       "      <td>814</td>\n",
       "      <td>A</td>\n",
       "      <td>0</td>\n",
       "      <td>2</td>\n",
       "      <td>15625.0</td>\n",
       "      <td>100.0</td>\n",
       "    </tr>\n",
       "  </tbody>\n",
       "</table>"
      ],
      "text/plain": [
       "<IPython.core.display.HTML object>"
      ]
     },
     "metadata": {},
     "output_type": "display_data"
    }
   ],
   "source": [
    "V1Cols = list( Rch1Grd.columns )\n",
    "V1Cols.remove(\"geometry\")\n",
    "display( HTML( Rch1Grd[V1Cols].head().to_html() ) )"
   ]
  },
  {
   "cell_type": "code",
   "execution_count": 47,
   "metadata": {},
   "outputs": [
    {
     "data": {
      "text/plain": [
       "318"
      ]
     },
     "execution_count": 47,
     "metadata": {},
     "output_type": "execute_result"
    }
   ],
   "source": [
    "Rch2Grd = gpd_Grid2D[gpd_Grid2D['CellID'].isin(Rch2CellID)].copy()\n",
    "len(Rch2Grd)"
   ]
  },
  {
   "cell_type": "code",
   "execution_count": 48,
   "metadata": {},
   "outputs": [
    {
     "data": {
      "text/plain": [
       "137"
      ]
     },
     "execution_count": 48,
     "metadata": {},
     "output_type": "execute_result"
    }
   ],
   "source": [
    "Rch3Grd = gpd_Grid2D[gpd_Grid2D['CellID'].isin(Rch3CellID)].copy()\n",
    "len(Rch3Grd)"
   ]
  },
  {
   "cell_type": "code",
   "execution_count": 49,
   "metadata": {},
   "outputs": [
    {
     "data": {
      "text/plain": [
       "504"
      ]
     },
     "execution_count": 49,
     "metadata": {},
     "output_type": "execute_result"
    }
   ],
   "source": [
    "Rch4Grd = gpd_Grid2D[gpd_Grid2D['CellID'].isin(Rch4CellID)].copy()\n",
    "len(Rch4Grd)"
   ]
  },
  {
   "cell_type": "code",
   "execution_count": 50,
   "metadata": {},
   "outputs": [
    {
     "data": {
      "text/plain": [
       "127"
      ]
     },
     "execution_count": 50,
     "metadata": {},
     "output_type": "execute_result"
    }
   ],
   "source": [
    "Rch5Grd = gpd_Grid2D[gpd_Grid2D['CellID'].isin(Rch5CellID)].copy()\n",
    "len(Rch5Grd)"
   ]
  },
  {
   "cell_type": "code",
   "execution_count": 51,
   "metadata": {},
   "outputs": [],
   "source": [
    "NumURG1 = len( Rch1Grd[\"CellID\"].unique() )\n",
    "NumURG2 = len( Rch2Grd[\"CellID\"].unique() )\n",
    "NumURG3 = len( Rch3Grd[\"CellID\"].unique() )\n",
    "NumURG4 = len( Rch4Grd[\"CellID\"].unique() )\n",
    "NumURG5 = len( Rch5Grd[\"CellID\"].unique() )"
   ]
  },
  {
   "cell_type": "code",
   "execution_count": 52,
   "metadata": {},
   "outputs": [
    {
     "data": {
      "text/plain": [
       "(244, 244)"
      ]
     },
     "execution_count": 52,
     "metadata": {},
     "output_type": "execute_result"
    }
   ],
   "source": [
    "NumRch1, NumURG1"
   ]
  },
  {
   "cell_type": "code",
   "execution_count": 53,
   "metadata": {},
   "outputs": [
    {
     "data": {
      "text/plain": [
       "(318, 318)"
      ]
     },
     "execution_count": 53,
     "metadata": {},
     "output_type": "execute_result"
    }
   ],
   "source": [
    "NumRch2, NumURG2"
   ]
  },
  {
   "cell_type": "code",
   "execution_count": 54,
   "metadata": {},
   "outputs": [
    {
     "data": {
      "text/plain": [
       "(137, 137)"
      ]
     },
     "execution_count": 54,
     "metadata": {},
     "output_type": "execute_result"
    }
   ],
   "source": [
    "NumRch3, NumURG3"
   ]
  },
  {
   "cell_type": "code",
   "execution_count": 55,
   "metadata": {},
   "outputs": [
    {
     "data": {
      "text/plain": [
       "(504, 504)"
      ]
     },
     "execution_count": 55,
     "metadata": {},
     "output_type": "execute_result"
    }
   ],
   "source": [
    "NumRch4, NumURG4"
   ]
  },
  {
   "cell_type": "code",
   "execution_count": 56,
   "metadata": {},
   "outputs": [
    {
     "data": {
      "text/plain": [
       "(127, 127)"
      ]
     },
     "execution_count": 56,
     "metadata": {},
     "output_type": "execute_result"
    }
   ],
   "source": [
    "NumRch5, NumURG5"
   ]
  },
  {
   "cell_type": "markdown",
   "metadata": {},
   "source": [
    "At this point, have GeoDataFrames for each reach in the HSPF model with a unique collection of CellIDs.\n",
    "\n",
    "Now make the regular DataFrames that are needed for the dictionaries with the appropriate column formats."
   ]
  },
  {
   "cell_type": "code",
   "execution_count": 57,
   "metadata": {},
   "outputs": [],
   "source": [
    "dfIndexer = np.array( Rch1Grd[\"CellID\"].tolist(), dtype=np.int32 )\n",
    "DataR1Dict = { NewHdrs[1] : np.array( Rch1Grd[\"iuzno\"].tolist(), dtype=np.int32 ),\n",
    "               NewHdrs[2] : np.array( Rch1Grd[\"TopAct\"].tolist(), dtype=np.int32 ),\n",
    "               NewHdrs[3] : np.array( Rch1Grd[\"CellArea_m2\"].tolist(), dtype=np.float64 ),\n",
    "               NewHdrs[4] : np.array( Rch1Grd[NewHdrs[4]].tolist(), dtype=np.float64 ),\n",
    "             }\n",
    "Rch1DF = pd.DataFrame( index=dfIndexer, data=DataR1Dict )"
   ]
  },
  {
   "cell_type": "code",
   "execution_count": 58,
   "metadata": {},
   "outputs": [],
   "source": [
    "dfIndexer = np.array( Rch2Grd[\"CellID\"].tolist(), dtype=np.int32 )\n",
    "DataR2Dict = { NewHdrs[1] : np.array( Rch2Grd[\"iuzno\"].tolist(), dtype=np.int32 ),\n",
    "               NewHdrs[2] : np.array( Rch2Grd[\"TopAct\"].tolist(), dtype=np.int32 ),\n",
    "               NewHdrs[3] : np.array( Rch2Grd[\"CellArea_m2\"].tolist(), dtype=np.float64 ),\n",
    "               NewHdrs[4] : np.array( Rch2Grd[NewHdrs[4]].tolist(), dtype=np.float64 ),\n",
    "             }\n",
    "Rch2DF = pd.DataFrame( index=dfIndexer, data=DataR2Dict )"
   ]
  },
  {
   "cell_type": "code",
   "execution_count": 59,
   "metadata": {},
   "outputs": [],
   "source": [
    "dfIndexer = np.array( Rch3Grd[\"CellID\"].tolist(), dtype=np.int32 )\n",
    "DataR3Dict = { NewHdrs[1] : np.array( Rch3Grd[\"iuzno\"].tolist(), dtype=np.int32 ),\n",
    "               NewHdrs[2] : np.array( Rch3Grd[\"TopAct\"].tolist(), dtype=np.int32 ),\n",
    "               NewHdrs[3] : np.array( Rch3Grd[\"CellArea_m2\"].tolist(), dtype=np.float64 ),\n",
    "               NewHdrs[4] : np.array( Rch3Grd[NewHdrs[4]].tolist(), dtype=np.float64 ),\n",
    "             }\n",
    "Rch3DF = pd.DataFrame( index=dfIndexer, data=DataR3Dict )"
   ]
  },
  {
   "cell_type": "code",
   "execution_count": 60,
   "metadata": {},
   "outputs": [],
   "source": [
    "dfIndexer = np.array( Rch4Grd[\"CellID\"].tolist(), dtype=np.int32 )\n",
    "DataR4Dict = { NewHdrs[1] : np.array( Rch4Grd[\"iuzno\"].tolist(), dtype=np.int32 ),\n",
    "               NewHdrs[2] : np.array( Rch4Grd[\"TopAct\"].tolist(), dtype=np.int32 ),\n",
    "               NewHdrs[3] : np.array( Rch4Grd[\"CellArea_m2\"].tolist(), dtype=np.float64 ),\n",
    "               NewHdrs[4] : np.array( Rch4Grd[NewHdrs[4]].tolist(), dtype=np.float64 ),\n",
    "             }\n",
    "Rch4DF = pd.DataFrame( index=dfIndexer, data=DataR4Dict )"
   ]
  },
  {
   "cell_type": "code",
   "execution_count": 61,
   "metadata": {},
   "outputs": [],
   "source": [
    "dfIndexer = np.array( Rch5Grd[\"CellID\"].tolist(), dtype=np.int32 )\n",
    "DataR5Dict = { NewHdrs[1] : np.array( Rch5Grd[\"iuzno\"].tolist(), dtype=np.int32 ),\n",
    "               NewHdrs[2] : np.array( Rch5Grd[\"TopAct\"].tolist(), dtype=np.int32 ),\n",
    "               NewHdrs[3] : np.array( Rch5Grd[\"CellArea_m2\"].tolist(), dtype=np.float64 ),\n",
    "               NewHdrs[4] : np.array( Rch5Grd[NewHdrs[4]].tolist(), dtype=np.float64 ),\n",
    "             }\n",
    "Rch5DF = pd.DataFrame( index=dfIndexer, data=DataR5Dict )"
   ]
  },
  {
   "cell_type": "code",
   "execution_count": 62,
   "metadata": {},
   "outputs": [
    {
     "data": {
      "text/plain": [
       "3812500.0"
      ]
     },
     "execution_count": 62,
     "metadata": {},
     "output_type": "execute_result"
    }
   ],
   "source": [
    "CalcR1Area = Rch1DF[NewHdrs[3]].sum()\n",
    "CalcR1Area"
   ]
  },
  {
   "cell_type": "code",
   "execution_count": 63,
   "metadata": {},
   "outputs": [
    {
     "data": {
      "text/plain": [
       "4968750.0"
      ]
     },
     "execution_count": 63,
     "metadata": {},
     "output_type": "execute_result"
    }
   ],
   "source": [
    "CalcR2Area = Rch2DF[NewHdrs[3]].sum()\n",
    "CalcR2Area"
   ]
  },
  {
   "cell_type": "code",
   "execution_count": 64,
   "metadata": {},
   "outputs": [
    {
     "data": {
      "text/plain": [
       "2105468.75"
      ]
     },
     "execution_count": 64,
     "metadata": {},
     "output_type": "execute_result"
    }
   ],
   "source": [
    "CalcR3Area = Rch3DF[NewHdrs[3]].sum()\n",
    "CalcR3Area"
   ]
  },
  {
   "cell_type": "code",
   "execution_count": 65,
   "metadata": {},
   "outputs": [
    {
     "data": {
      "text/plain": [
       "1992187.5"
      ]
     },
     "execution_count": 65,
     "metadata": {},
     "output_type": "execute_result"
    }
   ],
   "source": [
    "CalcR4Area = Rch4DF[NewHdrs[3]].sum()\n",
    "CalcR4Area"
   ]
  },
  {
   "cell_type": "code",
   "execution_count": 66,
   "metadata": {},
   "outputs": [
    {
     "data": {
      "text/plain": [
       "496093.75"
      ]
     },
     "execution_count": 66,
     "metadata": {},
     "output_type": "execute_result"
    }
   ],
   "source": [
    "CalcR5Area = Rch5DF[NewHdrs[3]].sum()\n",
    "CalcR5Area"
   ]
  },
  {
   "cell_type": "code",
   "execution_count": 67,
   "metadata": {},
   "outputs": [],
   "source": [
    "Rch1DF.sort_index( inplace=True )\n",
    "Rch2DF.sort_index( inplace=True )\n",
    "Rch3DF.sort_index( inplace=True )\n",
    "Rch4DF.sort_index( inplace=True )\n",
    "Rch5DF.sort_index( inplace=True )"
   ]
  },
  {
   "cell_type": "code",
   "execution_count": 68,
   "metadata": {},
   "outputs": [
    {
     "data": {
      "text/html": [
       "<table border=\"1\" class=\"dataframe\">\n",
       "  <thead>\n",
       "    <tr style=\"text-align: right;\">\n",
       "      <th></th>\n",
       "      <th>iuzno</th>\n",
       "      <th>TopActive</th>\n",
       "      <th>SArea_m2</th>\n",
       "      <th>Weight</th>\n",
       "    </tr>\n",
       "  </thead>\n",
       "  <tbody>\n",
       "    <tr>\n",
       "      <th>850</th>\n",
       "      <td>810</td>\n",
       "      <td>3</td>\n",
       "      <td>15625.0</td>\n",
       "      <td>100.0</td>\n",
       "    </tr>\n",
       "    <tr>\n",
       "      <th>851</th>\n",
       "      <td>811</td>\n",
       "      <td>3</td>\n",
       "      <td>15625.0</td>\n",
       "      <td>100.0</td>\n",
       "    </tr>\n",
       "    <tr>\n",
       "      <th>852</th>\n",
       "      <td>812</td>\n",
       "      <td>3</td>\n",
       "      <td>15625.0</td>\n",
       "      <td>100.0</td>\n",
       "    </tr>\n",
       "    <tr>\n",
       "      <th>853</th>\n",
       "      <td>813</td>\n",
       "      <td>3</td>\n",
       "      <td>15625.0</td>\n",
       "      <td>100.0</td>\n",
       "    </tr>\n",
       "    <tr>\n",
       "      <th>854</th>\n",
       "      <td>814</td>\n",
       "      <td>3</td>\n",
       "      <td>15625.0</td>\n",
       "      <td>100.0</td>\n",
       "    </tr>\n",
       "  </tbody>\n",
       "</table>"
      ],
      "text/plain": [
       "<IPython.core.display.HTML object>"
      ]
     },
     "metadata": {},
     "output_type": "display_data"
    }
   ],
   "source": [
    "display( HTML( Rch1DF.head().to_html() ))"
   ]
  },
  {
   "cell_type": "code",
   "execution_count": 69,
   "metadata": {},
   "outputs": [
    {
     "data": {
      "text/html": [
       "<table border=\"1\" class=\"dataframe\">\n",
       "  <thead>\n",
       "    <tr style=\"text-align: right;\">\n",
       "      <th></th>\n",
       "      <th>iuzno</th>\n",
       "      <th>TopActive</th>\n",
       "      <th>SArea_m2</th>\n",
       "      <th>Weight</th>\n",
       "    </tr>\n",
       "  </thead>\n",
       "  <tbody>\n",
       "    <tr>\n",
       "      <th>11133</th>\n",
       "      <td>10503</td>\n",
       "      <td>6</td>\n",
       "      <td>3906.25</td>\n",
       "      <td>0.0</td>\n",
       "    </tr>\n",
       "    <tr>\n",
       "      <th>11136</th>\n",
       "      <td>10506</td>\n",
       "      <td>6</td>\n",
       "      <td>3906.25</td>\n",
       "      <td>0.0</td>\n",
       "    </tr>\n",
       "    <tr>\n",
       "      <th>11137</th>\n",
       "      <td>10507</td>\n",
       "      <td>6</td>\n",
       "      <td>3906.25</td>\n",
       "      <td>0.0</td>\n",
       "    </tr>\n",
       "    <tr>\n",
       "      <th>11140</th>\n",
       "      <td>10510</td>\n",
       "      <td>6</td>\n",
       "      <td>3906.25</td>\n",
       "      <td>0.0</td>\n",
       "    </tr>\n",
       "    <tr>\n",
       "      <th>11142</th>\n",
       "      <td>10512</td>\n",
       "      <td>6</td>\n",
       "      <td>3906.25</td>\n",
       "      <td>0.0</td>\n",
       "    </tr>\n",
       "  </tbody>\n",
       "</table>"
      ],
      "text/plain": [
       "<IPython.core.display.HTML object>"
      ]
     },
     "metadata": {},
     "output_type": "display_data"
    }
   ],
   "source": [
    "display( HTML( Rch5DF.head().to_html() ))"
   ]
  },
  {
   "cell_type": "markdown",
   "metadata": {},
   "source": [
    "Now output our RCHRES dictionary with mapping to the stream valley area and MODFLOW 6 cells within each area"
   ]
  },
  {
   "cell_type": "code",
   "execution_count": 70,
   "metadata": {},
   "outputs": [
    {
     "data": {
      "text/plain": [
       "['R001', 'R002', 'R003', 'R004', 'R005']"
      ]
     },
     "execution_count": 70,
     "metadata": {},
     "output_type": "execute_result"
    }
   ],
   "source": [
    "RTargIdList"
   ]
  },
  {
   "cell_type": "code",
   "execution_count": 71,
   "metadata": {},
   "outputs": [],
   "source": [
    "WS_RCHRES = dict()\n",
    "WS_RCHRES[RTargIdList[0]] = [ RGWExitList[0], CalcR1Area, Rch1DF ]\n",
    "WS_RCHRES[RTargIdList[1]] = [ RGWExitList[1], CalcR2Area, Rch2DF ]\n",
    "WS_RCHRES[RTargIdList[2]] = [ RGWExitList[2], CalcR3Area, Rch3DF ]\n",
    "WS_RCHRES[RTargIdList[3]] = [ RGWExitList[3], CalcR4Area, Rch4DF ]\n",
    "WS_RCHRES[RTargIdList[4]] = [ RGWExitList[4], CalcR5Area, Rch5DF ]"
   ]
  },
  {
   "cell_type": "code",
   "execution_count": 72,
   "metadata": {},
   "outputs": [
    {
     "data": {
      "text/plain": [
       "['R001', 'R002', 'R003', 'R004', 'R005']"
      ]
     },
     "execution_count": 72,
     "metadata": {},
     "output_type": "execute_result"
    }
   ],
   "source": [
    "list(WS_RCHRES.keys())"
   ]
  },
  {
   "cell_type": "code",
   "execution_count": 73,
   "metadata": {},
   "outputs": [
    {
     "data": {
      "text/plain": [
       "[0,\n",
       " 496093.75,\n",
       "        iuzno  TopActive  SArea_m2  Weight\n",
       " 11133  10503          6   3906.25     0.0\n",
       " 11136  10506          6   3906.25     0.0\n",
       " 11137  10507          6   3906.25     0.0\n",
       " 11140  10510          6   3906.25     0.0\n",
       " 11142  10512          6   3906.25     0.0\n",
       " ...      ...        ...       ...     ...\n",
       " 12273  11477          6   3906.25   100.0\n",
       " 12274  11478          6   3906.25   100.0\n",
       " 12275  11479          6   3906.25   100.0\n",
       " 12276  11480          5   3906.25     0.1\n",
       " 12277  11481          5   3906.25     0.1\n",
       " \n",
       " [127 rows x 4 columns]]"
      ]
     },
     "execution_count": 73,
     "metadata": {},
     "output_type": "execute_result"
    }
   ],
   "source": [
    "WS_RCHRES['R005']"
   ]
  },
  {
   "cell_type": "code",
   "execution_count": 74,
   "metadata": {},
   "outputs": [],
   "source": [
    "OutFile = \"cpWS_Rchres.pickle\"\n",
    "OutFP = os.path.normpath( os.path.join( OUT_DIR, OutFile ) )\n",
    "with open( OutFP, 'wb' ) as OP:\n",
    "    pickle.dump( WS_RCHRES, OP, pickle.HIGHEST_PROTOCOL )"
   ]
  },
  {
   "cell_type": "markdown",
   "metadata": {},
   "source": [
    "#### RCHRES Dictionary Shapefile"
   ]
  },
  {
   "cell_type": "markdown",
   "metadata": {},
   "source": [
    "Create a GeoDataFrame that combines and extends all of our dictionary entries for use in plotting and analysis of model results"
   ]
  },
  {
   "cell_type": "code",
   "execution_count": 75,
   "metadata": {},
   "outputs": [],
   "source": [
    "Rch1DF[NewHdrs[0]] = Rch1DF.index"
   ]
  },
  {
   "cell_type": "code",
   "execution_count": 76,
   "metadata": {},
   "outputs": [
    {
     "data": {
      "text/html": [
       "<table border=\"1\" class=\"dataframe\">\n",
       "  <thead>\n",
       "    <tr style=\"text-align: right;\">\n",
       "      <th></th>\n",
       "      <th>iuzno</th>\n",
       "      <th>TopActive</th>\n",
       "      <th>SArea_m2</th>\n",
       "      <th>Weight</th>\n",
       "      <th>CellID</th>\n",
       "    </tr>\n",
       "  </thead>\n",
       "  <tbody>\n",
       "    <tr>\n",
       "      <th>850</th>\n",
       "      <td>810</td>\n",
       "      <td>3</td>\n",
       "      <td>15625.0</td>\n",
       "      <td>100.0</td>\n",
       "      <td>850</td>\n",
       "    </tr>\n",
       "    <tr>\n",
       "      <th>851</th>\n",
       "      <td>811</td>\n",
       "      <td>3</td>\n",
       "      <td>15625.0</td>\n",
       "      <td>100.0</td>\n",
       "      <td>851</td>\n",
       "    </tr>\n",
       "    <tr>\n",
       "      <th>852</th>\n",
       "      <td>812</td>\n",
       "      <td>3</td>\n",
       "      <td>15625.0</td>\n",
       "      <td>100.0</td>\n",
       "      <td>852</td>\n",
       "    </tr>\n",
       "    <tr>\n",
       "      <th>853</th>\n",
       "      <td>813</td>\n",
       "      <td>3</td>\n",
       "      <td>15625.0</td>\n",
       "      <td>100.0</td>\n",
       "      <td>853</td>\n",
       "    </tr>\n",
       "    <tr>\n",
       "      <th>854</th>\n",
       "      <td>814</td>\n",
       "      <td>3</td>\n",
       "      <td>15625.0</td>\n",
       "      <td>100.0</td>\n",
       "      <td>854</td>\n",
       "    </tr>\n",
       "  </tbody>\n",
       "</table>"
      ],
      "text/plain": [
       "<IPython.core.display.HTML object>"
      ]
     },
     "metadata": {},
     "output_type": "display_data"
    }
   ],
   "source": [
    "display( HTML( Rch1DF.head().to_html() ) )"
   ]
  },
  {
   "cell_type": "code",
   "execution_count": 77,
   "metadata": {},
   "outputs": [],
   "source": [
    "Rch2DF[NewHdrs[0]] = Rch2DF.index\n",
    "Rch3DF[NewHdrs[0]] = Rch3DF.index\n",
    "Rch4DF[NewHdrs[0]] = Rch4DF.index\n",
    "Rch5DF[NewHdrs[0]] = Rch5DF.index"
   ]
  },
  {
   "cell_type": "code",
   "execution_count": 78,
   "metadata": {},
   "outputs": [],
   "source": [
    "Rch1DF['TargId'] = RTargIdList[0]\n",
    "Rch2DF['TargId'] = RTargIdList[1]\n",
    "Rch3DF['TargId'] = RTargIdList[2]\n",
    "Rch4DF['TargId'] = RTargIdList[3]\n",
    "Rch5DF['TargId'] = RTargIdList[4]"
   ]
  },
  {
   "cell_type": "markdown",
   "metadata": {},
   "source": [
    "Calculate the combined cell area and hydrologic soil weight for each cell. This is the same algorithm as used within the coupled code to distribute losses from RCHRES to groundwater through the specified RCHRES exit."
   ]
  },
  {
   "cell_type": "code",
   "execution_count": 79,
   "metadata": {},
   "outputs": [],
   "source": [
    "CCombWeight = lambda TotA, TotW, cA, cW: 0.5 * ( ( cA / TotA ) + ( cW / TotW ) )"
   ]
  },
  {
   "cell_type": "code",
   "execution_count": 80,
   "metadata": {},
   "outputs": [
    {
     "data": {
      "text/plain": [
       "(22802.5, 2702.1)"
      ]
     },
     "execution_count": 80,
     "metadata": {},
     "output_type": "execute_result"
    }
   ],
   "source": [
    "Rch1TotWght = Rch1DF[NewHdrs[4]].sum()\n",
    "Rch2TotWght = Rch2DF[NewHdrs[4]].sum()\n",
    "Rch3TotWght = Rch3DF[NewHdrs[4]].sum()\n",
    "Rch4TotWght = Rch4DF[NewHdrs[4]].sum()\n",
    "Rch5TotWght = Rch5DF[NewHdrs[4]].sum()\n",
    "Rch1TotWght, Rch5TotWght "
   ]
  },
  {
   "cell_type": "code",
   "execution_count": 81,
   "metadata": {},
   "outputs": [],
   "source": [
    "Rch1DF[\"CombWeight\"] = Rch1DF.apply( lambda row: CCombWeight( CalcR1Area, Rch1TotWght, \n",
    "                                                              row[NewHdrs[3]], row[NewHdrs[4]] ), axis=1 )"
   ]
  },
  {
   "cell_type": "code",
   "execution_count": 82,
   "metadata": {},
   "outputs": [],
   "source": [
    "Rch2DF[\"CombWeight\"] = Rch2DF.apply( lambda row: CCombWeight( CalcR2Area, Rch2TotWght, \n",
    "                                                              row[NewHdrs[3]], row[NewHdrs[4]] ), axis=1 )"
   ]
  },
  {
   "cell_type": "code",
   "execution_count": 83,
   "metadata": {},
   "outputs": [],
   "source": [
    "Rch3DF[\"CombWeight\"] = Rch3DF.apply( lambda row: CCombWeight( CalcR3Area, Rch3TotWght, \n",
    "                                                              row[NewHdrs[3]], row[NewHdrs[4]] ), axis=1 )"
   ]
  },
  {
   "cell_type": "code",
   "execution_count": 84,
   "metadata": {},
   "outputs": [],
   "source": [
    "Rch4DF[\"CombWeight\"] = Rch4DF.apply( lambda row: CCombWeight( CalcR4Area, Rch4TotWght, \n",
    "                                                              row[NewHdrs[3]], row[NewHdrs[4]] ), axis=1 )"
   ]
  },
  {
   "cell_type": "code",
   "execution_count": 85,
   "metadata": {},
   "outputs": [],
   "source": [
    "Rch5DF[\"CombWeight\"] = Rch5DF.apply( lambda row: CCombWeight( CalcR5Area, Rch5TotWght, \n",
    "                                                              row[NewHdrs[3]], row[NewHdrs[4]] ), axis=1 )"
   ]
  },
  {
   "cell_type": "markdown",
   "metadata": {},
   "source": [
    "Combined or concatenate to make one DataFrame"
   ]
  },
  {
   "cell_type": "code",
   "execution_count": 86,
   "metadata": {},
   "outputs": [],
   "source": [
    "CCList = [ Rch1DF, Rch2DF, Rch3DF, Rch4DF, Rch5DF ]"
   ]
  },
  {
   "cell_type": "code",
   "execution_count": 87,
   "metadata": {},
   "outputs": [],
   "source": [
    "AllRchDF = pd.concat( CCList, ignore_index=True )"
   ]
  },
  {
   "cell_type": "code",
   "execution_count": 88,
   "metadata": {},
   "outputs": [
    {
     "data": {
      "text/html": [
       "<table border=\"1\" class=\"dataframe\">\n",
       "  <thead>\n",
       "    <tr style=\"text-align: right;\">\n",
       "      <th></th>\n",
       "      <th>iuzno</th>\n",
       "      <th>TopActive</th>\n",
       "      <th>SArea_m2</th>\n",
       "      <th>Weight</th>\n",
       "      <th>CellID</th>\n",
       "      <th>TargId</th>\n",
       "      <th>CombWeight</th>\n",
       "    </tr>\n",
       "  </thead>\n",
       "  <tbody>\n",
       "    <tr>\n",
       "      <th>0</th>\n",
       "      <td>810</td>\n",
       "      <td>3</td>\n",
       "      <td>15625.0</td>\n",
       "      <td>100.0</td>\n",
       "      <td>850</td>\n",
       "      <td>R001</td>\n",
       "      <td>0.004242</td>\n",
       "    </tr>\n",
       "    <tr>\n",
       "      <th>1</th>\n",
       "      <td>811</td>\n",
       "      <td>3</td>\n",
       "      <td>15625.0</td>\n",
       "      <td>100.0</td>\n",
       "      <td>851</td>\n",
       "      <td>R001</td>\n",
       "      <td>0.004242</td>\n",
       "    </tr>\n",
       "    <tr>\n",
       "      <th>2</th>\n",
       "      <td>812</td>\n",
       "      <td>3</td>\n",
       "      <td>15625.0</td>\n",
       "      <td>100.0</td>\n",
       "      <td>852</td>\n",
       "      <td>R001</td>\n",
       "      <td>0.004242</td>\n",
       "    </tr>\n",
       "    <tr>\n",
       "      <th>3</th>\n",
       "      <td>813</td>\n",
       "      <td>3</td>\n",
       "      <td>15625.0</td>\n",
       "      <td>100.0</td>\n",
       "      <td>853</td>\n",
       "      <td>R001</td>\n",
       "      <td>0.004242</td>\n",
       "    </tr>\n",
       "    <tr>\n",
       "      <th>4</th>\n",
       "      <td>814</td>\n",
       "      <td>3</td>\n",
       "      <td>15625.0</td>\n",
       "      <td>100.0</td>\n",
       "      <td>854</td>\n",
       "      <td>R001</td>\n",
       "      <td>0.004242</td>\n",
       "    </tr>\n",
       "  </tbody>\n",
       "</table>"
      ],
      "text/plain": [
       "<IPython.core.display.HTML object>"
      ]
     },
     "metadata": {},
     "output_type": "display_data"
    }
   ],
   "source": [
    "display( HTML( AllRchDF.head().to_html() ) )"
   ]
  },
  {
   "cell_type": "code",
   "execution_count": 89,
   "metadata": {},
   "outputs": [
    {
     "data": {
      "text/html": [
       "<table border=\"1\" class=\"dataframe\">\n",
       "  <thead>\n",
       "    <tr style=\"text-align: right;\">\n",
       "      <th></th>\n",
       "      <th>iuzno</th>\n",
       "      <th>TopActive</th>\n",
       "      <th>SArea_m2</th>\n",
       "      <th>Weight</th>\n",
       "      <th>CellID</th>\n",
       "      <th>TargId</th>\n",
       "      <th>CombWeight</th>\n",
       "    </tr>\n",
       "  </thead>\n",
       "  <tbody>\n",
       "    <tr>\n",
       "      <th>1325</th>\n",
       "      <td>11477</td>\n",
       "      <td>6</td>\n",
       "      <td>3906.25</td>\n",
       "      <td>100.0</td>\n",
       "      <td>12273</td>\n",
       "      <td>R005</td>\n",
       "      <td>0.022441</td>\n",
       "    </tr>\n",
       "    <tr>\n",
       "      <th>1326</th>\n",
       "      <td>11478</td>\n",
       "      <td>6</td>\n",
       "      <td>3906.25</td>\n",
       "      <td>100.0</td>\n",
       "      <td>12274</td>\n",
       "      <td>R005</td>\n",
       "      <td>0.022441</td>\n",
       "    </tr>\n",
       "    <tr>\n",
       "      <th>1327</th>\n",
       "      <td>11479</td>\n",
       "      <td>6</td>\n",
       "      <td>3906.25</td>\n",
       "      <td>100.0</td>\n",
       "      <td>12275</td>\n",
       "      <td>R005</td>\n",
       "      <td>0.022441</td>\n",
       "    </tr>\n",
       "    <tr>\n",
       "      <th>1328</th>\n",
       "      <td>11480</td>\n",
       "      <td>5</td>\n",
       "      <td>3906.25</td>\n",
       "      <td>0.1</td>\n",
       "      <td>12276</td>\n",
       "      <td>R005</td>\n",
       "      <td>0.003956</td>\n",
       "    </tr>\n",
       "    <tr>\n",
       "      <th>1329</th>\n",
       "      <td>11481</td>\n",
       "      <td>5</td>\n",
       "      <td>3906.25</td>\n",
       "      <td>0.1</td>\n",
       "      <td>12277</td>\n",
       "      <td>R005</td>\n",
       "      <td>0.003956</td>\n",
       "    </tr>\n",
       "  </tbody>\n",
       "</table>"
      ],
      "text/plain": [
       "<IPython.core.display.HTML object>"
      ]
     },
     "metadata": {},
     "output_type": "display_data"
    }
   ],
   "source": [
    "display( HTML( AllRchDF.tail().to_html() ) )"
   ]
  },
  {
   "cell_type": "code",
   "execution_count": 90,
   "metadata": {},
   "outputs": [
    {
     "data": {
      "text/plain": [
       "1.0"
      ]
     },
     "execution_count": 90,
     "metadata": {},
     "output_type": "execute_result"
    }
   ],
   "source": [
    "AllRchDF[AllRchDF['TargId'] == 'R005']['CombWeight'].sum()"
   ]
  },
  {
   "cell_type": "code",
   "execution_count": 91,
   "metadata": {},
   "outputs": [
    {
     "data": {
      "text/plain": [
       "5.0"
      ]
     },
     "execution_count": 91,
     "metadata": {},
     "output_type": "execute_result"
    }
   ],
   "source": [
    "AllRchDF['CombWeight'].sum()"
   ]
  },
  {
   "cell_type": "markdown",
   "metadata": {},
   "source": [
    "Get the geometry objects from the 2D grid so that can make a GeoDataFrame and save to a shapefile"
   ]
  },
  {
   "cell_type": "code",
   "execution_count": 92,
   "metadata": {},
   "outputs": [],
   "source": [
    "ARCellIDs = AllRchDF[NewHdrs[0]].tolist()"
   ]
  },
  {
   "cell_type": "code",
   "execution_count": 93,
   "metadata": {},
   "outputs": [],
   "source": [
    "ARCellGeom = list()"
   ]
  },
  {
   "cell_type": "code",
   "execution_count": 94,
   "metadata": {},
   "outputs": [],
   "source": [
    "for jJ in ARCellIDs:\n",
    "    gInd = gpd_Grid2D[gpd_Grid2D[NewHdrs[0]] == jJ].index[0]\n",
    "    ARCellGeom.append( gpd_Grid2D.at[gInd, \"geometry\"] )\n",
    "# end for"
   ]
  },
  {
   "cell_type": "code",
   "execution_count": 95,
   "metadata": {},
   "outputs": [],
   "source": [
    "gpd_ReachMap = gpd.GeoDataFrame( AllRchDF, geometry=ARCellGeom )\n",
    "gpd_ReachMap.crs = ProjCRS"
   ]
  },
  {
   "cell_type": "code",
   "execution_count": 96,
   "metadata": {},
   "outputs": [
    {
     "data": {
      "text/plain": [
       "<AxesSubplot: >"
      ]
     },
     "execution_count": 96,
     "metadata": {},
     "output_type": "execute_result"
    },
    {
     "data": {
      "image/png": "[encoded data removed]",
      "text/plain": [
       "<Figure size 640x480 with 1 Axes>"
      ]
     },
     "metadata": {},
     "output_type": "display_data"
    }
   ],
   "source": [
    "gpd_ReachMap.plot( column='TargId' )"
   ]
  },
  {
   "cell_type": "code",
   "execution_count": 97,
   "metadata": {},
   "outputs": [
    {
     "data": {
      "text/html": [
       "<table border=\"1\" class=\"dataframe\">\n",
       "  <thead>\n",
       "    <tr style=\"text-align: right;\">\n",
       "      <th></th>\n",
       "      <th>iuzno</th>\n",
       "      <th>TopActive</th>\n",
       "      <th>SArea_m2</th>\n",
       "      <th>Weight</th>\n",
       "      <th>CellID</th>\n",
       "      <th>CombWeight</th>\n",
       "    </tr>\n",
       "  </thead>\n",
       "  <tbody>\n",
       "    <tr>\n",
       "      <th>count</th>\n",
       "      <td>1330.000000</td>\n",
       "      <td>1330.000000</td>\n",
       "      <td>1330.000000</td>\n",
       "      <td>1330.000000</td>\n",
       "      <td>1330.000000</td>\n",
       "      <td>1330.000000</td>\n",
       "    </tr>\n",
       "    <tr>\n",
       "      <th>mean</th>\n",
       "      <td>6475.620301</td>\n",
       "      <td>4.497744</td>\n",
       "      <td>10056.390977</td>\n",
       "      <td>75.728045</td>\n",
       "      <td>6708.475188</td>\n",
       "      <td>0.003759</td>\n",
       "    </tr>\n",
       "    <tr>\n",
       "      <th>std</th>\n",
       "      <td>3074.166683</td>\n",
       "      <td>1.040379</td>\n",
       "      <td>5854.357359</td>\n",
       "      <td>42.872818</td>\n",
       "      <td>3267.221915</td>\n",
       "      <td>0.003187</td>\n",
       "    </tr>\n",
       "    <tr>\n",
       "      <th>min</th>\n",
       "      <td>810.000000</td>\n",
       "      <td>2.000000</td>\n",
       "      <td>3906.250000</td>\n",
       "      <td>0.000000</td>\n",
       "      <td>850.000000</td>\n",
       "      <td>0.000980</td>\n",
       "    </tr>\n",
       "    <tr>\n",
       "      <th>25%</th>\n",
       "      <td>4261.250000</td>\n",
       "      <td>4.000000</td>\n",
       "      <td>3906.250000</td>\n",
       "      <td>100.000000</td>\n",
       "      <td>4345.250000</td>\n",
       "      <td>0.002459</td>\n",
       "    </tr>\n",
       "    <tr>\n",
       "      <th>50%</th>\n",
       "      <td>6970.500000</td>\n",
       "      <td>5.000000</td>\n",
       "      <td>15625.000000</td>\n",
       "      <td>100.000000</td>\n",
       "      <td>7121.500000</td>\n",
       "      <td>0.003296</td>\n",
       "    </tr>\n",
       "    <tr>\n",
       "      <th>75%</th>\n",
       "      <td>9540.750000</td>\n",
       "      <td>5.000000</td>\n",
       "      <td>15625.000000</td>\n",
       "      <td>100.000000</td>\n",
       "      <td>9944.750000</td>\n",
       "      <td>0.004242</td>\n",
       "    </tr>\n",
       "    <tr>\n",
       "      <th>max</th>\n",
       "      <td>11481.000000</td>\n",
       "      <td>6.000000</td>\n",
       "      <td>15625.000000</td>\n",
       "      <td>100.000000</td>\n",
       "      <td>12277.000000</td>\n",
       "      <td>0.022441</td>\n",
       "    </tr>\n",
       "  </tbody>\n",
       "</table>"
      ],
      "text/plain": [
       "<IPython.core.display.HTML object>"
      ]
     },
     "metadata": {},
     "output_type": "display_data"
    }
   ],
   "source": [
    "display( HTML( gpd_ReachMap.describe().to_html() ) )"
   ]
  },
  {
   "cell_type": "code",
   "execution_count": 98,
   "metadata": {},
   "outputs": [],
   "source": [
    "OutFile = \"cpRCHRESMap.shp\"\n",
    "OutFP = os.path.normpath( os.path.join( OUT_DIR, OutFile ) )\n",
    "gpd_ReachMap.to_file( OutFP )"
   ]
  },
  {
   "cell_type": "markdown",
   "metadata": {},
   "source": [
    "### HRUs"
   ]
  },
  {
   "cell_type": "code",
   "execution_count": 99,
   "metadata": {},
   "outputs": [
    {
     "data": {
      "text/html": [
       "<table border=\"1\" class=\"dataframe\">\n",
       "  <thead>\n",
       "    <tr style=\"text-align: right;\">\n",
       "      <th></th>\n",
       "      <th>CellID</th>\n",
       "      <th>TopAct</th>\n",
       "      <th>iuzno</th>\n",
       "      <th>HSoil</th>\n",
       "      <th>FtTerrOut</th>\n",
       "      <th>HRU</th>\n",
       "      <th>CellArea_m2</th>\n",
       "      <th>Weight</th>\n",
       "    </tr>\n",
       "  </thead>\n",
       "  <tbody>\n",
       "    <tr>\n",
       "      <th>0</th>\n",
       "      <td>1</td>\n",
       "      <td>1</td>\n",
       "      <td>-1</td>\n",
       "      <td>D</td>\n",
       "      <td>0</td>\n",
       "      <td>1</td>\n",
       "      <td>1000000.0</td>\n",
       "      <td>0.1</td>\n",
       "    </tr>\n",
       "    <tr>\n",
       "      <th>1</th>\n",
       "      <td>2</td>\n",
       "      <td>1</td>\n",
       "      <td>-1</td>\n",
       "      <td>D</td>\n",
       "      <td>0</td>\n",
       "      <td>1</td>\n",
       "      <td>1000000.0</td>\n",
       "      <td>0.1</td>\n",
       "    </tr>\n",
       "    <tr>\n",
       "      <th>2</th>\n",
       "      <td>3</td>\n",
       "      <td>1</td>\n",
       "      <td>-1</td>\n",
       "      <td>D</td>\n",
       "      <td>0</td>\n",
       "      <td>1</td>\n",
       "      <td>1000000.0</td>\n",
       "      <td>0.1</td>\n",
       "    </tr>\n",
       "    <tr>\n",
       "      <th>3</th>\n",
       "      <td>4</td>\n",
       "      <td>1</td>\n",
       "      <td>-1</td>\n",
       "      <td>D</td>\n",
       "      <td>0</td>\n",
       "      <td>1</td>\n",
       "      <td>1000000.0</td>\n",
       "      <td>0.1</td>\n",
       "    </tr>\n",
       "    <tr>\n",
       "      <th>4</th>\n",
       "      <td>5</td>\n",
       "      <td>1</td>\n",
       "      <td>1</td>\n",
       "      <td>D</td>\n",
       "      <td>0</td>\n",
       "      <td>1</td>\n",
       "      <td>1000000.0</td>\n",
       "      <td>0.1</td>\n",
       "    </tr>\n",
       "  </tbody>\n",
       "</table>"
      ],
      "text/plain": [
       "<IPython.core.display.HTML object>"
      ]
     },
     "metadata": {},
     "output_type": "display_data"
    }
   ],
   "source": [
    "V1Cols = list( gpd_Grid2D.columns )\n",
    "V1Cols.remove(\"geometry\")\n",
    "display( HTML( gpd_Grid2D[V1Cols].head().to_html() ) )"
   ]
  },
  {
   "cell_type": "code",
   "execution_count": 100,
   "metadata": {},
   "outputs": [
    {
     "data": {
      "text/html": [
       "<table border=\"1\" class=\"dataframe\">\n",
       "  <thead>\n",
       "    <tr style=\"text-align: right;\">\n",
       "      <th></th>\n",
       "      <th>CellID</th>\n",
       "      <th>TopAct</th>\n",
       "      <th>iuzno</th>\n",
       "      <th>FtTerrOut</th>\n",
       "      <th>HRU</th>\n",
       "      <th>CellArea_m2</th>\n",
       "      <th>Weight</th>\n",
       "    </tr>\n",
       "  </thead>\n",
       "  <tbody>\n",
       "    <tr>\n",
       "      <th>count</th>\n",
       "      <td>12347.000000</td>\n",
       "      <td>12347.000000</td>\n",
       "      <td>12347.000000</td>\n",
       "      <td>12347.000000</td>\n",
       "      <td>12347.000000</td>\n",
       "      <td>12347.000000</td>\n",
       "      <td>12347.000000</td>\n",
       "    </tr>\n",
       "    <tr>\n",
       "      <th>mean</th>\n",
       "      <td>6174.000000</td>\n",
       "      <td>3.414919</td>\n",
       "      <td>5389.536325</td>\n",
       "      <td>0.037661</td>\n",
       "      <td>7.201587</td>\n",
       "      <td>41633.658480</td>\n",
       "      <td>18.647882</td>\n",
       "    </tr>\n",
       "    <tr>\n",
       "      <th>std</th>\n",
       "      <td>3564.416221</td>\n",
       "      <td>1.157294</td>\n",
       "      <td>3522.120390</td>\n",
       "      <td>0.190383</td>\n",
       "      <td>3.748419</td>\n",
       "      <td>110665.319566</td>\n",
       "      <td>38.842187</td>\n",
       "    </tr>\n",
       "    <tr>\n",
       "      <th>min</th>\n",
       "      <td>1.000000</td>\n",
       "      <td>-1.000000</td>\n",
       "      <td>-1.000000</td>\n",
       "      <td>0.000000</td>\n",
       "      <td>-1.000000</td>\n",
       "      <td>3906.250000</td>\n",
       "      <td>0.000000</td>\n",
       "    </tr>\n",
       "    <tr>\n",
       "      <th>25%</th>\n",
       "      <td>3087.500000</td>\n",
       "      <td>3.000000</td>\n",
       "      <td>2276.500000</td>\n",
       "      <td>0.000000</td>\n",
       "      <td>4.000000</td>\n",
       "      <td>15625.000000</td>\n",
       "      <td>0.100000</td>\n",
       "    </tr>\n",
       "    <tr>\n",
       "      <th>50%</th>\n",
       "      <td>6174.000000</td>\n",
       "      <td>3.000000</td>\n",
       "      <td>5363.000000</td>\n",
       "      <td>0.000000</td>\n",
       "      <td>8.000000</td>\n",
       "      <td>15625.000000</td>\n",
       "      <td>0.100000</td>\n",
       "    </tr>\n",
       "    <tr>\n",
       "      <th>75%</th>\n",
       "      <td>9260.500000</td>\n",
       "      <td>4.000000</td>\n",
       "      <td>8449.500000</td>\n",
       "      <td>0.000000</td>\n",
       "      <td>10.000000</td>\n",
       "      <td>62500.000000</td>\n",
       "      <td>0.100000</td>\n",
       "    </tr>\n",
       "    <tr>\n",
       "      <th>max</th>\n",
       "      <td>12347.000000</td>\n",
       "      <td>6.000000</td>\n",
       "      <td>11536.000000</td>\n",
       "      <td>1.000000</td>\n",
       "      <td>12.000000</td>\n",
       "      <td>1000000.000000</td>\n",
       "      <td>100.000000</td>\n",
       "    </tr>\n",
       "  </tbody>\n",
       "</table>"
      ],
      "text/plain": [
       "<IPython.core.display.HTML object>"
      ]
     },
     "metadata": {},
     "output_type": "display_data"
    }
   ],
   "source": [
    "display( HTML( gpd_Grid2D.describe().to_html() ) )"
   ]
  },
  {
   "cell_type": "markdown",
   "metadata": {},
   "source": [
    "Go through the 2D grid and determine our list of unique CellIDs for each HRU. CellIDs where iuzno < 1, TopAct < 1, or where the CellID is already used for one of the defined Reach areas should be skipped or dropped."
   ]
  },
  {
   "cell_type": "code",
   "execution_count": 101,
   "metadata": {},
   "outputs": [
    {
     "data": {
      "text/plain": [
       "['P001',\n",
       " 'P002',\n",
       " 'P003',\n",
       " 'P004',\n",
       " 'P005',\n",
       " 'P006',\n",
       " 'P007',\n",
       " 'P008',\n",
       " 'P009',\n",
       " 'P010',\n",
       " 'P011',\n",
       " 'P012']"
      ]
     },
     "execution_count": 101,
     "metadata": {},
     "output_type": "execute_result"
    }
   ],
   "source": [
    "PTargIdList = [ \"P{:03d}\".format( x ) for x in range(1, 13, 1) ]\n",
    "PTargIdList"
   ]
  },
  {
   "cell_type": "code",
   "execution_count": 102,
   "metadata": {},
   "outputs": [],
   "source": [
    "HRU_1_CIDs = list()\n",
    "HRU_2_CIDs = list()\n",
    "HRU_3_CIDs = list()\n",
    "HRU_4_CIDs = list()\n",
    "HRU_5_CIDs = list()\n",
    "HRU_6_CIDs = list()\n",
    "HRU_7_CIDs = list()\n",
    "HRU_8_CIDs = list()\n",
    "HRU_9_CIDs = list()\n",
    "HRU_10_CIDs = list()\n",
    "HRU_11_CIDs = list()\n",
    "HRU_12_CIDs = list()"
   ]
  },
  {
   "cell_type": "code",
   "execution_count": 103,
   "metadata": {},
   "outputs": [
    {
     "data": {
      "text/plain": [
       "12347"
      ]
     },
     "execution_count": 103,
     "metadata": {},
     "output_type": "execute_result"
    }
   ],
   "source": [
    "NumGC = len( gpd_Grid2D )\n",
    "NumGC"
   ]
  },
  {
   "cell_type": "code",
   "execution_count": 104,
   "metadata": {},
   "outputs": [],
   "source": [
    "for jJ in range(NumGC):\n",
    "    cRow = gpd_Grid2D.loc[jJ]\n",
    "    topA = int( cRow['TopAct'] )\n",
    "    if topA < 1:\n",
    "        continue\n",
    "    iuzno = int( cRow['iuzno'] )\n",
    "    if iuzno < 1:\n",
    "        continue\n",
    "    cHRU = int( cRow['HRU'] )\n",
    "    if cHRU < 1:\n",
    "        continue\n",
    "    # get the cell id\n",
    "    cCId = int( cRow['CellID'] )\n",
    "    # now check if already in one of the river reaches\n",
    "    if cCId in Rch1CellID:\n",
    "        continue\n",
    "    elif cCId in Rch2CellID:\n",
    "        continue\n",
    "    elif cCId in Rch3CellID:\n",
    "        continue\n",
    "    elif cCId in Rch4CellID:\n",
    "        continue\n",
    "    elif cCId in Rch5CellID:\n",
    "        continue\n",
    "    # now can add to our list based on HRU\n",
    "    if cHRU == 1:\n",
    "        HRU_1_CIDs.append( cCId )\n",
    "    elif cHRU == 2:\n",
    "        HRU_2_CIDs.append( cCId )\n",
    "    elif cHRU == 3:\n",
    "        HRU_3_CIDs.append( cCId )\n",
    "    elif cHRU == 4:\n",
    "        HRU_4_CIDs.append( cCId )\n",
    "    elif cHRU == 5:\n",
    "        HRU_5_CIDs.append( cCId )\n",
    "    elif cHRU == 6:\n",
    "        HRU_6_CIDs.append( cCId )\n",
    "    elif cHRU == 7:\n",
    "        HRU_7_CIDs.append( cCId )\n",
    "    elif cHRU == 8:\n",
    "        HRU_8_CIDs.append( cCId )\n",
    "    elif cHRU == 9:\n",
    "        HRU_9_CIDs.append( cCId )\n",
    "    elif cHRU == 10:\n",
    "        HRU_10_CIDs.append( cCId )\n",
    "    elif cHRU == 11:\n",
    "        HRU_11_CIDs.append( cCId )\n",
    "    elif cHRU == 12:\n",
    "        HRU_12_CIDs.append( cCId )\n",
    "    # end if\n",
    "# end for"
   ]
  },
  {
   "cell_type": "code",
   "execution_count": 105,
   "metadata": {},
   "outputs": [
    {
     "data": {
      "text/plain": [
       "(520, 791, 437, 579, 415, 476, 1110, 1551, 738, 1181, 1010, 1398)"
      ]
     },
     "execution_count": 105,
     "metadata": {},
     "output_type": "execute_result"
    }
   ],
   "source": [
    "NumH1 = len( HRU_1_CIDs )\n",
    "NumH2 = len( HRU_2_CIDs )\n",
    "NumH3 = len( HRU_3_CIDs )\n",
    "NumH4 = len( HRU_4_CIDs )\n",
    "NumH5 = len( HRU_5_CIDs )\n",
    "NumH6 = len( HRU_6_CIDs )\n",
    "NumH7 = len( HRU_7_CIDs )\n",
    "NumH8 = len( HRU_8_CIDs )\n",
    "NumH9 = len( HRU_9_CIDs )\n",
    "NumH10 = len( HRU_10_CIDs )\n",
    "NumH11 = len( HRU_11_CIDs )\n",
    "NumH12 = len( HRU_12_CIDs )\n",
    "NumH1, NumH2, NumH3, NumH4, NumH5, NumH6, NumH7, NumH8, NumH9, NumH10, NumH11, NumH12"
   ]
  },
  {
   "cell_type": "code",
   "execution_count": 106,
   "metadata": {},
   "outputs": [
    {
     "data": {
      "text/plain": [
       "10206"
      ]
     },
     "execution_count": 106,
     "metadata": {},
     "output_type": "execute_result"
    }
   ],
   "source": [
    "TotalHRUIds = NumH1 + NumH2 + NumH3 + NumH4 + NumH5 + NumH6 + NumH7 + NumH8 + NumH9 + NumH10 + NumH11 + NumH12\n",
    "TotalHRUIds"
   ]
  },
  {
   "cell_type": "code",
   "execution_count": 107,
   "metadata": {},
   "outputs": [
    {
     "data": {
      "text/plain": [
       "1330"
      ]
     },
     "execution_count": 107,
     "metadata": {},
     "output_type": "execute_result"
    }
   ],
   "source": [
    "TotRivers = len( gpd_ReachMap )\n",
    "TotRivers"
   ]
  },
  {
   "cell_type": "code",
   "execution_count": 108,
   "metadata": {},
   "outputs": [
    {
     "data": {
      "text/plain": [
       "11536"
      ]
     },
     "execution_count": 108,
     "metadata": {},
     "output_type": "execute_result"
    }
   ],
   "source": [
    "TotalHRUIds + TotRivers"
   ]
  },
  {
   "cell_type": "code",
   "execution_count": 109,
   "metadata": {},
   "outputs": [],
   "source": [
    "uzf = mf6.get_package( 'uzf' )"
   ]
  },
  {
   "cell_type": "code",
   "execution_count": 110,
   "metadata": {},
   "outputs": [
    {
     "data": {
      "text/plain": [
       "11077"
      ]
     },
     "execution_count": 110,
     "metadata": {},
     "output_type": "execute_result"
    }
   ],
   "source": [
    "numuzf = uzf.nuzfcells.get_data()\n",
    "numuzf"
   ]
  },
  {
   "cell_type": "code",
   "execution_count": 111,
   "metadata": {},
   "outputs": [],
   "source": [
    "HRU1Grd = gpd_Grid2D[gpd_Grid2D['CellID'].isin(HRU_1_CIDs)].copy()\n",
    "HRU2Grd = gpd_Grid2D[gpd_Grid2D['CellID'].isin(HRU_2_CIDs)].copy()\n",
    "HRU3Grd = gpd_Grid2D[gpd_Grid2D['CellID'].isin(HRU_3_CIDs)].copy()\n",
    "HRU4Grd = gpd_Grid2D[gpd_Grid2D['CellID'].isin(HRU_4_CIDs)].copy()\n",
    "HRU5Grd = gpd_Grid2D[gpd_Grid2D['CellID'].isin(HRU_5_CIDs)].copy()\n",
    "HRU6Grd = gpd_Grid2D[gpd_Grid2D['CellID'].isin(HRU_6_CIDs)].copy()\n",
    "HRU7Grd = gpd_Grid2D[gpd_Grid2D['CellID'].isin(HRU_7_CIDs)].copy()\n",
    "HRU8Grd = gpd_Grid2D[gpd_Grid2D['CellID'].isin(HRU_8_CIDs)].copy()\n",
    "HRU9Grd = gpd_Grid2D[gpd_Grid2D['CellID'].isin(HRU_9_CIDs)].copy()\n",
    "HRU10Grd = gpd_Grid2D[gpd_Grid2D['CellID'].isin(HRU_10_CIDs)].copy()\n",
    "HRU11Grd = gpd_Grid2D[gpd_Grid2D['CellID'].isin(HRU_11_CIDs)].copy()\n",
    "HRU12Grd = gpd_Grid2D[gpd_Grid2D['CellID'].isin(HRU_12_CIDs)].copy()"
   ]
  },
  {
   "cell_type": "code",
   "execution_count": 112,
   "metadata": {},
   "outputs": [],
   "source": [
    "NumUSG1 = len( HRU1Grd[\"CellID\"].unique() )\n",
    "NumUSG2 = len( HRU2Grd[\"CellID\"].unique() )\n",
    "NumUSG3 = len( HRU3Grd[\"CellID\"].unique() )\n",
    "NumUSG4 = len( HRU4Grd[\"CellID\"].unique() )\n",
    "NumUSG5 = len( HRU5Grd[\"CellID\"].unique() )\n",
    "NumUSG6 = len( HRU6Grd[\"CellID\"].unique() )\n",
    "NumUSG7 = len( HRU7Grd[\"CellID\"].unique() )\n",
    "NumUSG8 = len( HRU8Grd[\"CellID\"].unique() )\n",
    "NumUSG9 = len( HRU9Grd[\"CellID\"].unique() )\n",
    "NumUSG10 = len( HRU10Grd[\"CellID\"].unique() )\n",
    "NumUSG11 = len( HRU11Grd[\"CellID\"].unique() )\n",
    "NumUSG12 = len( HRU12Grd[\"CellID\"].unique() )"
   ]
  },
  {
   "cell_type": "code",
   "execution_count": 113,
   "metadata": {},
   "outputs": [
    {
     "data": {
      "text/plain": [
       "(520, 520)"
      ]
     },
     "execution_count": 113,
     "metadata": {},
     "output_type": "execute_result"
    }
   ],
   "source": [
    "NumUSG1, NumH1"
   ]
  },
  {
   "cell_type": "code",
   "execution_count": 114,
   "metadata": {},
   "outputs": [
    {
     "data": {
      "text/plain": [
       "(791, 791)"
      ]
     },
     "execution_count": 114,
     "metadata": {},
     "output_type": "execute_result"
    }
   ],
   "source": [
    "NumUSG2, NumH2"
   ]
  },
  {
   "cell_type": "code",
   "execution_count": 115,
   "metadata": {},
   "outputs": [
    {
     "data": {
      "text/plain": [
       "(437, 437)"
      ]
     },
     "execution_count": 115,
     "metadata": {},
     "output_type": "execute_result"
    }
   ],
   "source": [
    "NumUSG3, NumH3"
   ]
  },
  {
   "cell_type": "code",
   "execution_count": 116,
   "metadata": {},
   "outputs": [
    {
     "data": {
      "text/plain": [
       "(579, 579)"
      ]
     },
     "execution_count": 116,
     "metadata": {},
     "output_type": "execute_result"
    }
   ],
   "source": [
    "NumUSG4, NumH4"
   ]
  },
  {
   "cell_type": "code",
   "execution_count": 117,
   "metadata": {},
   "outputs": [
    {
     "data": {
      "text/plain": [
       "(415, 415)"
      ]
     },
     "execution_count": 117,
     "metadata": {},
     "output_type": "execute_result"
    }
   ],
   "source": [
    "NumUSG5, NumH5"
   ]
  },
  {
   "cell_type": "code",
   "execution_count": 118,
   "metadata": {},
   "outputs": [
    {
     "data": {
      "text/plain": [
       "(476, 476)"
      ]
     },
     "execution_count": 118,
     "metadata": {},
     "output_type": "execute_result"
    }
   ],
   "source": [
    "NumUSG6, NumH6"
   ]
  },
  {
   "cell_type": "code",
   "execution_count": 119,
   "metadata": {},
   "outputs": [
    {
     "data": {
      "text/plain": [
       "(1110, 1110)"
      ]
     },
     "execution_count": 119,
     "metadata": {},
     "output_type": "execute_result"
    }
   ],
   "source": [
    "NumUSG7, NumH7"
   ]
  },
  {
   "cell_type": "code",
   "execution_count": 120,
   "metadata": {},
   "outputs": [
    {
     "data": {
      "text/plain": [
       "(1551, 1551)"
      ]
     },
     "execution_count": 120,
     "metadata": {},
     "output_type": "execute_result"
    }
   ],
   "source": [
    "NumUSG8, NumH8"
   ]
  },
  {
   "cell_type": "code",
   "execution_count": 121,
   "metadata": {},
   "outputs": [
    {
     "data": {
      "text/plain": [
       "(738, 738)"
      ]
     },
     "execution_count": 121,
     "metadata": {},
     "output_type": "execute_result"
    }
   ],
   "source": [
    "NumUSG9, NumH9"
   ]
  },
  {
   "cell_type": "code",
   "execution_count": 122,
   "metadata": {},
   "outputs": [
    {
     "data": {
      "text/plain": [
       "(1181, 1181)"
      ]
     },
     "execution_count": 122,
     "metadata": {},
     "output_type": "execute_result"
    }
   ],
   "source": [
    "NumUSG10, NumH10"
   ]
  },
  {
   "cell_type": "code",
   "execution_count": 123,
   "metadata": {},
   "outputs": [
    {
     "data": {
      "text/plain": [
       "(1010, 1010)"
      ]
     },
     "execution_count": 123,
     "metadata": {},
     "output_type": "execute_result"
    }
   ],
   "source": [
    "NumUSG11, NumH11"
   ]
  },
  {
   "cell_type": "code",
   "execution_count": 124,
   "metadata": {},
   "outputs": [
    {
     "data": {
      "text/plain": [
       "(1398, 1398)"
      ]
     },
     "execution_count": 124,
     "metadata": {},
     "output_type": "execute_result"
    }
   ],
   "source": [
    "NumUSG12, NumH12"
   ]
  },
  {
   "cell_type": "code",
   "execution_count": 125,
   "metadata": {},
   "outputs": [],
   "source": [
    "dfIndexer = np.array( HRU1Grd[\"CellID\"].tolist(), dtype=np.int32 )\n",
    "DataS1Dict = {  NewHdrs[1] : np.array( HRU1Grd[\"iuzno\"].tolist(), dtype=np.int32 ),\n",
    "                NewHdrs[2] : np.array( HRU1Grd[\"TopAct\"].tolist(), dtype=np.int32 ),\n",
    "                NewHdrs[3] : np.array( HRU1Grd[\"CellArea_m2\"].tolist(), dtype=np.float64 ),\n",
    "                NewHdrs[4] : np.array( HRU1Grd[NewHdrs[4]].tolist(), dtype=np.float64 ),\n",
    "             }\n",
    "Hru1DF = pd.DataFrame( index=dfIndexer, data=DataS1Dict )"
   ]
  },
  {
   "cell_type": "code",
   "execution_count": 126,
   "metadata": {},
   "outputs": [],
   "source": [
    "dfIndexer = np.array( HRU2Grd[\"CellID\"].tolist(), dtype=np.int32 )\n",
    "DataS2Dict = {  NewHdrs[1] : np.array( HRU2Grd[\"iuzno\"].tolist(), dtype=np.int32 ),\n",
    "                NewHdrs[2] : np.array( HRU2Grd[\"TopAct\"].tolist(), dtype=np.int32 ),\n",
    "                NewHdrs[3] : np.array( HRU2Grd[\"CellArea_m2\"].tolist(), dtype=np.float64 ),\n",
    "                NewHdrs[4] : np.array( HRU2Grd[NewHdrs[4]].tolist(), dtype=np.float64 ),\n",
    "             }\n",
    "Hru2DF = pd.DataFrame( index=dfIndexer, data=DataS2Dict )"
   ]
  },
  {
   "cell_type": "code",
   "execution_count": 127,
   "metadata": {},
   "outputs": [],
   "source": [
    "dfIndexer = np.array( HRU3Grd[\"CellID\"].tolist(), dtype=np.int32 )\n",
    "DataS3Dict = {  NewHdrs[1] : np.array( HRU3Grd[\"iuzno\"].tolist(), dtype=np.int32 ),\n",
    "                NewHdrs[2] : np.array( HRU3Grd[\"TopAct\"].tolist(), dtype=np.int32 ),\n",
    "                NewHdrs[3] : np.array( HRU3Grd[\"CellArea_m2\"].tolist(), dtype=np.float64 ),\n",
    "                NewHdrs[4] : np.array( HRU3Grd[NewHdrs[4]].tolist(), dtype=np.float64 ),\n",
    "             }\n",
    "Hru3DF = pd.DataFrame( index=dfIndexer, data=DataS3Dict )"
   ]
  },
  {
   "cell_type": "code",
   "execution_count": 128,
   "metadata": {},
   "outputs": [],
   "source": [
    "dfIndexer = np.array( HRU4Grd[\"CellID\"].tolist(), dtype=np.int32 )\n",
    "DataS4Dict = {  NewHdrs[1] : np.array( HRU4Grd[\"iuzno\"].tolist(), dtype=np.int32 ),\n",
    "                NewHdrs[2] : np.array( HRU4Grd[\"TopAct\"].tolist(), dtype=np.int32 ),\n",
    "                NewHdrs[3] : np.array( HRU4Grd[\"CellArea_m2\"].tolist(), dtype=np.float64 ),\n",
    "                NewHdrs[4] : np.array( HRU4Grd[NewHdrs[4]].tolist(), dtype=np.float64 ),\n",
    "             }\n",
    "Hru4DF = pd.DataFrame( index=dfIndexer, data=DataS4Dict )"
   ]
  },
  {
   "cell_type": "code",
   "execution_count": 129,
   "metadata": {},
   "outputs": [],
   "source": [
    "dfIndexer = np.array( HRU5Grd[\"CellID\"].tolist(), dtype=np.int32 )\n",
    "DataS5Dict = {  NewHdrs[1] : np.array( HRU5Grd[\"iuzno\"].tolist(), dtype=np.int32 ),\n",
    "                NewHdrs[2] : np.array( HRU5Grd[\"TopAct\"].tolist(), dtype=np.int32 ),\n",
    "                NewHdrs[3] : np.array( HRU5Grd[\"CellArea_m2\"].tolist(), dtype=np.float64 ),\n",
    "                NewHdrs[4] : np.array( HRU5Grd[NewHdrs[4]].tolist(), dtype=np.float64 ),\n",
    "             }\n",
    "Hru5DF = pd.DataFrame( index=dfIndexer, data=DataS5Dict )"
   ]
  },
  {
   "cell_type": "code",
   "execution_count": 130,
   "metadata": {},
   "outputs": [],
   "source": [
    "dfIndexer = np.array( HRU6Grd[\"CellID\"].tolist(), dtype=np.int32 )\n",
    "DataS6Dict = {  NewHdrs[1] : np.array( HRU6Grd[\"iuzno\"].tolist(), dtype=np.int32 ),\n",
    "                NewHdrs[2] : np.array( HRU6Grd[\"TopAct\"].tolist(), dtype=np.int32 ),\n",
    "                NewHdrs[3] : np.array( HRU6Grd[\"CellArea_m2\"].tolist(), dtype=np.float64 ),\n",
    "                NewHdrs[4] : np.array( HRU6Grd[NewHdrs[4]].tolist(), dtype=np.float64 ),\n",
    "             }\n",
    "Hru6DF = pd.DataFrame( index=dfIndexer, data=DataS6Dict )"
   ]
  },
  {
   "cell_type": "code",
   "execution_count": 131,
   "metadata": {},
   "outputs": [],
   "source": [
    "dfIndexer = np.array( HRU7Grd[\"CellID\"].tolist(), dtype=np.int32 )\n",
    "DataS7Dict = {  NewHdrs[1] : np.array( HRU7Grd[\"iuzno\"].tolist(), dtype=np.int32 ),\n",
    "                NewHdrs[2] : np.array( HRU7Grd[\"TopAct\"].tolist(), dtype=np.int32 ),\n",
    "                NewHdrs[3] : np.array( HRU7Grd[\"CellArea_m2\"].tolist(), dtype=np.float64 ),\n",
    "                NewHdrs[4] : np.array( HRU7Grd[NewHdrs[4]].tolist(), dtype=np.float64 ),\n",
    "             }\n",
    "Hru7DF = pd.DataFrame( index=dfIndexer, data=DataS7Dict )"
   ]
  },
  {
   "cell_type": "code",
   "execution_count": 132,
   "metadata": {},
   "outputs": [],
   "source": [
    "dfIndexer = np.array( HRU8Grd[\"CellID\"].tolist(), dtype=np.int32 )\n",
    "DataS8Dict = {  NewHdrs[1] : np.array( HRU8Grd[\"iuzno\"].tolist(), dtype=np.int32 ),\n",
    "                NewHdrs[2] : np.array( HRU8Grd[\"TopAct\"].tolist(), dtype=np.int32 ),\n",
    "                NewHdrs[3] : np.array( HRU8Grd[\"CellArea_m2\"].tolist(), dtype=np.float64 ),\n",
    "                NewHdrs[4] : np.array( HRU8Grd[NewHdrs[4]].tolist(), dtype=np.float64 ),\n",
    "             }\n",
    "Hru8DF = pd.DataFrame( index=dfIndexer, data=DataS8Dict )"
   ]
  },
  {
   "cell_type": "code",
   "execution_count": 133,
   "metadata": {},
   "outputs": [],
   "source": [
    "dfIndexer = np.array( HRU9Grd[\"CellID\"].tolist(), dtype=np.int32 )\n",
    "DataS9Dict = {  NewHdrs[1] : np.array( HRU9Grd[\"iuzno\"].tolist(), dtype=np.int32 ),\n",
    "                NewHdrs[2] : np.array( HRU9Grd[\"TopAct\"].tolist(), dtype=np.int32 ),\n",
    "                NewHdrs[3] : np.array( HRU9Grd[\"CellArea_m2\"].tolist(), dtype=np.float64 ),\n",
    "                NewHdrs[4] : np.array( HRU9Grd[NewHdrs[4]].tolist(), dtype=np.float64 ),\n",
    "             }\n",
    "Hru9DF = pd.DataFrame( index=dfIndexer, data=DataS9Dict )"
   ]
  },
  {
   "cell_type": "code",
   "execution_count": 134,
   "metadata": {},
   "outputs": [],
   "source": [
    "dfIndexer = np.array( HRU10Grd[\"CellID\"].tolist(), dtype=np.int32 )\n",
    "DataS10Dict = {  NewHdrs[1] : np.array( HRU10Grd[\"iuzno\"].tolist(), dtype=np.int32 ),\n",
    "                NewHdrs[2] : np.array( HRU10Grd[\"TopAct\"].tolist(), dtype=np.int32 ),\n",
    "                NewHdrs[3] : np.array( HRU10Grd[\"CellArea_m2\"].tolist(), dtype=np.float64 ),\n",
    "                NewHdrs[4] : np.array( HRU10Grd[NewHdrs[4]].tolist(), dtype=np.float64 ),\n",
    "             }\n",
    "Hru10DF = pd.DataFrame( index=dfIndexer, data=DataS10Dict )"
   ]
  },
  {
   "cell_type": "code",
   "execution_count": 135,
   "metadata": {},
   "outputs": [],
   "source": [
    "dfIndexer = np.array( HRU11Grd[\"CellID\"].tolist(), dtype=np.int32 )\n",
    "DataS11Dict = {  NewHdrs[1] : np.array( HRU11Grd[\"iuzno\"].tolist(), dtype=np.int32 ),\n",
    "                NewHdrs[2] : np.array( HRU11Grd[\"TopAct\"].tolist(), dtype=np.int32 ),\n",
    "                NewHdrs[3] : np.array( HRU11Grd[\"CellArea_m2\"].tolist(), dtype=np.float64 ),\n",
    "                NewHdrs[4] : np.array( HRU11Grd[NewHdrs[4]].tolist(), dtype=np.float64 ),\n",
    "             }\n",
    "Hru11DF = pd.DataFrame( index=dfIndexer, data=DataS11Dict )"
   ]
  },
  {
   "cell_type": "code",
   "execution_count": 136,
   "metadata": {},
   "outputs": [],
   "source": [
    "dfIndexer = np.array( HRU12Grd[\"CellID\"].tolist(), dtype=np.int32 )\n",
    "DataS12Dict = {  NewHdrs[1] : np.array( HRU12Grd[\"iuzno\"].tolist(), dtype=np.int32 ),\n",
    "                NewHdrs[2] : np.array( HRU12Grd[\"TopAct\"].tolist(), dtype=np.int32 ),\n",
    "                NewHdrs[3] : np.array( HRU12Grd[\"CellArea_m2\"].tolist(), dtype=np.float64 ),\n",
    "                NewHdrs[4] : np.array( HRU12Grd[NewHdrs[4]].tolist(), dtype=np.float64 ),\n",
    "             }\n",
    "Hru12DF = pd.DataFrame( index=dfIndexer, data=DataS12Dict )"
   ]
  },
  {
   "cell_type": "code",
   "execution_count": 137,
   "metadata": {},
   "outputs": [
    {
     "data": {
      "text/plain": [
       "93578125.0"
      ]
     },
     "execution_count": 137,
     "metadata": {},
     "output_type": "execute_result"
    }
   ],
   "source": [
    "CalcS1Area = Hru1DF[NewHdrs[3]].sum()\n",
    "CalcS1Area"
   ]
  },
  {
   "cell_type": "code",
   "execution_count": 138,
   "metadata": {},
   "outputs": [
    {
     "data": {
      "text/plain": [
       "43062500.0"
      ]
     },
     "execution_count": 138,
     "metadata": {},
     "output_type": "execute_result"
    }
   ],
   "source": [
    "CalcS2Area = Hru2DF[NewHdrs[3]].sum()\n",
    "CalcS2Area"
   ]
  },
  {
   "cell_type": "code",
   "execution_count": 139,
   "metadata": {},
   "outputs": [
    {
     "data": {
      "text/plain": [
       "30265625.0"
      ]
     },
     "execution_count": 139,
     "metadata": {},
     "output_type": "execute_result"
    }
   ],
   "source": [
    "CalcS3Area = Hru3DF[NewHdrs[3]].sum()\n",
    "CalcS3Area"
   ]
  },
  {
   "cell_type": "code",
   "execution_count": 140,
   "metadata": {},
   "outputs": [
    {
     "data": {
      "text/plain": [
       "30281250.0"
      ]
     },
     "execution_count": 140,
     "metadata": {},
     "output_type": "execute_result"
    }
   ],
   "source": [
    "CalcS4Area = Hru4DF[NewHdrs[3]].sum()\n",
    "CalcS4Area"
   ]
  },
  {
   "cell_type": "code",
   "execution_count": 141,
   "metadata": {},
   "outputs": [
    {
     "data": {
      "text/plain": [
       "61750000.0"
      ]
     },
     "execution_count": 141,
     "metadata": {},
     "output_type": "execute_result"
    }
   ],
   "source": [
    "CalcS5Area = Hru5DF[NewHdrs[3]].sum()\n",
    "CalcS5Area"
   ]
  },
  {
   "cell_type": "code",
   "execution_count": 142,
   "metadata": {},
   "outputs": [
    {
     "data": {
      "text/plain": [
       "19437500.0"
      ]
     },
     "execution_count": 142,
     "metadata": {},
     "output_type": "execute_result"
    }
   ],
   "source": [
    "CalcS6Area = Hru6DF[NewHdrs[3]].sum()\n",
    "CalcS6Area"
   ]
  },
  {
   "cell_type": "code",
   "execution_count": 143,
   "metadata": {},
   "outputs": [
    {
     "data": {
      "text/plain": [
       "72046875.0"
      ]
     },
     "execution_count": 143,
     "metadata": {},
     "output_type": "execute_result"
    }
   ],
   "source": [
    "CalcS7Area = Hru7DF[NewHdrs[3]].sum()\n",
    "CalcS7Area"
   ]
  },
  {
   "cell_type": "code",
   "execution_count": 144,
   "metadata": {},
   "outputs": [
    {
     "data": {
      "text/plain": [
       "21117187.5"
      ]
     },
     "execution_count": 144,
     "metadata": {},
     "output_type": "execute_result"
    }
   ],
   "source": [
    "CalcS8Area = Hru8DF[NewHdrs[3]].sum()\n",
    "CalcS8Area"
   ]
  },
  {
   "cell_type": "code",
   "execution_count": 145,
   "metadata": {},
   "outputs": [
    {
     "data": {
      "text/plain": [
       "31500000.0"
      ]
     },
     "execution_count": 145,
     "metadata": {},
     "output_type": "execute_result"
    }
   ],
   "source": [
    "CalcS9Area = Hru9DF[NewHdrs[3]].sum()\n",
    "CalcS9Area"
   ]
  },
  {
   "cell_type": "code",
   "execution_count": 146,
   "metadata": {},
   "outputs": [
    {
     "data": {
      "text/plain": [
       "9101562.5"
      ]
     },
     "execution_count": 146,
     "metadata": {},
     "output_type": "execute_result"
    }
   ],
   "source": [
    "CalcS10Area = Hru10DF[NewHdrs[3]].sum()\n",
    "CalcS10Area"
   ]
  },
  {
   "cell_type": "code",
   "execution_count": 147,
   "metadata": {},
   "outputs": [
    {
     "data": {
      "text/plain": [
       "13496093.75"
      ]
     },
     "execution_count": 147,
     "metadata": {},
     "output_type": "execute_result"
    }
   ],
   "source": [
    "CalcS11Area = Hru11DF[NewHdrs[3]].sum()\n",
    "CalcS11Area"
   ]
  },
  {
   "cell_type": "code",
   "execution_count": 148,
   "metadata": {},
   "outputs": [
    {
     "data": {
      "text/plain": [
       "16218750.0"
      ]
     },
     "execution_count": 148,
     "metadata": {},
     "output_type": "execute_result"
    }
   ],
   "source": [
    "CalcS12Area = Hru12DF[NewHdrs[3]].sum()\n",
    "CalcS12Area"
   ]
  },
  {
   "cell_type": "code",
   "execution_count": 149,
   "metadata": {},
   "outputs": [],
   "source": [
    "Hru1DF.sort_index( inplace=True )\n",
    "Hru2DF.sort_index( inplace=True )\n",
    "Hru3DF.sort_index( inplace=True )\n",
    "Hru4DF.sort_index( inplace=True )\n",
    "Hru5DF.sort_index( inplace=True )\n",
    "Hru6DF.sort_index( inplace=True )\n",
    "Hru7DF.sort_index( inplace=True )\n",
    "Hru8DF.sort_index( inplace=True )\n",
    "Hru9DF.sort_index( inplace=True )\n",
    "Hru10DF.sort_index( inplace=True )\n",
    "Hru11DF.sort_index( inplace=True )\n",
    "Hru12DF.sort_index( inplace=True )"
   ]
  },
  {
   "cell_type": "code",
   "execution_count": 150,
   "metadata": {},
   "outputs": [
    {
     "data": {
      "text/html": [
       "<table border=\"1\" class=\"dataframe\">\n",
       "  <thead>\n",
       "    <tr style=\"text-align: right;\">\n",
       "      <th></th>\n",
       "      <th>iuzno</th>\n",
       "      <th>TopActive</th>\n",
       "      <th>SArea_m2</th>\n",
       "      <th>Weight</th>\n",
       "    </tr>\n",
       "  </thead>\n",
       "  <tbody>\n",
       "    <tr>\n",
       "      <th>1772</th>\n",
       "      <td>1728</td>\n",
       "      <td>2</td>\n",
       "      <td>250000.0</td>\n",
       "      <td>0.1</td>\n",
       "    </tr>\n",
       "    <tr>\n",
       "      <th>1773</th>\n",
       "      <td>1729</td>\n",
       "      <td>1</td>\n",
       "      <td>250000.0</td>\n",
       "      <td>0.1</td>\n",
       "    </tr>\n",
       "    <tr>\n",
       "      <th>1774</th>\n",
       "      <td>1730</td>\n",
       "      <td>1</td>\n",
       "      <td>250000.0</td>\n",
       "      <td>0.1</td>\n",
       "    </tr>\n",
       "    <tr>\n",
       "      <th>1775</th>\n",
       "      <td>1731</td>\n",
       "      <td>2</td>\n",
       "      <td>250000.0</td>\n",
       "      <td>0.1</td>\n",
       "    </tr>\n",
       "    <tr>\n",
       "      <th>1776</th>\n",
       "      <td>1732</td>\n",
       "      <td>2</td>\n",
       "      <td>1000000.0</td>\n",
       "      <td>0.1</td>\n",
       "    </tr>\n",
       "  </tbody>\n",
       "</table>"
      ],
      "text/plain": [
       "<IPython.core.display.HTML object>"
      ]
     },
     "metadata": {},
     "output_type": "display_data"
    }
   ],
   "source": [
    "display( HTML( Hru1DF.tail().to_html() ) )"
   ]
  },
  {
   "cell_type": "code",
   "execution_count": 151,
   "metadata": {},
   "outputs": [
    {
     "data": {
      "text/html": [
       "<table border=\"1\" class=\"dataframe\">\n",
       "  <thead>\n",
       "    <tr style=\"text-align: right;\">\n",
       "      <th></th>\n",
       "      <th>iuzno</th>\n",
       "      <th>TopActive</th>\n",
       "      <th>SArea_m2</th>\n",
       "      <th>Weight</th>\n",
       "    </tr>\n",
       "  </thead>\n",
       "  <tbody>\n",
       "    <tr>\n",
       "      <th>11207</th>\n",
       "      <td>10576</td>\n",
       "      <td>3</td>\n",
       "      <td>15625.0</td>\n",
       "      <td>0.1</td>\n",
       "    </tr>\n",
       "    <tr>\n",
       "      <th>11213</th>\n",
       "      <td>10582</td>\n",
       "      <td>3</td>\n",
       "      <td>15625.0</td>\n",
       "      <td>0.1</td>\n",
       "    </tr>\n",
       "    <tr>\n",
       "      <th>11215</th>\n",
       "      <td>10584</td>\n",
       "      <td>4</td>\n",
       "      <td>15625.0</td>\n",
       "      <td>0.1</td>\n",
       "    </tr>\n",
       "    <tr>\n",
       "      <th>11216</th>\n",
       "      <td>10585</td>\n",
       "      <td>3</td>\n",
       "      <td>15625.0</td>\n",
       "      <td>0.1</td>\n",
       "    </tr>\n",
       "    <tr>\n",
       "      <th>11237</th>\n",
       "      <td>10606</td>\n",
       "      <td>4</td>\n",
       "      <td>15625.0</td>\n",
       "      <td>0.1</td>\n",
       "    </tr>\n",
       "  </tbody>\n",
       "</table>"
      ],
      "text/plain": [
       "<IPython.core.display.HTML object>"
      ]
     },
     "metadata": {},
     "output_type": "display_data"
    }
   ],
   "source": [
    "display( HTML( Hru10DF.tail().to_html() ) )"
   ]
  },
  {
   "cell_type": "markdown",
   "metadata": {},
   "source": [
    "Output our watershed mapping dictionary which maps groundwater model cells to subbasins/pervious area segments/HRUs including the area of the model cell within the PERLND and the total area of the subbasin"
   ]
  },
  {
   "cell_type": "code",
   "execution_count": 152,
   "metadata": {},
   "outputs": [],
   "source": [
    "WS_PERLND = dict()\n",
    "WS_PERLND[PTargIdList[0]] = [ CalcS1Area, Hru1DF ]\n",
    "WS_PERLND[PTargIdList[1]] = [ CalcS2Area, Hru2DF ]\n",
    "WS_PERLND[PTargIdList[2]] = [ CalcS3Area, Hru3DF ]\n",
    "WS_PERLND[PTargIdList[3]] = [ CalcS4Area, Hru4DF ]\n",
    "WS_PERLND[PTargIdList[4]] = [ CalcS5Area, Hru5DF ]\n",
    "WS_PERLND[PTargIdList[5]] = [ CalcS6Area, Hru6DF ]\n",
    "WS_PERLND[PTargIdList[6]] = [ CalcS7Area, Hru7DF ]\n",
    "WS_PERLND[PTargIdList[7]] = [ CalcS8Area, Hru8DF ]\n",
    "WS_PERLND[PTargIdList[8]] = [ CalcS9Area, Hru9DF ]\n",
    "WS_PERLND[PTargIdList[9]] = [ CalcS10Area, Hru10DF ]\n",
    "WS_PERLND[PTargIdList[10]] = [ CalcS11Area, Hru11DF ]\n",
    "WS_PERLND[PTargIdList[11]] = [ CalcS12Area, Hru12DF ]"
   ]
  },
  {
   "cell_type": "code",
   "execution_count": 153,
   "metadata": {},
   "outputs": [],
   "source": [
    "OutFile = \"cpWS_Perlnd.pickle\"\n",
    "OutFP = os.path.normpath( os.path.join( OUT_DIR, OutFile ) )\n",
    "with open( OutFP, 'wb' ) as OP:\n",
    "    pickle.dump( WS_PERLND, OP, pickle.HIGHEST_PROTOCOL )"
   ]
  },
  {
   "cell_type": "markdown",
   "metadata": {},
   "source": [
    "#### PERLND Dictionary Shapefile"
   ]
  },
  {
   "cell_type": "markdown",
   "metadata": {},
   "source": [
    "Create a GeoDataFrame that combines and extends all of our dictionary entries for use in plotting and analysis of model results"
   ]
  },
  {
   "cell_type": "code",
   "execution_count": 154,
   "metadata": {},
   "outputs": [],
   "source": [
    "Hru1DF[NewHdrs[0]] = Hru1DF.index"
   ]
  },
  {
   "cell_type": "code",
   "execution_count": 155,
   "metadata": {},
   "outputs": [
    {
     "data": {
      "text/html": [
       "<table border=\"1\" class=\"dataframe\">\n",
       "  <thead>\n",
       "    <tr style=\"text-align: right;\">\n",
       "      <th></th>\n",
       "      <th>iuzno</th>\n",
       "      <th>TopActive</th>\n",
       "      <th>SArea_m2</th>\n",
       "      <th>Weight</th>\n",
       "      <th>CellID</th>\n",
       "    </tr>\n",
       "  </thead>\n",
       "  <tbody>\n",
       "    <tr>\n",
       "      <th>5</th>\n",
       "      <td>1</td>\n",
       "      <td>1</td>\n",
       "      <td>1000000.0</td>\n",
       "      <td>0.1</td>\n",
       "      <td>5</td>\n",
       "    </tr>\n",
       "    <tr>\n",
       "      <th>6</th>\n",
       "      <td>2</td>\n",
       "      <td>1</td>\n",
       "      <td>1000000.0</td>\n",
       "      <td>0.1</td>\n",
       "      <td>6</td>\n",
       "    </tr>\n",
       "    <tr>\n",
       "      <th>9</th>\n",
       "      <td>3</td>\n",
       "      <td>1</td>\n",
       "      <td>1000000.0</td>\n",
       "      <td>0.1</td>\n",
       "      <td>9</td>\n",
       "    </tr>\n",
       "    <tr>\n",
       "      <th>10</th>\n",
       "      <td>4</td>\n",
       "      <td>1</td>\n",
       "      <td>1000000.0</td>\n",
       "      <td>0.1</td>\n",
       "      <td>10</td>\n",
       "    </tr>\n",
       "    <tr>\n",
       "      <th>13</th>\n",
       "      <td>5</td>\n",
       "      <td>1</td>\n",
       "      <td>1000000.0</td>\n",
       "      <td>0.1</td>\n",
       "      <td>13</td>\n",
       "    </tr>\n",
       "  </tbody>\n",
       "</table>"
      ],
      "text/plain": [
       "<IPython.core.display.HTML object>"
      ]
     },
     "metadata": {},
     "output_type": "display_data"
    }
   ],
   "source": [
    "display( HTML( Hru1DF.head().to_html() ) )"
   ]
  },
  {
   "cell_type": "code",
   "execution_count": 156,
   "metadata": {},
   "outputs": [],
   "source": [
    "Hru2DF[NewHdrs[0]] = Hru2DF.index\n",
    "Hru3DF[NewHdrs[0]] = Hru3DF.index\n",
    "Hru4DF[NewHdrs[0]] = Hru4DF.index\n",
    "Hru5DF[NewHdrs[0]] = Hru5DF.index\n",
    "Hru6DF[NewHdrs[0]] = Hru6DF.index\n",
    "Hru7DF[NewHdrs[0]] = Hru7DF.index\n",
    "Hru8DF[NewHdrs[0]] = Hru8DF.index\n",
    "Hru9DF[NewHdrs[0]] = Hru9DF.index\n",
    "Hru10DF[NewHdrs[0]] = Hru10DF.index\n",
    "Hru11DF[NewHdrs[0]] = Hru11DF.index\n",
    "Hru12DF[NewHdrs[0]] = Hru12DF.index"
   ]
  },
  {
   "cell_type": "code",
   "execution_count": 157,
   "metadata": {},
   "outputs": [],
   "source": [
    "Hru1DF['TargId'] = PTargIdList[0]\n",
    "Hru2DF['TargId'] = PTargIdList[1]\n",
    "Hru3DF['TargId'] = PTargIdList[2]\n",
    "Hru4DF['TargId'] = PTargIdList[3]\n",
    "Hru5DF['TargId'] = PTargIdList[4]\n",
    "Hru6DF['TargId'] = PTargIdList[5]\n",
    "Hru7DF['TargId'] = PTargIdList[6]\n",
    "Hru8DF['TargId'] = PTargIdList[7]\n",
    "Hru9DF['TargId'] = PTargIdList[8]\n",
    "Hru10DF['TargId'] = PTargIdList[9]\n",
    "Hru11DF['TargId'] = PTargIdList[10]\n",
    "Hru12DF['TargId'] = PTargIdList[11]"
   ]
  },
  {
   "cell_type": "markdown",
   "metadata": {},
   "source": [
    "Calculate the combined cell area and hydrologic soil weight for each cell. This is the same algorithm as used within the coupled code to deep infiltration from groundwater from each HRU to specified infiltration in the MODFLOW model."
   ]
  },
  {
   "cell_type": "code",
   "execution_count": 158,
   "metadata": {},
   "outputs": [
    {
     "data": {
      "text/plain": [
       "(14353.900000000001, 8833.600000000002)"
      ]
     },
     "execution_count": 158,
     "metadata": {},
     "output_type": "execute_result"
    }
   ],
   "source": [
    "Hru1TotWght = Hru1DF[NewHdrs[4]].sum()\n",
    "Hru2TotWght = Hru2DF[NewHdrs[4]].sum()\n",
    "Hru3TotWght = Hru3DF[NewHdrs[4]].sum()\n",
    "Hru4TotWght = Hru4DF[NewHdrs[4]].sum()\n",
    "Hru5TotWght = Hru5DF[NewHdrs[4]].sum()\n",
    "Hru6TotWght = Hru6DF[NewHdrs[4]].sum()\n",
    "Hru7TotWght = Hru7DF[NewHdrs[4]].sum()\n",
    "Hru8TotWght = Hru8DF[NewHdrs[4]].sum()\n",
    "Hru9TotWght = Hru9DF[NewHdrs[4]].sum()\n",
    "Hru10TotWght = Hru10DF[NewHdrs[4]].sum()\n",
    "Hru11TotWght = Hru11DF[NewHdrs[4]].sum()\n",
    "Hru12TotWght = Hru12DF[NewHdrs[4]].sum()\n",
    "Hru1TotWght, Hru5TotWght "
   ]
  },
  {
   "cell_type": "code",
   "execution_count": 159,
   "metadata": {},
   "outputs": [],
   "source": [
    "Hru1DF[\"CombWeight\"] = Hru1DF.apply( lambda row: CCombWeight( CalcS1Area, Hru1TotWght, \n",
    "                                                              row[NewHdrs[3]], row[NewHdrs[4]] ), axis=1 )"
   ]
  },
  {
   "cell_type": "code",
   "execution_count": 160,
   "metadata": {},
   "outputs": [],
   "source": [
    "Hru2DF[\"CombWeight\"] = Hru2DF.apply( lambda row: CCombWeight( CalcS2Area, Hru2TotWght, \n",
    "                                                              row[NewHdrs[3]], row[NewHdrs[4]] ), axis=1 )"
   ]
  },
  {
   "cell_type": "code",
   "execution_count": 161,
   "metadata": {},
   "outputs": [],
   "source": [
    "Hru3DF[\"CombWeight\"] = Hru3DF.apply( lambda row: CCombWeight( CalcS3Area, Hru3TotWght, \n",
    "                                                              row[NewHdrs[3]], row[NewHdrs[4]] ), axis=1 )"
   ]
  },
  {
   "cell_type": "code",
   "execution_count": 162,
   "metadata": {},
   "outputs": [],
   "source": [
    "Hru4DF[\"CombWeight\"] = Hru4DF.apply( lambda row: CCombWeight( CalcS4Area, Hru4TotWght, \n",
    "                                                              row[NewHdrs[3]], row[NewHdrs[4]] ), axis=1 )"
   ]
  },
  {
   "cell_type": "code",
   "execution_count": 163,
   "metadata": {},
   "outputs": [],
   "source": [
    "Hru5DF[\"CombWeight\"] = Hru5DF.apply( lambda row: CCombWeight( CalcS5Area, Hru5TotWght, \n",
    "                                                              row[NewHdrs[3]], row[NewHdrs[4]] ), axis=1 )"
   ]
  },
  {
   "cell_type": "code",
   "execution_count": 164,
   "metadata": {},
   "outputs": [],
   "source": [
    "Hru6DF[\"CombWeight\"] = Hru6DF.apply( lambda row: CCombWeight( CalcS6Area, Hru6TotWght, \n",
    "                                                              row[NewHdrs[3]], row[NewHdrs[4]] ), axis=1 )"
   ]
  },
  {
   "cell_type": "code",
   "execution_count": 165,
   "metadata": {},
   "outputs": [],
   "source": [
    "Hru7DF[\"CombWeight\"] = Hru7DF.apply( lambda row: CCombWeight( CalcS7Area, Hru7TotWght, \n",
    "                                                              row[NewHdrs[3]], row[NewHdrs[4]] ), axis=1 )"
   ]
  },
  {
   "cell_type": "code",
   "execution_count": 166,
   "metadata": {},
   "outputs": [],
   "source": [
    "Hru8DF[\"CombWeight\"] = Hru8DF.apply( lambda row: CCombWeight( CalcS8Area, Hru8TotWght, \n",
    "                                                              row[NewHdrs[3]], row[NewHdrs[4]] ), axis=1 )"
   ]
  },
  {
   "cell_type": "code",
   "execution_count": 167,
   "metadata": {},
   "outputs": [],
   "source": [
    "Hru9DF[\"CombWeight\"] = Hru9DF.apply( lambda row: CCombWeight( CalcS9Area, Hru9TotWght, \n",
    "                                                              row[NewHdrs[3]], row[NewHdrs[4]] ), axis=1 )"
   ]
  },
  {
   "cell_type": "code",
   "execution_count": 168,
   "metadata": {},
   "outputs": [],
   "source": [
    "Hru10DF[\"CombWeight\"] = Hru10DF.apply( lambda row: CCombWeight( CalcS10Area, Hru10TotWght, \n",
    "                                                                row[NewHdrs[3]], row[NewHdrs[4]] ), axis=1 )"
   ]
  },
  {
   "cell_type": "code",
   "execution_count": 169,
   "metadata": {},
   "outputs": [],
   "source": [
    "Hru11DF[\"CombWeight\"] = Hru11DF.apply( lambda row: CCombWeight( CalcS11Area, Hru11TotWght, \n",
    "                                                                row[NewHdrs[3]], row[NewHdrs[4]] ), axis=1 )"
   ]
  },
  {
   "cell_type": "code",
   "execution_count": 170,
   "metadata": {},
   "outputs": [],
   "source": [
    "Hru12DF[\"CombWeight\"] = Hru12DF.apply( lambda row: CCombWeight( CalcS12Area, Hru12TotWght, \n",
    "                                                                row[NewHdrs[3]], row[NewHdrs[4]] ), axis=1 )"
   ]
  },
  {
   "cell_type": "markdown",
   "metadata": {},
   "source": [
    "Combined or concatenate to make one DataFrame"
   ]
  },
  {
   "cell_type": "code",
   "execution_count": 171,
   "metadata": {},
   "outputs": [],
   "source": [
    "CCList = [ Hru1DF, Hru2DF, Hru3DF, Hru4DF, Hru5DF, Hru6DF, Hru7DF, Hru8DF, Hru9DF, Hru10DF, Hru11DF, Hru12DF ]"
   ]
  },
  {
   "cell_type": "code",
   "execution_count": 172,
   "metadata": {},
   "outputs": [],
   "source": [
    "AllHruDF = pd.concat( CCList, ignore_index=True )"
   ]
  },
  {
   "cell_type": "code",
   "execution_count": 173,
   "metadata": {},
   "outputs": [
    {
     "data": {
      "text/html": [
       "<table border=\"1\" class=\"dataframe\">\n",
       "  <thead>\n",
       "    <tr style=\"text-align: right;\">\n",
       "      <th></th>\n",
       "      <th>iuzno</th>\n",
       "      <th>TopActive</th>\n",
       "      <th>SArea_m2</th>\n",
       "      <th>Weight</th>\n",
       "      <th>CellID</th>\n",
       "      <th>TargId</th>\n",
       "      <th>CombWeight</th>\n",
       "    </tr>\n",
       "  </thead>\n",
       "  <tbody>\n",
       "    <tr>\n",
       "      <th>0</th>\n",
       "      <td>1</td>\n",
       "      <td>1</td>\n",
       "      <td>1000000.0</td>\n",
       "      <td>0.1</td>\n",
       "      <td>5</td>\n",
       "      <td>P001</td>\n",
       "      <td>0.005347</td>\n",
       "    </tr>\n",
       "    <tr>\n",
       "      <th>1</th>\n",
       "      <td>2</td>\n",
       "      <td>1</td>\n",
       "      <td>1000000.0</td>\n",
       "      <td>0.1</td>\n",
       "      <td>6</td>\n",
       "      <td>P001</td>\n",
       "      <td>0.005347</td>\n",
       "    </tr>\n",
       "    <tr>\n",
       "      <th>2</th>\n",
       "      <td>3</td>\n",
       "      <td>1</td>\n",
       "      <td>1000000.0</td>\n",
       "      <td>0.1</td>\n",
       "      <td>9</td>\n",
       "      <td>P001</td>\n",
       "      <td>0.005347</td>\n",
       "    </tr>\n",
       "    <tr>\n",
       "      <th>3</th>\n",
       "      <td>4</td>\n",
       "      <td>1</td>\n",
       "      <td>1000000.0</td>\n",
       "      <td>0.1</td>\n",
       "      <td>10</td>\n",
       "      <td>P001</td>\n",
       "      <td>0.005347</td>\n",
       "    </tr>\n",
       "    <tr>\n",
       "      <th>4</th>\n",
       "      <td>5</td>\n",
       "      <td>1</td>\n",
       "      <td>1000000.0</td>\n",
       "      <td>0.1</td>\n",
       "      <td>13</td>\n",
       "      <td>P001</td>\n",
       "      <td>0.005347</td>\n",
       "    </tr>\n",
       "  </tbody>\n",
       "</table>"
      ],
      "text/plain": [
       "<IPython.core.display.HTML object>"
      ]
     },
     "metadata": {},
     "output_type": "display_data"
    }
   ],
   "source": [
    "display( HTML( AllHruDF.head().to_html() ) )"
   ]
  },
  {
   "cell_type": "code",
   "execution_count": 174,
   "metadata": {},
   "outputs": [
    {
     "data": {
      "text/html": [
       "<table border=\"1\" class=\"dataframe\">\n",
       "  <thead>\n",
       "    <tr style=\"text-align: right;\">\n",
       "      <th></th>\n",
       "      <th>iuzno</th>\n",
       "      <th>TopActive</th>\n",
       "      <th>SArea_m2</th>\n",
       "      <th>Weight</th>\n",
       "      <th>CellID</th>\n",
       "      <th>TargId</th>\n",
       "      <th>CombWeight</th>\n",
       "    </tr>\n",
       "  </thead>\n",
       "  <tbody>\n",
       "    <tr>\n",
       "      <th>10201</th>\n",
       "      <td>10956</td>\n",
       "      <td>5</td>\n",
       "      <td>3906.25</td>\n",
       "      <td>100.0</td>\n",
       "      <td>11712</td>\n",
       "      <td>P012</td>\n",
       "      <td>0.004384</td>\n",
       "    </tr>\n",
       "    <tr>\n",
       "      <th>10202</th>\n",
       "      <td>10957</td>\n",
       "      <td>6</td>\n",
       "      <td>3906.25</td>\n",
       "      <td>100.0</td>\n",
       "      <td>11713</td>\n",
       "      <td>P012</td>\n",
       "      <td>0.004384</td>\n",
       "    </tr>\n",
       "    <tr>\n",
       "      <th>10203</th>\n",
       "      <td>10958</td>\n",
       "      <td>5</td>\n",
       "      <td>3906.25</td>\n",
       "      <td>0.1</td>\n",
       "      <td>11714</td>\n",
       "      <td>P012</td>\n",
       "      <td>0.000125</td>\n",
       "    </tr>\n",
       "    <tr>\n",
       "      <th>10204</th>\n",
       "      <td>10959</td>\n",
       "      <td>5</td>\n",
       "      <td>3906.25</td>\n",
       "      <td>100.0</td>\n",
       "      <td>11715</td>\n",
       "      <td>P012</td>\n",
       "      <td>0.004384</td>\n",
       "    </tr>\n",
       "    <tr>\n",
       "      <th>10205</th>\n",
       "      <td>10960</td>\n",
       "      <td>6</td>\n",
       "      <td>3906.25</td>\n",
       "      <td>100.0</td>\n",
       "      <td>11716</td>\n",
       "      <td>P012</td>\n",
       "      <td>0.004384</td>\n",
       "    </tr>\n",
       "  </tbody>\n",
       "</table>"
      ],
      "text/plain": [
       "<IPython.core.display.HTML object>"
      ]
     },
     "metadata": {},
     "output_type": "display_data"
    }
   ],
   "source": [
    "display( HTML( AllHruDF.tail().to_html() ) )"
   ]
  },
  {
   "cell_type": "code",
   "execution_count": 175,
   "metadata": {},
   "outputs": [
    {
     "data": {
      "text/plain": [
       "0.9999999999999999"
      ]
     },
     "execution_count": 175,
     "metadata": {},
     "output_type": "execute_result"
    }
   ],
   "source": [
    "AllHruDF[AllHruDF['TargId'] == 'P005']['CombWeight'].sum()"
   ]
  },
  {
   "cell_type": "code",
   "execution_count": 176,
   "metadata": {},
   "outputs": [
    {
     "data": {
      "text/plain": [
       "12.000000000000002"
      ]
     },
     "execution_count": 176,
     "metadata": {},
     "output_type": "execute_result"
    }
   ],
   "source": [
    "AllHruDF['CombWeight'].sum()"
   ]
  },
  {
   "cell_type": "markdown",
   "metadata": {},
   "source": [
    "Get the geometry objects from the 2D grid so that can make a GeoDataFrame and save to a shapefile"
   ]
  },
  {
   "cell_type": "code",
   "execution_count": 177,
   "metadata": {},
   "outputs": [],
   "source": [
    "ARCellIDs = AllHruDF[NewHdrs[0]].tolist()"
   ]
  },
  {
   "cell_type": "code",
   "execution_count": 178,
   "metadata": {},
   "outputs": [],
   "source": [
    "ARCellGeom = list()"
   ]
  },
  {
   "cell_type": "code",
   "execution_count": 179,
   "metadata": {},
   "outputs": [],
   "source": [
    "for jJ in ARCellIDs:\n",
    "    gInd = gpd_Grid2D[gpd_Grid2D[NewHdrs[0]] == jJ].index[0]\n",
    "    ARCellGeom.append( gpd_Grid2D.at[gInd, \"geometry\"] )\n",
    "# end for"
   ]
  },
  {
   "cell_type": "code",
   "execution_count": 180,
   "metadata": {},
   "outputs": [],
   "source": [
    "gpd_HruMap = gpd.GeoDataFrame( AllHruDF, geometry=ARCellGeom )\n",
    "gpd_HruMap.crs = ProjCRS"
   ]
  },
  {
   "cell_type": "code",
   "execution_count": 181,
   "metadata": {},
   "outputs": [
    {
     "data": {
      "text/plain": [
       "<AxesSubplot: >"
      ]
     },
     "execution_count": 181,
     "metadata": {},
     "output_type": "execute_result"
    },
    {
     "data": {
      "image/png": "[encoded data removed]",
      "text/plain": [
       "<Figure size 640x480 with 1 Axes>"
      ]
     },
     "metadata": {},
     "output_type": "display_data"
    }
   ],
   "source": [
    "gpd_HruMap.plot( column='TargId' )"
   ]
  },
  {
   "cell_type": "code",
   "execution_count": 182,
   "metadata": {},
   "outputs": [
    {
     "data": {
      "text/html": [
       "<table border=\"1\" class=\"dataframe\">\n",
       "  <thead>\n",
       "    <tr style=\"text-align: right;\">\n",
       "      <th></th>\n",
       "      <th>iuzno</th>\n",
       "      <th>TopActive</th>\n",
       "      <th>SArea_m2</th>\n",
       "      <th>Weight</th>\n",
       "      <th>CellID</th>\n",
       "      <th>CombWeight</th>\n",
       "    </tr>\n",
       "  </thead>\n",
       "  <tbody>\n",
       "    <tr>\n",
       "      <th>count</th>\n",
       "      <td>10206.000000</td>\n",
       "      <td>10206.000000</td>\n",
       "      <td>10206.000000</td>\n",
       "      <td>10206.000000</td>\n",
       "      <td>10206.000000</td>\n",
       "      <td>10206.000000</td>\n",
       "    </tr>\n",
       "    <tr>\n",
       "      <th>mean</th>\n",
       "      <td>5676.351264</td>\n",
       "      <td>3.248089</td>\n",
       "      <td>43293.696723</td>\n",
       "      <td>11.911748</td>\n",
       "      <td>5863.607486</td>\n",
       "      <td>0.001176</td>\n",
       "    </tr>\n",
       "    <tr>\n",
       "      <th>std</th>\n",
       "      <td>3351.411736</td>\n",
       "      <td>1.001705</td>\n",
       "      <td>101360.873031</td>\n",
       "      <td>32.247287</td>\n",
       "      <td>3515.134090</td>\n",
       "      <td>0.002323</td>\n",
       "    </tr>\n",
       "    <tr>\n",
       "      <th>min</th>\n",
       "      <td>1.000000</td>\n",
       "      <td>1.000000</td>\n",
       "      <td>3906.250000</td>\n",
       "      <td>0.000000</td>\n",
       "      <td>5.000000</td>\n",
       "      <td>0.000067</td>\n",
       "    </tr>\n",
       "    <tr>\n",
       "      <th>25%</th>\n",
       "      <td>2737.250000</td>\n",
       "      <td>3.000000</td>\n",
       "      <td>15625.000000</td>\n",
       "      <td>0.100000</td>\n",
       "      <td>2793.250000</td>\n",
       "      <td>0.000413</td>\n",
       "    </tr>\n",
       "    <tr>\n",
       "      <th>50%</th>\n",
       "      <td>5706.500000</td>\n",
       "      <td>3.000000</td>\n",
       "      <td>15625.000000</td>\n",
       "      <td>0.100000</td>\n",
       "      <td>5828.500000</td>\n",
       "      <td>0.000486</td>\n",
       "    </tr>\n",
       "    <tr>\n",
       "      <th>75%</th>\n",
       "      <td>8568.750000</td>\n",
       "      <td>4.000000</td>\n",
       "      <td>62500.000000</td>\n",
       "      <td>0.100000</td>\n",
       "      <td>8780.750000</td>\n",
       "      <td>0.000997</td>\n",
       "    </tr>\n",
       "    <tr>\n",
       "      <th>max</th>\n",
       "      <td>11536.000000</td>\n",
       "      <td>6.000000</td>\n",
       "      <td>1000000.000000</td>\n",
       "      <td>100.000000</td>\n",
       "      <td>12341.000000</td>\n",
       "      <td>0.043529</td>\n",
       "    </tr>\n",
       "  </tbody>\n",
       "</table>"
      ],
      "text/plain": [
       "<IPython.core.display.HTML object>"
      ]
     },
     "metadata": {},
     "output_type": "display_data"
    }
   ],
   "source": [
    "display( HTML( gpd_HruMap.describe().to_html() ) )"
   ]
  },
  {
   "cell_type": "code",
   "execution_count": 183,
   "metadata": {},
   "outputs": [],
   "source": [
    "OutFile = \"cpPERLNDMap.shp\"\n",
    "OutFP = os.path.normpath( os.path.join( OUT_DIR, OutFile ) )\n",
    "gpd_HruMap.to_file( OutFP )"
   ]
  },
  {
   "cell_type": "markdown",
   "metadata": {},
   "source": [
    "## Springs or Drains"
   ]
  },
  {
   "cell_type": "markdown",
   "metadata": {},
   "source": [
    "DRN boundaries are assumed to only be used to represent springs in the coupled model. Extract the DRN boundary information from our model and put it in the format required for the input dictionary."
   ]
  },
  {
   "cell_type": "markdown",
   "metadata": {},
   "source": [
    "Springs: springs which are represented with drain cells in the MODFLOW model are identified in this dictionary. The key is the TargID. Values are a list with a sublist for each drain cell, SL.\n",
    "- SL[0]: boundary name\n",
    "- SL[0]: NCPL, cell ID, 1-based\n",
    "- SL[1]: \"TopActive\" top active layer (this is the remainder of the cell id), 1-based\n",
    "- SL[2]: \"SArea_m2\" which holds the area of the cell for the Cell ID within the PERLND area"
   ]
  },
  {
   "cell_type": "markdown",
   "metadata": {},
   "source": [
    "Definitions of drains for this coupled model."
   ]
  },
  {
   "cell_type": "code",
   "execution_count": 184,
   "metadata": {},
   "outputs": [],
   "source": [
    "# provides for location of all springs. Routed directly to a stream segment\n",
    "DRN_Dict = { \"finegan\" : \"Outside\",\n",
    "             \"ud704\" : \"Outside\",\n",
    "             \"ud703\" : \"Outside\",\n",
    "             \"dolan\" : \"R005\",\n",
    "             \"ud701\" : \"R005\", }"
   ]
  },
  {
   "cell_type": "markdown",
   "metadata": {},
   "source": [
    "Preliminary processing of drain package"
   ]
  },
  {
   "cell_type": "code",
   "execution_count": 185,
   "metadata": {},
   "outputs": [],
   "source": [
    "drn = mf6.get_package( 'drn' )"
   ]
  },
  {
   "cell_type": "code",
   "execution_count": 186,
   "metadata": {},
   "outputs": [],
   "source": [
    "exDRN = drn.stress_period_data.get_data()[0]"
   ]
  },
  {
   "cell_type": "code",
   "execution_count": 187,
   "metadata": {},
   "outputs": [
    {
     "data": {
      "text/plain": [
       "5"
      ]
     },
     "execution_count": 187,
     "metadata": {},
     "output_type": "execute_result"
    }
   ],
   "source": [
    "nOrgDRN = len( exDRN )\n",
    "nOrgDRN"
   ]
  },
  {
   "cell_type": "code",
   "execution_count": 188,
   "metadata": {},
   "outputs": [
    {
     "name": "stdout",
     "output_type": "stream",
     "text": [
      "Index 0, cellid\n",
      "Index 1, elev\n",
      "Index 2, cond\n",
      "Index 3, boundname\n"
     ]
    }
   ],
   "source": [
    "DrnHdrs = list( exDRN.dtype.names )\n",
    "iCnt = 0\n",
    "for tHdr in DrnHdrs:\n",
    "    print(\"Index %d, %s\" % (iCnt, tHdr) )\n",
    "    iCnt += 1\n",
    "# end for"
   ]
  },
  {
   "cell_type": "code",
   "execution_count": 189,
   "metadata": {},
   "outputs": [
    {
     "data": {
      "text/plain": [
       "5"
      ]
     },
     "execution_count": 189,
     "metadata": {},
     "output_type": "execute_result"
    }
   ],
   "source": [
    "DrnBndNames = list( set( list( exDRN[:][DrnHdrs[3]] ) ) )\n",
    "len( DrnBndNames )"
   ]
  },
  {
   "cell_type": "markdown",
   "metadata": {},
   "source": [
    "Setup of shapefiles to get areas"
   ]
  },
  {
   "cell_type": "code",
   "execution_count": 190,
   "metadata": {},
   "outputs": [],
   "source": [
    "NumDRN = nOrgDRN"
   ]
  },
  {
   "cell_type": "code",
   "execution_count": 191,
   "metadata": {},
   "outputs": [],
   "source": [
    "drcellids = exDRN['cellid'].view()\n",
    "drnames = exDRN['boundname'].view()"
   ]
  },
  {
   "cell_type": "code",
   "execution_count": 192,
   "metadata": {},
   "outputs": [
    {
     "data": {
      "text/plain": [
       "['finegan', 'ud704', 'ud703', 'dolan', 'ud701']"
      ]
     },
     "execution_count": 192,
     "metadata": {},
     "output_type": "execute_result"
    }
   ],
   "source": [
    "#DRNfcIds = [ exDRN[iI][DrnHdrs[0]][1] for iI in range(nOrgDRN) ]\n",
    "DRNfcIds = drcellids.tolist()\n",
    "DRNCell2D = [ x[1] + 1 for x in DRNfcIds ]\n",
    "DRNTA = [ x[0] + 1 for x in DRNfcIds ]\n",
    "DRNNames = [ str(x) for x in drnames.tolist() ]\n",
    "DRNNames"
   ]
  },
  {
   "cell_type": "code",
   "execution_count": 193,
   "metadata": {},
   "outputs": [
    {
     "data": {
      "text/plain": [
       "[9725, 11566, 11603, 11185, 11799]"
      ]
     },
     "execution_count": 193,
     "metadata": {},
     "output_type": "execute_result"
    }
   ],
   "source": [
    "DRNCell2D"
   ]
  },
  {
   "cell_type": "code",
   "execution_count": 194,
   "metadata": {},
   "outputs": [
    {
     "data": {
      "text/plain": [
       "[5, 6, 6, 6, 6]"
      ]
     },
     "execution_count": 194,
     "metadata": {},
     "output_type": "execute_result"
    }
   ],
   "source": [
    "DRNTA"
   ]
  },
  {
   "cell_type": "code",
   "execution_count": 195,
   "metadata": {},
   "outputs": [
    {
     "data": {
      "text/plain": [
       "5"
      ]
     },
     "execution_count": 195,
     "metadata": {},
     "output_type": "execute_result"
    }
   ],
   "source": [
    "gpd_DRN = gpd_Grid2D[gpd_Grid2D['CellID'].isin( DRNCell2D ) ].copy()\n",
    "len( gpd_DRN )"
   ]
  },
  {
   "cell_type": "code",
   "execution_count": 196,
   "metadata": {},
   "outputs": [
    {
     "data": {
      "text/html": [
       "<table border=\"1\" class=\"dataframe\">\n",
       "  <thead>\n",
       "    <tr style=\"text-align: right;\">\n",
       "      <th></th>\n",
       "      <th>CellID</th>\n",
       "      <th>TopAct</th>\n",
       "      <th>iuzno</th>\n",
       "      <th>HSoil</th>\n",
       "      <th>FtTerrOut</th>\n",
       "      <th>HRU</th>\n",
       "      <th>CellArea_m2</th>\n",
       "      <th>Weight</th>\n",
       "    </tr>\n",
       "  </thead>\n",
       "  <tbody>\n",
       "    <tr>\n",
       "      <th>9724</th>\n",
       "      <td>9725</td>\n",
       "      <td>5</td>\n",
       "      <td>-1</td>\n",
       "      <td>D</td>\n",
       "      <td>0</td>\n",
       "      <td>-1</td>\n",
       "      <td>15625.00</td>\n",
       "      <td>0.1</td>\n",
       "    </tr>\n",
       "    <tr>\n",
       "      <th>11184</th>\n",
       "      <td>11185</td>\n",
       "      <td>5</td>\n",
       "      <td>-1</td>\n",
       "      <td>D</td>\n",
       "      <td>0</td>\n",
       "      <td>10</td>\n",
       "      <td>3906.25</td>\n",
       "      <td>0.1</td>\n",
       "    </tr>\n",
       "    <tr>\n",
       "      <th>11565</th>\n",
       "      <td>11566</td>\n",
       "      <td>5</td>\n",
       "      <td>-1</td>\n",
       "      <td>D</td>\n",
       "      <td>0</td>\n",
       "      <td>-1</td>\n",
       "      <td>3906.25</td>\n",
       "      <td>0.1</td>\n",
       "    </tr>\n",
       "    <tr>\n",
       "      <th>11602</th>\n",
       "      <td>11603</td>\n",
       "      <td>5</td>\n",
       "      <td>-1</td>\n",
       "      <td>D</td>\n",
       "      <td>0</td>\n",
       "      <td>-1</td>\n",
       "      <td>3906.25</td>\n",
       "      <td>0.1</td>\n",
       "    </tr>\n",
       "    <tr>\n",
       "      <th>11798</th>\n",
       "      <td>11799</td>\n",
       "      <td>5</td>\n",
       "      <td>-1</td>\n",
       "      <td>D</td>\n",
       "      <td>0</td>\n",
       "      <td>8</td>\n",
       "      <td>3906.25</td>\n",
       "      <td>0.1</td>\n",
       "    </tr>\n",
       "  </tbody>\n",
       "</table>"
      ],
      "text/plain": [
       "<IPython.core.display.HTML object>"
      ]
     },
     "metadata": {},
     "output_type": "display_data"
    }
   ],
   "source": [
    "V1Cols = list( gpd_DRN.columns )\n",
    "V1Cols.remove(\"geometry\")\n",
    "display( HTML( gpd_DRN[V1Cols].to_html() ) )"
   ]
  },
  {
   "cell_type": "markdown",
   "metadata": {},
   "source": [
    "**Note**: all iuzno should be -1 because uzf cells should not be assigned where there are drn cells"
   ]
  },
  {
   "cell_type": "markdown",
   "metadata": {},
   "source": [
    "CellID 11185 is Dolan Springs and CellID 11799 is adjacent to Dolan Springs. Both of these should discharge to Reach 5 rather than to the HRU. The other drains/springs are outside of the HSPF model domain."
   ]
  },
  {
   "cell_type": "code",
   "execution_count": 197,
   "metadata": {},
   "outputs": [],
   "source": [
    "exDRNIds = gpd_DRN['CellID'].tolist()"
   ]
  },
  {
   "cell_type": "code",
   "execution_count": 198,
   "metadata": {},
   "outputs": [
    {
     "data": {
      "text/plain": [
       "[9725, 11185, 11566, 11603, 11799]"
      ]
     },
     "execution_count": 198,
     "metadata": {},
     "output_type": "execute_result"
    }
   ],
   "source": [
    "exDRNIds"
   ]
  },
  {
   "cell_type": "code",
   "execution_count": 199,
   "metadata": {},
   "outputs": [
    {
     "data": {
      "text/plain": [
       "[9725, 11566, 11603, 11185, 11799]"
      ]
     },
     "execution_count": 199,
     "metadata": {},
     "output_type": "execute_result"
    }
   ],
   "source": [
    "DRNCell2D"
   ]
  },
  {
   "cell_type": "code",
   "execution_count": 200,
   "metadata": {},
   "outputs": [],
   "source": [
    "exIuzno = gpd_DRN['iuzno'].tolist()\n",
    "exTA = gpd_DRN[\"TopAct\"].tolist()\n",
    "exCellArea = gpd_DRN[\"CellArea_m2\"].tolist()"
   ]
  },
  {
   "cell_type": "code",
   "execution_count": 201,
   "metadata": {},
   "outputs": [
    {
     "data": {
      "text/plain": [
       "[15625.0, 3906.25, 3906.25, 3906.25, 3906.25]"
      ]
     },
     "execution_count": 201,
     "metadata": {},
     "output_type": "execute_result"
    }
   ],
   "source": [
    "exCellArea"
   ]
  },
  {
   "cell_type": "code",
   "execution_count": 202,
   "metadata": {},
   "outputs": [],
   "source": [
    "gpd_DRN[\"Label\"] = \"None\""
   ]
  },
  {
   "cell_type": "code",
   "execution_count": 203,
   "metadata": {},
   "outputs": [],
   "source": [
    "gpd_DRN.at[DRNCell2D[0]-1, \"Label\"] = DRNNames[0]\n",
    "gpd_DRN.at[DRNCell2D[1]-1, \"Label\"] = DRNNames[1]\n",
    "gpd_DRN.at[DRNCell2D[2]-1, \"Label\"] = DRNNames[2]\n",
    "gpd_DRN.at[DRNCell2D[3]-1, \"Label\"] = DRNNames[3]\n",
    "gpd_DRN.at[DRNCell2D[4]-1, \"Label\"] = DRNNames[4]"
   ]
  },
  {
   "cell_type": "code",
   "execution_count": 204,
   "metadata": {},
   "outputs": [],
   "source": [
    "gpd_DRN[\"DrnLayer\"] = -1"
   ]
  },
  {
   "cell_type": "code",
   "execution_count": 205,
   "metadata": {},
   "outputs": [],
   "source": [
    "gpd_DRN.at[DRNCell2D[0]-1, \"DrnLayer\"] = DRNTA[0]\n",
    "gpd_DRN.at[DRNCell2D[1]-1, \"DrnLayer\"] = DRNTA[1]\n",
    "gpd_DRN.at[DRNCell2D[2]-1, \"DrnLayer\"] = DRNTA[2]\n",
    "gpd_DRN.at[DRNCell2D[3]-1, \"DrnLayer\"] = DRNTA[3]\n",
    "gpd_DRN.at[DRNCell2D[4]-1, \"DrnLayer\"] = DRNTA[4]"
   ]
  },
  {
   "cell_type": "code",
   "execution_count": 206,
   "metadata": {},
   "outputs": [
    {
     "data": {
      "text/html": [
       "<table border=\"1\" class=\"dataframe\">\n",
       "  <thead>\n",
       "    <tr style=\"text-align: right;\">\n",
       "      <th></th>\n",
       "      <th>CellID</th>\n",
       "      <th>TopAct</th>\n",
       "      <th>iuzno</th>\n",
       "      <th>HSoil</th>\n",
       "      <th>FtTerrOut</th>\n",
       "      <th>HRU</th>\n",
       "      <th>CellArea_m2</th>\n",
       "      <th>Weight</th>\n",
       "      <th>Label</th>\n",
       "      <th>DrnLayer</th>\n",
       "    </tr>\n",
       "  </thead>\n",
       "  <tbody>\n",
       "    <tr>\n",
       "      <th>9724</th>\n",
       "      <td>9725</td>\n",
       "      <td>5</td>\n",
       "      <td>-1</td>\n",
       "      <td>D</td>\n",
       "      <td>0</td>\n",
       "      <td>-1</td>\n",
       "      <td>15625.00</td>\n",
       "      <td>0.1</td>\n",
       "      <td>finegan</td>\n",
       "      <td>5</td>\n",
       "    </tr>\n",
       "    <tr>\n",
       "      <th>11184</th>\n",
       "      <td>11185</td>\n",
       "      <td>5</td>\n",
       "      <td>-1</td>\n",
       "      <td>D</td>\n",
       "      <td>0</td>\n",
       "      <td>10</td>\n",
       "      <td>3906.25</td>\n",
       "      <td>0.1</td>\n",
       "      <td>dolan</td>\n",
       "      <td>6</td>\n",
       "    </tr>\n",
       "    <tr>\n",
       "      <th>11565</th>\n",
       "      <td>11566</td>\n",
       "      <td>5</td>\n",
       "      <td>-1</td>\n",
       "      <td>D</td>\n",
       "      <td>0</td>\n",
       "      <td>-1</td>\n",
       "      <td>3906.25</td>\n",
       "      <td>0.1</td>\n",
       "      <td>ud704</td>\n",
       "      <td>6</td>\n",
       "    </tr>\n",
       "    <tr>\n",
       "      <th>11602</th>\n",
       "      <td>11603</td>\n",
       "      <td>5</td>\n",
       "      <td>-1</td>\n",
       "      <td>D</td>\n",
       "      <td>0</td>\n",
       "      <td>-1</td>\n",
       "      <td>3906.25</td>\n",
       "      <td>0.1</td>\n",
       "      <td>ud703</td>\n",
       "      <td>6</td>\n",
       "    </tr>\n",
       "    <tr>\n",
       "      <th>11798</th>\n",
       "      <td>11799</td>\n",
       "      <td>5</td>\n",
       "      <td>-1</td>\n",
       "      <td>D</td>\n",
       "      <td>0</td>\n",
       "      <td>8</td>\n",
       "      <td>3906.25</td>\n",
       "      <td>0.1</td>\n",
       "      <td>ud701</td>\n",
       "      <td>6</td>\n",
       "    </tr>\n",
       "  </tbody>\n",
       "</table>"
      ],
      "text/plain": [
       "<IPython.core.display.HTML object>"
      ]
     },
     "metadata": {},
     "output_type": "display_data"
    }
   ],
   "source": [
    "V1Cols = list( gpd_DRN.columns )\n",
    "V1Cols.remove(\"geometry\")\n",
    "display( HTML( gpd_DRN[V1Cols].to_html() ) )"
   ]
  },
  {
   "cell_type": "code",
   "execution_count": 207,
   "metadata": {},
   "outputs": [
    {
     "name": "stderr",
     "output_type": "stream",
     "text": [
      "C:\\Users\\nmartin\\AppData\\Local\\Temp\\ipykernel_9016\\2118996727.py:3: UserWarning: Column names longer than 10 characters will be truncated when saved to ESRI Shapefile.\n",
      "  gpd_DRN.to_file( OutFP )\n"
     ]
    }
   ],
   "source": [
    "OutFile = \"DrnsSprings_Grid.shp\"\n",
    "OutFP = os.path.normpath( os.path.join( OUT_DIR, OutFile ) )\n",
    "gpd_DRN.to_file( OutFP )"
   ]
  },
  {
   "cell_type": "markdown",
   "metadata": {},
   "source": [
    "Make the dictionary that will be serialized to defined linkages between MODFLOW 6 drain cells and HSPF."
   ]
  },
  {
   "cell_type": "code",
   "execution_count": 208,
   "metadata": {},
   "outputs": [],
   "source": [
    "SpringDict = dict()"
   ]
  },
  {
   "cell_type": "code",
   "execution_count": 209,
   "metadata": {},
   "outputs": [],
   "source": [
    "for iI in range( nOrgDRN ):\n",
    "    curLay = exDRN[iI][DrnHdrs[0]][0]\n",
    "    curC2ID = exDRN[iI][DrnHdrs[0]][1]\n",
    "    curBndName = exDRN[iI][DrnHdrs[3]]\n",
    "    surfArea = float( gpd_DRN.at[curC2ID, \"geometry\"].area )\n",
    "    #surfArea = float( MPolys.at[curC2ID, \"geometry\"].area )\n",
    "    curHID = DRN_Dict[curBndName]\n",
    "    if curHID in SpringDict.keys():\n",
    "        SpringDict[curHID].append( [ curBndName, curC2ID+1, curLay+1, surfArea] )\n",
    "    else:\n",
    "        SpringDict[curHID] = [ [ curBndName, curC2ID+1, curLay+1, surfArea],]\n",
    "    # end if\n",
    "# end for"
   ]
  },
  {
   "cell_type": "code",
   "execution_count": 210,
   "metadata": {},
   "outputs": [
    {
     "data": {
      "text/plain": [
       "{'Outside': [['finegan', 9725, 5, 15625.0],\n",
       "  ['ud704', 11566, 6, 3906.25],\n",
       "  ['ud703', 11603, 6, 3906.25]],\n",
       " 'R005': [['dolan', 11185, 6, 3906.25], ['ud701', 11799, 6, 3906.25]]}"
      ]
     },
     "execution_count": 210,
     "metadata": {},
     "output_type": "execute_result"
    }
   ],
   "source": [
    "SpringDict"
   ]
  },
  {
   "cell_type": "code",
   "execution_count": 211,
   "metadata": {},
   "outputs": [],
   "source": [
    "OutFile = \"cpWS_Springs.pickle\"\n",
    "OutFP = os.path.normpath( os.path.join( OUT_DIR, OutFile ) )\n",
    "with open( OutFP, 'wb' ) as OP:\n",
    "    pickle.dump( SpringDict, OP, pickle.HIGHEST_PROTOCOL )"
   ]
  },
  {
   "cell_type": "code",
   "execution_count": null,
   "metadata": {},
   "outputs": [],
   "source": []
  }
 ],
 "metadata": {
  "kernelspec": {
   "display_name": "Python 3 (ipykernel)",
   "language": "python",
   "name": "python3"
  },
  "language_info": {
   "codemirror_mode": {
    "name": "ipython",
    "version": 3
   },
   "file_extension": ".py",
   "mimetype": "text/x-python",
   "name": "python",
   "nbconvert_exporter": "python",
   "pygments_lexer": "ipython3",
   "version": "3.9.15"
  }
 },
 "nbformat": 4,
 "nbformat_minor": 4
}
