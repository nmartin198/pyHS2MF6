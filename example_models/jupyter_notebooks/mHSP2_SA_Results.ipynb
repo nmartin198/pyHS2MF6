{
 "cells": [
  {
   "cell_type": "markdown",
   "metadata": {},
   "source": [
    "# mHSP2: Extract Standalone Results"
   ]
  },
  {
   "cell_type": "markdown",
   "metadata": {},
   "source": [
    "An example of extracting standalone results from **mHSP2**."
   ]
  },
  {
   "cell_type": "markdown",
   "metadata": {},
   "source": [
    "## Imports and Parameters"
   ]
  },
  {
   "cell_type": "code",
   "execution_count": 1,
   "metadata": {},
   "outputs": [],
   "source": [
    "%matplotlib inline"
   ]
  },
  {
   "cell_type": "code",
   "execution_count": 2,
   "metadata": {},
   "outputs": [],
   "source": [
    "from IPython.display import display, HTML\n",
    "import numpy as np\n",
    "import pandas as pd\n",
    "import datetime as dt\n",
    "import geopandas as gpd\n",
    "import matplotlib as mpl\n",
    "import matplotlib.pyplot as plt\n",
    "import os\n",
    "from shapely.geometry import Polygon, Point\n",
    "import pickle\n",
    "import matplotlib.tri as tri\n",
    "import datetime as dt\n",
    "from copy import deepcopy"
   ]
  },
  {
   "cell_type": "code",
   "execution_count": 3,
   "metadata": {},
   "outputs": [
    {
     "name": "stdout",
     "output_type": "stream",
     "text": [
      "flopy is installed in C:\\ProgramData\\Anaconda3\\lib\\site-packages\\flopy\n"
     ]
    }
   ],
   "source": [
    "import flopy"
   ]
  },
  {
   "cell_type": "code",
   "execution_count": 4,
   "metadata": {},
   "outputs": [],
   "source": [
    "# Absolute path to HSPF and associated parameters\n",
    "HSPF_Dir = r'C:\\Working\\Test_Models\\modSA_mHSP2'\n",
    "HSPF_HDF5 = \"DC_CalibmHSP2.h5\"\n",
    "GAUGE_XLSX = r'C:\\Working\\Test_Models\\modSA_mHSP2\\DolanProcessed_Hr-Processed.xlsx'\n",
    "GAUGE_SHT = \"Daily\"\n",
    "GAUGE_HDR = \"Discharge_cfs\""
   ]
  },
  {
   "cell_type": "code",
   "execution_count": 5,
   "metadata": {},
   "outputs": [],
   "source": [
    "OUT_DIR = r'C:\\Working\\Test_Models\\modSA_mHSP2\\Outputs'"
   ]
  },
  {
   "cell_type": "code",
   "execution_count": 6,
   "metadata": {},
   "outputs": [],
   "source": [
    "ConvAFDtoCFS = lambda AFD: ( AFD * ( 43560.0 / 1.0**2 ) ) * ( 1.0 / (24.0 * 60.0 * 60.0 ) ) \n",
    "ConvAFtoCM = lambda AF: AF * 1233.48185532\n",
    "ConvCMDtoCFS = lambda CMD: ( CMD * ( 35.3147 / 1.0**3 ) ) * ( 1.0 / (24.0 * 60.0 * 60.0 ) ) "
   ]
  },
  {
   "cell_type": "code",
   "execution_count": 7,
   "metadata": {},
   "outputs": [],
   "source": [
    "CStart_DT = dt.datetime( 2013, 7, 1 )\n",
    "CEnd_DT = dt.datetime( 2018, 7, 1 )"
   ]
  },
  {
   "cell_type": "markdown",
   "metadata": {},
   "source": [
    "## Load Simulation Results and Data"
   ]
  },
  {
   "cell_type": "markdown",
   "metadata": {},
   "source": [
    "Load the HSPF results from the HDF5 file"
   ]
  },
  {
   "cell_type": "code",
   "execution_count": 8,
   "metadata": {},
   "outputs": [],
   "source": [
    "InStore = os.path.normpath( os.path.join( HSPF_Dir, HSPF_HDF5 ) )\n",
    "with pd.HDFStore( InStore ) as store:\n",
    "    H_RR5 = store.get(key=r'/RESULTS/RCHRES_R005/HYDR/')\n",
    "# end with and close the file"
   ]
  },
  {
   "cell_type": "code",
   "execution_count": 9,
   "metadata": {},
   "outputs": [],
   "source": [
    "H_RR5[\"ovol_cfs\"] = H_RR5.apply( lambda row: ConvAFDtoCFS( row[\"OVOL1\"] ), axis=1 )"
   ]
  },
  {
   "cell_type": "code",
   "execution_count": 10,
   "metadata": {},
   "outputs": [],
   "source": [
    "H_RR5 = H_RR5.loc[CStart_DT:CEnd_DT].copy()"
   ]
  },
  {
   "cell_type": "code",
   "execution_count": 11,
   "metadata": {},
   "outputs": [
    {
     "data": {
      "text/html": [
       "<table border=\"1\" class=\"dataframe\">\n",
       "  <thead>\n",
       "    <tr style=\"text-align: right;\">\n",
       "      <th></th>\n",
       "      <th>DEP</th>\n",
       "      <th>IVOL</th>\n",
       "      <th>O1</th>\n",
       "      <th>OVOL1</th>\n",
       "      <th>PRSUPY</th>\n",
       "      <th>RO</th>\n",
       "      <th>ROVOL</th>\n",
       "      <th>SAREA</th>\n",
       "      <th>VOL</th>\n",
       "      <th>VOLEV</th>\n",
       "      <th>ovol_cfs</th>\n",
       "    </tr>\n",
       "  </thead>\n",
       "  <tbody>\n",
       "    <tr>\n",
       "      <th>count</th>\n",
       "      <td>1827.000000</td>\n",
       "      <td>1827.000000</td>\n",
       "      <td>1827.000000</td>\n",
       "      <td>1827.000000</td>\n",
       "      <td>1827.000000</td>\n",
       "      <td>1827.000000</td>\n",
       "      <td>1827.000000</td>\n",
       "      <td>1827.000000</td>\n",
       "      <td>1827.000000</td>\n",
       "      <td>1827.000000</td>\n",
       "      <td>1827.000000</td>\n",
       "    </tr>\n",
       "    <tr>\n",
       "      <th>mean</th>\n",
       "      <td>2.603622</td>\n",
       "      <td>28.492222</td>\n",
       "      <td>14.221018</td>\n",
       "      <td>28.207014</td>\n",
       "      <td>0.188241</td>\n",
       "      <td>14.221018</td>\n",
       "      <td>28.207014</td>\n",
       "      <td>33.589439</td>\n",
       "      <td>266.435150</td>\n",
       "      <td>0.473762</td>\n",
       "      <td>14.221026</td>\n",
       "    </tr>\n",
       "    <tr>\n",
       "      <th>std</th>\n",
       "      <td>0.085865</td>\n",
       "      <td>7.578643</td>\n",
       "      <td>3.817648</td>\n",
       "      <td>7.572196</td>\n",
       "      <td>0.722031</td>\n",
       "      <td>3.817648</td>\n",
       "      <td>7.572196</td>\n",
       "      <td>0.089827</td>\n",
       "      <td>2.856511</td>\n",
       "      <td>0.163473</td>\n",
       "      <td>3.817648</td>\n",
       "    </tr>\n",
       "    <tr>\n",
       "      <th>min</th>\n",
       "      <td>2.473819</td>\n",
       "      <td>23.820107</td>\n",
       "      <td>11.687729</td>\n",
       "      <td>23.182272</td>\n",
       "      <td>0.000000</td>\n",
       "      <td>11.687729</td>\n",
       "      <td>23.182272</td>\n",
       "      <td>33.450912</td>\n",
       "      <td>262.141998</td>\n",
       "      <td>0.109892</td>\n",
       "      <td>11.687729</td>\n",
       "    </tr>\n",
       "    <tr>\n",
       "      <th>25%</th>\n",
       "      <td>2.549476</td>\n",
       "      <td>25.679740</td>\n",
       "      <td>12.776174</td>\n",
       "      <td>25.341171</td>\n",
       "      <td>0.000000</td>\n",
       "      <td>12.776174</td>\n",
       "      <td>25.341171</td>\n",
       "      <td>33.532150</td>\n",
       "      <td>264.640076</td>\n",
       "      <td>0.315787</td>\n",
       "      <td>12.776174</td>\n",
       "    </tr>\n",
       "    <tr>\n",
       "      <th>50%</th>\n",
       "      <td>2.600850</td>\n",
       "      <td>27.246685</td>\n",
       "      <td>13.515259</td>\n",
       "      <td>26.807123</td>\n",
       "      <td>0.000000</td>\n",
       "      <td>13.515259</td>\n",
       "      <td>26.807123</td>\n",
       "      <td>33.587315</td>\n",
       "      <td>266.336365</td>\n",
       "      <td>0.520775</td>\n",
       "      <td>13.515258</td>\n",
       "    </tr>\n",
       "    <tr>\n",
       "      <th>75%</th>\n",
       "      <td>2.638278</td>\n",
       "      <td>28.701836</td>\n",
       "      <td>14.432969</td>\n",
       "      <td>28.627376</td>\n",
       "      <td>0.000090</td>\n",
       "      <td>14.432969</td>\n",
       "      <td>28.627376</td>\n",
       "      <td>33.626926</td>\n",
       "      <td>267.576721</td>\n",
       "      <td>0.617765</td>\n",
       "      <td>14.432969</td>\n",
       "    </tr>\n",
       "    <tr>\n",
       "      <th>max</th>\n",
       "      <td>3.193897</td>\n",
       "      <td>108.144325</td>\n",
       "      <td>54.326874</td>\n",
       "      <td>107.755783</td>\n",
       "      <td>9.243500</td>\n",
       "      <td>54.326874</td>\n",
       "      <td>107.755783</td>\n",
       "      <td>34.197098</td>\n",
       "      <td>286.186920</td>\n",
       "      <td>0.775804</td>\n",
       "      <td>54.326874</td>\n",
       "    </tr>\n",
       "  </tbody>\n",
       "</table>"
      ],
      "text/plain": [
       "<IPython.core.display.HTML object>"
      ]
     },
     "metadata": {},
     "output_type": "display_data"
    }
   ],
   "source": [
    "display( HTML( H_RR5.describe().to_html() ) )"
   ]
  },
  {
   "cell_type": "code",
   "execution_count": 12,
   "metadata": {},
   "outputs": [],
   "source": [
    "H_DSprings = pd.read_hdf( InStore, key=r'/TIMESERIES/TS136/')"
   ]
  },
  {
   "cell_type": "code",
   "execution_count": 13,
   "metadata": {},
   "outputs": [
    {
     "data": {
      "text/plain": [
       "pandas.core.series.Series"
      ]
     },
     "execution_count": 13,
     "metadata": {},
     "output_type": "execute_result"
    }
   ],
   "source": [
    "type(H_DSprings)"
   ]
  },
  {
   "cell_type": "code",
   "execution_count": 14,
   "metadata": {},
   "outputs": [
    {
     "data": {
      "text/plain": [
       "DatetimeIndex(['1980-01-01', '1980-01-02', '1980-01-03', '1980-01-04',\n",
       "               '1980-01-05'],\n",
       "              dtype='datetime64[ns]', name='Datetime', freq='D')"
      ]
     },
     "execution_count": 14,
     "metadata": {},
     "output_type": "execute_result"
    }
   ],
   "source": [
    "H_DSprings.index[:5]"
   ]
  },
  {
   "cell_type": "code",
   "execution_count": 15,
   "metadata": {},
   "outputs": [
    {
     "data": {
      "text/plain": [
       "array([24.21453563, 24.16047762, 24.10736857, ..., 23.25454552,\n",
       "       23.24704467, 23.24150613])"
      ]
     },
     "execution_count": 15,
     "metadata": {},
     "output_type": "execute_result"
    }
   ],
   "source": [
    "H_DSprings.values"
   ]
  },
  {
   "cell_type": "markdown",
   "metadata": {},
   "source": [
    "Make a DataFrame"
   ]
  },
  {
   "cell_type": "code",
   "execution_count": 16,
   "metadata": {},
   "outputs": [],
   "source": [
    "DataDict = { \"ExtIn_afd\" : np.array( H_DSprings.values, dtype=np.float32 ), }\n",
    "H_RR5_ExIn = pd.DataFrame( index=H_DSprings.index, data=DataDict )"
   ]
  },
  {
   "cell_type": "code",
   "execution_count": 17,
   "metadata": {},
   "outputs": [],
   "source": [
    "H_RR5_ExIn[\"ovol_cfs\"] = H_RR5_ExIn.apply( lambda row: ConvAFDtoCFS( row[\"ExtIn_afd\"] ), axis=1 )"
   ]
  },
  {
   "cell_type": "code",
   "execution_count": 18,
   "metadata": {},
   "outputs": [],
   "source": [
    "H_RR5_ExIn = H_RR5_ExIn.loc[CStart_DT:CEnd_DT].copy()"
   ]
  },
  {
   "cell_type": "code",
   "execution_count": 19,
   "metadata": {},
   "outputs": [
    {
     "data": {
      "text/html": [
       "<table border=\"1\" class=\"dataframe\">\n",
       "  <thead>\n",
       "    <tr style=\"text-align: right;\">\n",
       "      <th></th>\n",
       "      <th>ExtIn_afd</th>\n",
       "      <th>ovol_cfs</th>\n",
       "    </tr>\n",
       "  </thead>\n",
       "  <tbody>\n",
       "    <tr>\n",
       "      <th>count</th>\n",
       "      <td>1827.000000</td>\n",
       "      <td>1827.000000</td>\n",
       "    </tr>\n",
       "    <tr>\n",
       "      <th>mean</th>\n",
       "      <td>24.909149</td>\n",
       "      <td>12.558361</td>\n",
       "    </tr>\n",
       "    <tr>\n",
       "      <th>std</th>\n",
       "      <td>1.203387</td>\n",
       "      <td>0.606707</td>\n",
       "    </tr>\n",
       "    <tr>\n",
       "      <th>min</th>\n",
       "      <td>23.195240</td>\n",
       "      <td>11.694267</td>\n",
       "    </tr>\n",
       "    <tr>\n",
       "      <th>25%</th>\n",
       "      <td>23.710787</td>\n",
       "      <td>11.954188</td>\n",
       "    </tr>\n",
       "    <tr>\n",
       "      <th>50%</th>\n",
       "      <td>24.910954</td>\n",
       "      <td>12.559272</td>\n",
       "    </tr>\n",
       "    <tr>\n",
       "      <th>75%</th>\n",
       "      <td>26.088001</td>\n",
       "      <td>13.152701</td>\n",
       "    </tr>\n",
       "    <tr>\n",
       "      <th>max</th>\n",
       "      <td>26.784445</td>\n",
       "      <td>13.503824</td>\n",
       "    </tr>\n",
       "  </tbody>\n",
       "</table>"
      ],
      "text/plain": [
       "<IPython.core.display.HTML object>"
      ]
     },
     "metadata": {},
     "output_type": "display_data"
    }
   ],
   "source": [
    "display( HTML( H_RR5_ExIn.describe().to_html() ) )"
   ]
  },
  {
   "cell_type": "markdown",
   "metadata": {},
   "source": [
    "Make continuous lists so that can use \"fill\""
   ]
  },
  {
   "cell_type": "code",
   "execution_count": 20,
   "metadata": {},
   "outputs": [
    {
     "data": {
      "text/plain": [
       "1827"
      ]
     },
     "execution_count": 20,
     "metadata": {},
     "output_type": "execute_result"
    }
   ],
   "source": [
    "lenBF = len( H_RR5_ExIn )\n",
    "lenBF"
   ]
  },
  {
   "cell_type": "code",
   "execution_count": 21,
   "metadata": {},
   "outputs": [
    {
     "data": {
      "text/plain": [
       "list"
      ]
     },
     "execution_count": 21,
     "metadata": {},
     "output_type": "execute_result"
    }
   ],
   "source": [
    "DTTimeList = list( H_RR5_ExIn.index.to_pydatetime() )\n",
    "type(DTTimeList)"
   ]
  },
  {
   "cell_type": "code",
   "execution_count": 22,
   "metadata": {},
   "outputs": [
    {
     "data": {
      "text/plain": [
       "[datetime.datetime(2018, 7, 1, 0, 0),\n",
       " datetime.datetime(2018, 6, 30, 0, 0),\n",
       " datetime.datetime(2018, 6, 29, 0, 0),\n",
       " datetime.datetime(2018, 6, 28, 0, 0),\n",
       " datetime.datetime(2018, 6, 27, 0, 0)]"
      ]
     },
     "execution_count": 22,
     "metadata": {},
     "output_type": "execute_result"
    }
   ],
   "source": [
    "BackDTList = deepcopy( DTTimeList )\n",
    "BackDTList = BackDTList[::-1]\n",
    "BackDTList[:5]"
   ]
  },
  {
   "cell_type": "code",
   "execution_count": 23,
   "metadata": {},
   "outputs": [
    {
     "data": {
      "text/plain": [
       "[12.178044247627257,\n",
       " 12.203668578465779,\n",
       " 12.229670826594035,\n",
       " 12.256020220120748,\n",
       " 12.282683102289836]"
      ]
     },
     "execution_count": 23,
     "metadata": {},
     "output_type": "execute_result"
    }
   ],
   "source": [
    "ZeroVals = [ 0.0 for x in range( lenBF ) ]\n",
    "DSVals = list( H_RR5_ExIn[\"ovol_cfs\"].to_numpy() )\n",
    "DSVals = DSVals[::-1]\n",
    "DSVals[:5]"
   ]
  },
  {
   "cell_type": "code",
   "execution_count": 24,
   "metadata": {},
   "outputs": [],
   "source": [
    "ValsList = deepcopy( ZeroVals )\n",
    "ValsList.extend( DSVals )\n",
    "DTTimeList.extend( BackDTList )"
   ]
  },
  {
   "cell_type": "markdown",
   "metadata": {},
   "source": [
    "Load the gauge data"
   ]
  },
  {
   "cell_type": "code",
   "execution_count": 25,
   "metadata": {},
   "outputs": [
    {
     "name": "stderr",
     "output_type": "stream",
     "text": [
      "C:\\ProgramData\\Anaconda3\\lib\\site-packages\\xlrd\\xlsx.py:266: PendingDeprecationWarning: This method will be removed in future versions.  Use 'tree.iter()' or 'list(tree.iter())' instead.\n",
      "  for elem in self.tree.iter() if Element_has_iter else self.tree.getiterator():\n",
      "C:\\ProgramData\\Anaconda3\\lib\\site-packages\\xlrd\\xlsx.py:312: PendingDeprecationWarning: This method will be removed in future versions.  Use 'tree.iter()' or 'list(tree.iter())' instead.\n",
      "  for elem in self.tree.iter() if Element_has_iter else self.tree.getiterator():\n",
      "C:\\ProgramData\\Anaconda3\\lib\\site-packages\\xlrd\\xlsx.py:266: PendingDeprecationWarning: This method will be removed in future versions.  Use 'tree.iter()' or 'list(tree.iter())' instead.\n",
      "  for elem in self.tree.iter() if Element_has_iter else self.tree.getiterator():\n"
     ]
    }
   ],
   "source": [
    "DCGauge = pd.read_excel( GAUGE_XLSX, sheet_name=GAUGE_SHT, header=0, index_col=0, parse_dates=True )"
   ]
  },
  {
   "cell_type": "code",
   "execution_count": 26,
   "metadata": {},
   "outputs": [],
   "source": [
    "DCGauge = DCGauge[[GAUGE_HDR]].loc[CStart_DT:CEnd_DT].copy()"
   ]
  },
  {
   "cell_type": "code",
   "execution_count": 27,
   "metadata": {},
   "outputs": [
    {
     "data": {
      "text/html": [
       "<table border=\"1\" class=\"dataframe\">\n",
       "  <thead>\n",
       "    <tr style=\"text-align: right;\">\n",
       "      <th></th>\n",
       "      <th>Discharge_cfs</th>\n",
       "    </tr>\n",
       "  </thead>\n",
       "  <tbody>\n",
       "    <tr>\n",
       "      <th>count</th>\n",
       "      <td>1827.000000</td>\n",
       "    </tr>\n",
       "    <tr>\n",
       "      <th>mean</th>\n",
       "      <td>14.924813</td>\n",
       "    </tr>\n",
       "    <tr>\n",
       "      <th>std</th>\n",
       "      <td>4.637589</td>\n",
       "    </tr>\n",
       "    <tr>\n",
       "      <th>min</th>\n",
       "      <td>8.030938</td>\n",
       "    </tr>\n",
       "    <tr>\n",
       "      <th>25%</th>\n",
       "      <td>11.859896</td>\n",
       "    </tr>\n",
       "    <tr>\n",
       "      <th>50%</th>\n",
       "      <td>13.535417</td>\n",
       "    </tr>\n",
       "    <tr>\n",
       "      <th>75%</th>\n",
       "      <td>16.627604</td>\n",
       "    </tr>\n",
       "    <tr>\n",
       "      <th>max</th>\n",
       "      <td>44.078827</td>\n",
       "    </tr>\n",
       "  </tbody>\n",
       "</table>"
      ],
      "text/plain": [
       "<IPython.core.display.HTML object>"
      ]
     },
     "metadata": {},
     "output_type": "display_data"
    }
   ],
   "source": [
    "display( HTML( DCGauge.describe().to_html() ) )"
   ]
  },
  {
   "cell_type": "markdown",
   "metadata": {},
   "source": [
    "## Plots"
   ]
  },
  {
   "cell_type": "code",
   "execution_count": 28,
   "metadata": {},
   "outputs": [
    {
     "data": {
      "text/plain": [
       "'C:\\\\Working\\\\Test_Models\\\\modSA_mHSP2\\\\Outputs\\\\HSPF_SA_Calib.svg'"
      ]
     },
     "execution_count": 28,
     "metadata": {},
     "output_type": "execute_result"
    }
   ],
   "source": [
    "OutSVG = os.path.normpath( os.path.join( OUT_DIR, \"HSPF_SA_Calib.svg\" ) )\n",
    "OutSVG"
   ]
  },
  {
   "cell_type": "code",
   "execution_count": 29,
   "metadata": {},
   "outputs": [
    {
     "data": {
      "text/plain": [
       "'C:\\\\Working\\\\Test_Models\\\\modSA_mHSP2\\\\Outputs\\\\HSPF_SA_Calib.png'"
      ]
     },
     "execution_count": 29,
     "metadata": {},
     "output_type": "execute_result"
    }
   ],
   "source": [
    "OutPNG = os.path.normpath( os.path.join( OUT_DIR, \"HSPF_SA_Calib.png\" ) )\n",
    "OutPNG"
   ]
  },
  {
   "cell_type": "code",
   "execution_count": 30,
   "metadata": {},
   "outputs": [],
   "source": [
    "disTicks = [ 5.0, 10.0, 50.0, 100.0 ]"
   ]
  },
  {
   "cell_type": "code",
   "execution_count": 31,
   "metadata": {},
   "outputs": [
    {
     "data": {
      "image/png": "[encoded data removed]",
      "text/plain": [
       "<Figure size 720x504 with 1 Axes>"
      ]
     },
     "metadata": {
      "needs_background": "light"
     },
     "output_type": "display_data"
    }
   ],
   "source": [
    "Fig1 = plt.figure()\n",
    "Fig1.set_size_inches(10.0, 7.0)\n",
    "ax11 = Fig1.add_subplot(111)\n",
    "Dcg, = ax11.plot( DCGauge.index, DCGauge[GAUGE_HDR], color='xkcd:ocean blue', linewidth=2,\n",
    "                  label=\"Dolan Creek Gauge\" )\n",
    "Rc5, = ax11.plot( H_RR5.index, H_RR5[\"ovol_cfs\"], color='xkcd:burnt orange', linewidth=2,\n",
    "                  label=\"HSPF Reach #5 Outflow (simulated gauge discharge)\" )\n",
    "sfF = ax11.fill( DTTimeList, ValsList, color='xkcd:pale orange', alpha=0.5, \n",
    "                 label=\"HSPF Reach #5 Specified External Inflow Timeseries (Dolan Springs Discharge)\")\n",
    "#ax11.legend( (Dcg, Rc5 ), \n",
    "#             (\"Dolan Creek Gauge\", \"Simulated Reach 5 outflow\" ),\n",
    "#             loc='upper center', fontsize=12)\n",
    "ax11.legend(loc='upper left', fontsize=12)\n",
    "ax11.set_yscale('log')\n",
    "ax11.grid(b=True, which=\"both\", axis='y')\n",
    "ax11.set_ylim( ( 5.0, 100.0))\n",
    "ax11.set_xlim( (CStart_DT, CEnd_DT))\n",
    "ax11.set_yticks( disTicks )\n",
    "ax11.set_ylabel('Dolan Creek Discharge (cfs)', fontsize=13)\n",
    "ax11.tick_params(axis='both', which='major', labelsize=12)\n",
    "ax11.tick_params(axis='x', which='major', labelrotation=30.0)\n",
    "ax11.xaxis.set_major_formatter( mpl.dates.DateFormatter(\"%m/%d/%Y\") )\n",
    "ax11.yaxis.set_major_formatter( mpl.ticker.StrMethodFormatter( \"{x:,.1f}\" ) )\n",
    "Fig1.savefig( OutSVG )\n",
    "Fig1.savefig( OutPNG )"
   ]
  },
  {
   "cell_type": "code",
   "execution_count": null,
   "metadata": {},
   "outputs": [],
   "source": []
  }
 ],
 "metadata": {
  "kernelspec": {
   "display_name": "Python 3",
   "language": "python",
   "name": "python3"
  },
  "language_info": {
   "codemirror_mode": {
    "name": "ipython",
    "version": 3
   },
   "file_extension": ".py",
   "mimetype": "text/x-python",
   "name": "python",
   "nbconvert_exporter": "python",
   "pygments_lexer": "ipython3",
   "version": "3.7.7"
  }
 },
 "nbformat": 4,
 "nbformat_minor": 4
}
