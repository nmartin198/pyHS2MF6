{
 "cells": [
  {
   "cell_type": "markdown",
   "metadata": {},
   "source": [
    "# Extract Standalone HSPF Results"
   ]
  },
  {
   "cell_type": "markdown",
   "metadata": {},
   "source": [
    "Currently this is just the comparison of the \"gauge\" record, simulated discharge from Reach #5, and external inflows which represent Dolan Creek spring discharge"
   ]
  },
  {
   "cell_type": "markdown",
   "metadata": {},
   "source": [
    "## Imports and Parameters"
   ]
  },
  {
   "cell_type": "code",
   "execution_count": 1,
   "metadata": {},
   "outputs": [],
   "source": [
    "%matplotlib inline"
   ]
  },
  {
   "cell_type": "code",
   "execution_count": 2,
   "metadata": {},
   "outputs": [],
   "source": [
    "from IPython.display import display, HTML\n",
    "import numpy as np\n",
    "import pandas as pd\n",
    "import datetime as dt\n",
    "import geopandas as gpd\n",
    "import matplotlib as mpl\n",
    "import matplotlib.pyplot as plt\n",
    "import os\n",
    "from shapely.geometry import Polygon, Point\n",
    "import pickle\n",
    "import matplotlib.tri as tri\n",
    "import datetime as dt\n",
    "from copy import deepcopy"
   ]
  },
  {
   "cell_type": "code",
   "execution_count": 3,
   "metadata": {},
   "outputs": [
    {
     "name": "stdout",
     "output_type": "stream",
     "text": [
      "flopy is installed in C:\\ProgramData\\Anaconda3\\lib\\site-packages\\flopy\n"
     ]
    }
   ],
   "source": [
    "import flopy"
   ]
  },
  {
   "cell_type": "code",
   "execution_count": 4,
   "metadata": {},
   "outputs": [],
   "source": [
    "# Absolute path to HSPF and associated parameters\n",
    "HSPF_Dir = r'C:\\Users\\nmartin\\Documents\\LOCA\\Test_Models\\Initial_12_HRU_HSP2'\n",
    "HSPF_HDF5 = \"DC_Subs_12_mHSP2_PreAutoCal.h5\"\n",
    "GAUGE_XLSX = r'C:\\Working\\Test_Models\\Coupled_HSPF\\DolanProcessed_Hr-Processed.xlsx'\n",
    "GAUGE_SHT = \"Daily\"\n",
    "GAUGE_HDR = \"Discharge_cfs\""
   ]
  },
  {
   "cell_type": "code",
   "execution_count": 31,
   "metadata": {},
   "outputs": [],
   "source": [
    "# Absolute path to Modflow 6 directory\n",
    "MF6_Dir = r'C:\\Working\\Test_Models\\Standalone_MF6'\n",
    "# Name of Modflow 6 Model\n",
    "MF6_Root = r\"DC_MF6\""
   ]
  },
  {
   "cell_type": "code",
   "execution_count": 6,
   "metadata": {},
   "outputs": [],
   "source": [
    "OUT_DIR = r'C:\\Users\\nmartin\\Documents\\BRATWURST\\EAA\\Images_Figures'"
   ]
  },
  {
   "cell_type": "code",
   "execution_count": 7,
   "metadata": {},
   "outputs": [],
   "source": [
    "ConvAFDtoCFS = lambda AFD: ( AFD * ( 43560.0 / 1.0**2 ) ) * ( 1.0 / (24.0 * 60.0 * 60.0 ) ) \n",
    "ConvAFtoCM = lambda AF: AF * 1233.48185532\n",
    "ConvCMDtoCFS = lambda CMD: ( CMD * ( 35.3147 / 1.0**3 ) ) * ( 1.0 / (24.0 * 60.0 * 60.0 ) ) "
   ]
  },
  {
   "cell_type": "code",
   "execution_count": 8,
   "metadata": {},
   "outputs": [],
   "source": [
    "CStart_DT = dt.datetime( 2013, 7, 1 )\n",
    "CEnd_DT = dt.datetime( 2018, 7, 1 )"
   ]
  },
  {
   "cell_type": "markdown",
   "metadata": {},
   "source": [
    "## Load Simulation Results and Data"
   ]
  },
  {
   "cell_type": "markdown",
   "metadata": {},
   "source": [
    "Load the HSPF results from the HDF5 file"
   ]
  },
  {
   "cell_type": "code",
   "execution_count": 9,
   "metadata": {},
   "outputs": [],
   "source": [
    "InStore = os.path.normpath( os.path.join( HSPF_Dir, HSPF_HDF5 ) )\n",
    "with pd.HDFStore( InStore ) as store:\n",
    "    H_RR5 = store.get(key=r'/RESULTS/RCHRES_R005/HYDR/')\n",
    "# end with and close the file"
   ]
  },
  {
   "cell_type": "code",
   "execution_count": 10,
   "metadata": {},
   "outputs": [],
   "source": [
    "H_RR5[\"ovol_cfs\"] = H_RR5.apply( lambda row: ConvAFDtoCFS( row[\"OVOL1\"] ), axis=1 )"
   ]
  },
  {
   "cell_type": "code",
   "execution_count": 11,
   "metadata": {},
   "outputs": [],
   "source": [
    "H_RR5 = H_RR5.loc[CStart_DT:CEnd_DT].copy()"
   ]
  },
  {
   "cell_type": "code",
   "execution_count": 12,
   "metadata": {},
   "outputs": [
    {
     "data": {
      "text/html": [
       "<table border=\"1\" class=\"dataframe\">\n",
       "  <thead>\n",
       "    <tr style=\"text-align: right;\">\n",
       "      <th></th>\n",
       "      <th>DEP</th>\n",
       "      <th>IVOL</th>\n",
       "      <th>O1</th>\n",
       "      <th>OVOL1</th>\n",
       "      <th>PRSUPY</th>\n",
       "      <th>RO</th>\n",
       "      <th>ROVOL</th>\n",
       "      <th>SAREA</th>\n",
       "      <th>VOL</th>\n",
       "      <th>VOLEV</th>\n",
       "      <th>ovol_cfs</th>\n",
       "    </tr>\n",
       "  </thead>\n",
       "  <tbody>\n",
       "    <tr>\n",
       "      <th>count</th>\n",
       "      <td>1827.000000</td>\n",
       "      <td>1827.000000</td>\n",
       "      <td>1827.000000</td>\n",
       "      <td>1827.000000</td>\n",
       "      <td>1827.000000</td>\n",
       "      <td>1827.000000</td>\n",
       "      <td>1827.000000</td>\n",
       "      <td>1827.000000</td>\n",
       "      <td>1827.000000</td>\n",
       "      <td>1827.000000</td>\n",
       "      <td>1827.000000</td>\n",
       "    </tr>\n",
       "    <tr>\n",
       "      <th>mean</th>\n",
       "      <td>2.632121</td>\n",
       "      <td>33.746521</td>\n",
       "      <td>16.869957</td>\n",
       "      <td>33.461037</td>\n",
       "      <td>0.188525</td>\n",
       "      <td>16.869957</td>\n",
       "      <td>33.461037</td>\n",
       "      <td>33.618977</td>\n",
       "      <td>267.380920</td>\n",
       "      <td>0.474163</td>\n",
       "      <td>16.869944</td>\n",
       "    </tr>\n",
       "    <tr>\n",
       "      <th>std</th>\n",
       "      <td>0.144616</td>\n",
       "      <td>58.414692</td>\n",
       "      <td>29.149939</td>\n",
       "      <td>57.818069</td>\n",
       "      <td>0.723034</td>\n",
       "      <td>29.149939</td>\n",
       "      <td>57.818069</td>\n",
       "      <td>0.149396</td>\n",
       "      <td>4.848168</td>\n",
       "      <td>0.163547</td>\n",
       "      <td>29.149947</td>\n",
       "    </tr>\n",
       "    <tr>\n",
       "      <th>min</th>\n",
       "      <td>2.392789</td>\n",
       "      <td>20.919632</td>\n",
       "      <td>10.516840</td>\n",
       "      <td>20.859848</td>\n",
       "      <td>0.000000</td>\n",
       "      <td>10.516840</td>\n",
       "      <td>20.859848</td>\n",
       "      <td>33.363903</td>\n",
       "      <td>259.454681</td>\n",
       "      <td>0.109930</td>\n",
       "      <td>10.516840</td>\n",
       "    </tr>\n",
       "    <tr>\n",
       "      <th>25%</th>\n",
       "      <td>2.569578</td>\n",
       "      <td>26.214437</td>\n",
       "      <td>13.061897</td>\n",
       "      <td>25.907894</td>\n",
       "      <td>0.000000</td>\n",
       "      <td>13.061897</td>\n",
       "      <td>25.907894</td>\n",
       "      <td>33.553736</td>\n",
       "      <td>265.295837</td>\n",
       "      <td>0.315917</td>\n",
       "      <td>13.061897</td>\n",
       "    </tr>\n",
       "    <tr>\n",
       "      <th>50%</th>\n",
       "      <td>2.622063</td>\n",
       "      <td>27.919107</td>\n",
       "      <td>13.820251</td>\n",
       "      <td>27.412069</td>\n",
       "      <td>0.000000</td>\n",
       "      <td>13.820251</td>\n",
       "      <td>27.412069</td>\n",
       "      <td>33.610092</td>\n",
       "      <td>267.036346</td>\n",
       "      <td>0.521484</td>\n",
       "      <td>13.820252</td>\n",
       "    </tr>\n",
       "    <tr>\n",
       "      <th>75%</th>\n",
       "      <td>2.661324</td>\n",
       "      <td>30.775544</td>\n",
       "      <td>15.400058</td>\n",
       "      <td>30.545570</td>\n",
       "      <td>0.000090</td>\n",
       "      <td>15.400058</td>\n",
       "      <td>30.545570</td>\n",
       "      <td>33.650696</td>\n",
       "      <td>268.339951</td>\n",
       "      <td>0.618408</td>\n",
       "      <td>15.400058</td>\n",
       "    </tr>\n",
       "    <tr>\n",
       "      <th>max</th>\n",
       "      <td>4.380620</td>\n",
       "      <td>1979.299194</td>\n",
       "      <td>992.713867</td>\n",
       "      <td>1969.019287</td>\n",
       "      <td>9.264581</td>\n",
       "      <td>992.713867</td>\n",
       "      <td>1969.019287</td>\n",
       "      <td>35.396580</td>\n",
       "      <td>326.925293</td>\n",
       "      <td>0.777007</td>\n",
       "      <td>992.713891</td>\n",
       "    </tr>\n",
       "  </tbody>\n",
       "</table>"
      ],
      "text/plain": [
       "<IPython.core.display.HTML object>"
      ]
     },
     "metadata": {},
     "output_type": "display_data"
    }
   ],
   "source": [
    "display( HTML( H_RR5.describe().to_html() ) )"
   ]
  },
  {
   "cell_type": "code",
   "execution_count": 13,
   "metadata": {},
   "outputs": [],
   "source": [
    "H_DSprings = pd.read_hdf( InStore, key=r'/TIMESERIES/TS136/')"
   ]
  },
  {
   "cell_type": "code",
   "execution_count": 14,
   "metadata": {},
   "outputs": [
    {
     "data": {
      "text/plain": [
       "pandas.core.series.Series"
      ]
     },
     "execution_count": 14,
     "metadata": {},
     "output_type": "execute_result"
    }
   ],
   "source": [
    "type(H_DSprings)"
   ]
  },
  {
   "cell_type": "code",
   "execution_count": 15,
   "metadata": {},
   "outputs": [
    {
     "data": {
      "text/plain": [
       "DatetimeIndex(['2011-01-01', '2011-01-02', '2011-01-03', '2011-01-04',\n",
       "               '2011-01-05'],\n",
       "              dtype='datetime64[ns]', name='Datetime', freq='D')"
      ]
     },
     "execution_count": 15,
     "metadata": {},
     "output_type": "execute_result"
    }
   ],
   "source": [
    "H_DSprings.index[:5]"
   ]
  },
  {
   "cell_type": "code",
   "execution_count": 16,
   "metadata": {},
   "outputs": [
    {
     "data": {
      "text/plain": [
       "array([24.23140526, 24.66425705, 24.33006287, ..., 24.11570168,\n",
       "       25.17148781, 25.34090996])"
      ]
     },
     "execution_count": 16,
     "metadata": {},
     "output_type": "execute_result"
    }
   ],
   "source": [
    "H_DSprings.values"
   ]
  },
  {
   "cell_type": "markdown",
   "metadata": {},
   "source": [
    "Make a DataFrame"
   ]
  },
  {
   "cell_type": "code",
   "execution_count": 18,
   "metadata": {},
   "outputs": [],
   "source": [
    "DataDict = { \"ExtIn_afd\" : np.array( H_DSprings.values, dtype=np.float32 ), }\n",
    "H_RR5_ExIn = pd.DataFrame( index=H_DSprings.index, data=DataDict )"
   ]
  },
  {
   "cell_type": "code",
   "execution_count": 19,
   "metadata": {},
   "outputs": [],
   "source": [
    "H_RR5_ExIn[\"ovol_cfs\"] = H_RR5_ExIn.apply( lambda row: ConvAFDtoCFS( row[\"ExtIn_afd\"] ), axis=1 )"
   ]
  },
  {
   "cell_type": "code",
   "execution_count": 20,
   "metadata": {},
   "outputs": [],
   "source": [
    "H_RR5_ExIn = H_RR5_ExIn.loc[CStart_DT:CEnd_DT].copy()"
   ]
  },
  {
   "cell_type": "code",
   "execution_count": 21,
   "metadata": {},
   "outputs": [
    {
     "data": {
      "text/html": [
       "<table border=\"1\" class=\"dataframe\">\n",
       "  <thead>\n",
       "    <tr style=\"text-align: right;\">\n",
       "      <th></th>\n",
       "      <th>ExtIn_afd</th>\n",
       "      <th>ovol_cfs</th>\n",
       "    </tr>\n",
       "  </thead>\n",
       "  <tbody>\n",
       "    <tr>\n",
       "      <th>count</th>\n",
       "      <td>1827.000000</td>\n",
       "      <td>1827.000000</td>\n",
       "    </tr>\n",
       "    <tr>\n",
       "      <th>mean</th>\n",
       "      <td>24.903486</td>\n",
       "      <td>12.555510</td>\n",
       "    </tr>\n",
       "    <tr>\n",
       "      <th>std</th>\n",
       "      <td>2.118830</td>\n",
       "      <td>1.068243</td>\n",
       "    </tr>\n",
       "    <tr>\n",
       "      <th>min</th>\n",
       "      <td>20.290186</td>\n",
       "      <td>10.229635</td>\n",
       "    </tr>\n",
       "    <tr>\n",
       "      <th>25%</th>\n",
       "      <td>23.395868</td>\n",
       "      <td>11.795417</td>\n",
       "    </tr>\n",
       "    <tr>\n",
       "      <th>50%</th>\n",
       "      <td>24.686466</td>\n",
       "      <td>12.446093</td>\n",
       "    </tr>\n",
       "    <tr>\n",
       "      <th>75%</th>\n",
       "      <td>25.945765</td>\n",
       "      <td>13.080990</td>\n",
       "    </tr>\n",
       "    <tr>\n",
       "      <th>max</th>\n",
       "      <td>32.033058</td>\n",
       "      <td>16.150000</td>\n",
       "    </tr>\n",
       "  </tbody>\n",
       "</table>"
      ],
      "text/plain": [
       "<IPython.core.display.HTML object>"
      ]
     },
     "metadata": {},
     "output_type": "display_data"
    }
   ],
   "source": [
    "display( HTML( H_RR5_ExIn.describe().to_html() ) )"
   ]
  },
  {
   "cell_type": "markdown",
   "metadata": {},
   "source": [
    "Make continuous lists so that can use \"fill\""
   ]
  },
  {
   "cell_type": "code",
   "execution_count": 22,
   "metadata": {},
   "outputs": [
    {
     "data": {
      "text/plain": [
       "1827"
      ]
     },
     "execution_count": 22,
     "metadata": {},
     "output_type": "execute_result"
    }
   ],
   "source": [
    "lenBF = len( H_RR5_ExIn )\n",
    "lenBF"
   ]
  },
  {
   "cell_type": "code",
   "execution_count": 23,
   "metadata": {},
   "outputs": [
    {
     "data": {
      "text/plain": [
       "list"
      ]
     },
     "execution_count": 23,
     "metadata": {},
     "output_type": "execute_result"
    }
   ],
   "source": [
    "DTTimeList = list( H_RR5_ExIn.index.to_pydatetime() )\n",
    "type(DTTimeList)"
   ]
  },
  {
   "cell_type": "code",
   "execution_count": 24,
   "metadata": {},
   "outputs": [
    {
     "data": {
      "text/plain": [
       "[datetime.datetime(2018, 7, 1, 0, 0),\n",
       " datetime.datetime(2018, 6, 30, 0, 0),\n",
       " datetime.datetime(2018, 6, 29, 0, 0),\n",
       " datetime.datetime(2018, 6, 28, 0, 0),\n",
       " datetime.datetime(2018, 6, 27, 0, 0)]"
      ]
     },
     "execution_count": 24,
     "metadata": {},
     "output_type": "execute_result"
    }
   ],
   "source": [
    "BackDTList = deepcopy( DTTimeList )\n",
    "BackDTList = BackDTList[::-1]\n",
    "BackDTList[:5]"
   ]
  },
  {
   "cell_type": "code",
   "execution_count": 25,
   "metadata": {},
   "outputs": [
    {
     "data": {
      "text/plain": [
       "[12.699999952316283,\n",
       " 13.244531647364298,\n",
       " 12.563542000452676,\n",
       " 12.30234345595042,\n",
       " 12.017825587590535]"
      ]
     },
     "execution_count": 25,
     "metadata": {},
     "output_type": "execute_result"
    }
   ],
   "source": [
    "ZeroVals = [ 0.0 for x in range( lenBF ) ]\n",
    "DSVals = list( H_RR5_ExIn[\"ovol_cfs\"].to_numpy() )\n",
    "DSVals = DSVals[::-1]\n",
    "DSVals[:5]"
   ]
  },
  {
   "cell_type": "code",
   "execution_count": 26,
   "metadata": {},
   "outputs": [],
   "source": [
    "ValsList = deepcopy( ZeroVals )\n",
    "ValsList.extend( DSVals )\n",
    "DTTimeList.extend( BackDTList )"
   ]
  },
  {
   "cell_type": "markdown",
   "metadata": {},
   "source": [
    "Load the gauge data"
   ]
  },
  {
   "cell_type": "code",
   "execution_count": 27,
   "metadata": {},
   "outputs": [
    {
     "name": "stderr",
     "output_type": "stream",
     "text": [
      "C:\\ProgramData\\Anaconda3\\lib\\site-packages\\xlrd\\xlsx.py:266: PendingDeprecationWarning: This method will be removed in future versions.  Use 'tree.iter()' or 'list(tree.iter())' instead.\n",
      "  for elem in self.tree.iter() if Element_has_iter else self.tree.getiterator():\n",
      "C:\\ProgramData\\Anaconda3\\lib\\site-packages\\xlrd\\xlsx.py:312: PendingDeprecationWarning: This method will be removed in future versions.  Use 'tree.iter()' or 'list(tree.iter())' instead.\n",
      "  for elem in self.tree.iter() if Element_has_iter else self.tree.getiterator():\n",
      "C:\\ProgramData\\Anaconda3\\lib\\site-packages\\xlrd\\xlsx.py:266: PendingDeprecationWarning: This method will be removed in future versions.  Use 'tree.iter()' or 'list(tree.iter())' instead.\n",
      "  for elem in self.tree.iter() if Element_has_iter else self.tree.getiterator():\n"
     ]
    }
   ],
   "source": [
    "DCGauge = pd.read_excel( GAUGE_XLSX, sheet_name=GAUGE_SHT, header=0, index_col=0, parse_dates=True )"
   ]
  },
  {
   "cell_type": "code",
   "execution_count": 28,
   "metadata": {},
   "outputs": [],
   "source": [
    "DCGauge = DCGauge[[GAUGE_HDR]].loc[CStart_DT:CEnd_DT].copy()"
   ]
  },
  {
   "cell_type": "code",
   "execution_count": 29,
   "metadata": {},
   "outputs": [
    {
     "data": {
      "text/html": [
       "<table border=\"1\" class=\"dataframe\">\n",
       "  <thead>\n",
       "    <tr style=\"text-align: right;\">\n",
       "      <th></th>\n",
       "      <th>Discharge_cfs</th>\n",
       "    </tr>\n",
       "  </thead>\n",
       "  <tbody>\n",
       "    <tr>\n",
       "      <th>count</th>\n",
       "      <td>1827.000000</td>\n",
       "    </tr>\n",
       "    <tr>\n",
       "      <th>mean</th>\n",
       "      <td>14.924813</td>\n",
       "    </tr>\n",
       "    <tr>\n",
       "      <th>std</th>\n",
       "      <td>4.637589</td>\n",
       "    </tr>\n",
       "    <tr>\n",
       "      <th>min</th>\n",
       "      <td>8.030938</td>\n",
       "    </tr>\n",
       "    <tr>\n",
       "      <th>25%</th>\n",
       "      <td>11.859896</td>\n",
       "    </tr>\n",
       "    <tr>\n",
       "      <th>50%</th>\n",
       "      <td>13.535417</td>\n",
       "    </tr>\n",
       "    <tr>\n",
       "      <th>75%</th>\n",
       "      <td>16.627604</td>\n",
       "    </tr>\n",
       "    <tr>\n",
       "      <th>max</th>\n",
       "      <td>44.078827</td>\n",
       "    </tr>\n",
       "  </tbody>\n",
       "</table>"
      ],
      "text/plain": [
       "<IPython.core.display.HTML object>"
      ]
     },
     "metadata": {},
     "output_type": "display_data"
    }
   ],
   "source": [
    "display( HTML( DCGauge.describe().to_html() ) )"
   ]
  },
  {
   "cell_type": "markdown",
   "metadata": {},
   "source": [
    "## Plots"
   ]
  },
  {
   "cell_type": "code",
   "execution_count": null,
   "metadata": {},
   "outputs": [],
   "source": [
    "OutSVG = os.path.normpath( os.path.join( OUT_DIR, \"HSPF_SA_Calib.svg\" ) )\n",
    "OutSVG"
   ]
  },
  {
   "cell_type": "code",
   "execution_count": null,
   "metadata": {},
   "outputs": [],
   "source": [
    "OutPNG = os.path.normpath( os.path.join( OUT_DIR, \"HSPF_SA_Calib.png\" ) )\n",
    "OutPNG"
   ]
  },
  {
   "cell_type": "code",
   "execution_count": null,
   "metadata": {},
   "outputs": [],
   "source": [
    "disTicks = [ 5.0, 10.0, 50.0, 100.0, 500.0, 1000.0, 2000.0 ]"
   ]
  },
  {
   "cell_type": "code",
   "execution_count": null,
   "metadata": {},
   "outputs": [],
   "source": [
    "Fig1 = plt.figure()\n",
    "Fig1.set_size_inches(10.0, 7.0)\n",
    "ax11 = Fig1.add_subplot(111)\n",
    "Dcg, = ax11.plot( DCGauge.index, DCGauge[GAUGE_HDR], color='xkcd:ocean blue', linewidth=2,\n",
    "                  label=\"Dolan Creek Gauge\" )\n",
    "Rc5, = ax11.plot( H_RR5.index, H_RR5[\"ovol_cfs\"], color='xkcd:burnt orange', linewidth=2,\n",
    "                  label=\"HSPF Reach #5 Outflow (simulated gauge discharge)\" )\n",
    "sfF = ax11.fill( DTTimeList, ValsList, color='xkcd:pale orange', alpha=0.5, \n",
    "                 label=\"HSPF Reach #5 Specified External Inflow Timeseries (Dolan Springs Discharge)\")\n",
    "#ax11.legend( (Dcg, Rc5 ), \n",
    "#             (\"Dolan Creek Gauge\", \"Simulated Reach 5 outflow\" ),\n",
    "#             loc='upper center', fontsize=12)\n",
    "ax11.legend(loc='upper left')\n",
    "ax11.set_yscale('log')\n",
    "ax11.grid(b=True, which=\"both\", axis='y')\n",
    "ax11.set_ylim( ( 5.0, 2000.0))\n",
    "ax11.set_xlim( (CStart_DT, CEnd_DT))\n",
    "ax11.set_yticks( disTicks )\n",
    "ax11.set_ylabel('Dolan Creek Discharge (cfs)', fontsize=12)\n",
    "ax11.tick_params(axis='both', which='major', labelsize=11)\n",
    "ax11.tick_params(axis='x', which='major', labelrotation=30.0)\n",
    "ax11.xaxis.set_major_formatter( mpl.dates.DateFormatter(\"%m/%d/%Y\") )\n",
    "ax11.yaxis.set_major_formatter( mpl.ticker.StrMethodFormatter( \"{x:,.1f}\" ) )\n",
    "Fig1.savefig( OutSVG )\n",
    "Fig1.savefig( OutPNG )"
   ]
  },
  {
   "cell_type": "markdown",
   "metadata": {},
   "source": [
    "## MODFLOW 6 Steady-State"
   ]
  },
  {
   "cell_type": "code",
   "execution_count": 32,
   "metadata": {},
   "outputs": [
    {
     "name": "stderr",
     "output_type": "stream",
     "text": [
      "C:\\ProgramData\\Anaconda3\\lib\\site-packages\\xlrd\\xlsx.py:266: PendingDeprecationWarning: This method will be removed in future versions.  Use 'tree.iter()' or 'list(tree.iter())' instead.\n",
      "  for elem in self.tree.iter() if Element_has_iter else self.tree.getiterator():\n",
      "C:\\ProgramData\\Anaconda3\\lib\\site-packages\\xlrd\\xlsx.py:312: PendingDeprecationWarning: This method will be removed in future versions.  Use 'tree.iter()' or 'list(tree.iter())' instead.\n",
      "  for elem in self.tree.iter() if Element_has_iter else self.tree.getiterator():\n",
      "C:\\ProgramData\\Anaconda3\\lib\\site-packages\\xlrd\\xlsx.py:266: PendingDeprecationWarning: This method will be removed in future versions.  Use 'tree.iter()' or 'list(tree.iter())' instead.\n",
      "  for elem in self.tree.iter() if Element_has_iter else self.tree.getiterator():\n"
     ]
    }
   ],
   "source": [
    "DRNIn_Path = os.path.join( MF6_Dir, \"Outputs\" ,r'SA_Calib-DRN_Budget.xlsx' )\n",
    "DRN_DF = pd.read_excel( DRNIn_Path, sheet_name=\"Sheet1\", header=0, index_col=0, parse_dates=True )"
   ]
  },
  {
   "cell_type": "code",
   "execution_count": 33,
   "metadata": {},
   "outputs": [
    {
     "data": {
      "text/html": [
       "<table border=\"1\" class=\"dataframe\">\n",
       "  <thead>\n",
       "    <tr style=\"text-align: right;\">\n",
       "      <th></th>\n",
       "      <th>time</th>\n",
       "      <th>FINEGAN</th>\n",
       "      <th>704</th>\n",
       "      <th>703</th>\n",
       "      <th>DOLAN</th>\n",
       "      <th>701</th>\n",
       "      <th>Rch5_Spring</th>\n",
       "      <th>Outside</th>\n",
       "      <th>DS_cfs</th>\n",
       "    </tr>\n",
       "  </thead>\n",
       "  <tbody>\n",
       "    <tr>\n",
       "      <th>2013-01-01</th>\n",
       "      <td>1</td>\n",
       "      <td>-106.32</td>\n",
       "      <td>-12.776</td>\n",
       "      <td>-11.175</td>\n",
       "      <td>-15331</td>\n",
       "      <td>-17887</td>\n",
       "      <td>-33218</td>\n",
       "      <td>-130.271</td>\n",
       "      <td>-13.577358</td>\n",
       "    </tr>\n",
       "    <tr>\n",
       "      <th>2013-01-02</th>\n",
       "      <td>2</td>\n",
       "      <td>-106.28</td>\n",
       "      <td>-12.774</td>\n",
       "      <td>-11.172</td>\n",
       "      <td>-15332</td>\n",
       "      <td>-17891</td>\n",
       "      <td>-33223</td>\n",
       "      <td>-130.226</td>\n",
       "      <td>-13.579401</td>\n",
       "    </tr>\n",
       "    <tr>\n",
       "      <th>2013-01-03</th>\n",
       "      <td>3</td>\n",
       "      <td>-106.25</td>\n",
       "      <td>-12.775</td>\n",
       "      <td>-11.171</td>\n",
       "      <td>-15333</td>\n",
       "      <td>-17893</td>\n",
       "      <td>-33226</td>\n",
       "      <td>-130.196</td>\n",
       "      <td>-13.580628</td>\n",
       "    </tr>\n",
       "    <tr>\n",
       "      <th>2013-01-04</th>\n",
       "      <td>4</td>\n",
       "      <td>-106.33</td>\n",
       "      <td>-12.791</td>\n",
       "      <td>-11.184</td>\n",
       "      <td>-15333</td>\n",
       "      <td>-17896</td>\n",
       "      <td>-33229</td>\n",
       "      <td>-130.305</td>\n",
       "      <td>-13.581854</td>\n",
       "    </tr>\n",
       "    <tr>\n",
       "      <th>2013-01-05</th>\n",
       "      <td>5</td>\n",
       "      <td>-106.32</td>\n",
       "      <td>-12.797</td>\n",
       "      <td>-11.187</td>\n",
       "      <td>-15334</td>\n",
       "      <td>-17899</td>\n",
       "      <td>-33233</td>\n",
       "      <td>-130.304</td>\n",
       "      <td>-13.583489</td>\n",
       "    </tr>\n",
       "  </tbody>\n",
       "</table>"
      ],
      "text/plain": [
       "<IPython.core.display.HTML object>"
      ]
     },
     "metadata": {},
     "output_type": "display_data"
    }
   ],
   "source": [
    "display( HTML( DRN_DF.head().to_html() ) )"
   ]
  },
  {
   "cell_type": "code",
   "execution_count": 34,
   "metadata": {},
   "outputs": [],
   "source": [
    "DRN_DF = DRN_DF.loc[CStart_DT:CEnd_DT].copy()"
   ]
  },
  {
   "cell_type": "code",
   "execution_count": 35,
   "metadata": {},
   "outputs": [
    {
     "data": {
      "text/plain": [
       "1827"
      ]
     },
     "execution_count": 35,
     "metadata": {},
     "output_type": "execute_result"
    }
   ],
   "source": [
    "lenDRN = len( DRN_DF )\n",
    "lenDRN"
   ]
  },
  {
   "cell_type": "code",
   "execution_count": 36,
   "metadata": {},
   "outputs": [
    {
     "data": {
      "text/plain": [
       "list"
      ]
     },
     "execution_count": 36,
     "metadata": {},
     "output_type": "execute_result"
    }
   ],
   "source": [
    "DTTimeList = list( DRN_DF.index.to_pydatetime() )\n",
    "type(DTTimeList)"
   ]
  },
  {
   "cell_type": "code",
   "execution_count": 37,
   "metadata": {},
   "outputs": [
    {
     "data": {
      "text/plain": [
       "[datetime.datetime(2018, 7, 1, 0, 0),\n",
       " datetime.datetime(2018, 6, 30, 0, 0),\n",
       " datetime.datetime(2018, 6, 29, 0, 0),\n",
       " datetime.datetime(2018, 6, 28, 0, 0),\n",
       " datetime.datetime(2018, 6, 27, 0, 0)]"
      ]
     },
     "execution_count": 37,
     "metadata": {},
     "output_type": "execute_result"
    }
   ],
   "source": [
    "BackDTList = deepcopy( DTTimeList )\n",
    "BackDTList = BackDTList[::-1]\n",
    "BackDTList[:5]"
   ]
  },
  {
   "cell_type": "code",
   "execution_count": 38,
   "metadata": {},
   "outputs": [
    {
     "data": {
      "text/plain": [
       "[13.53484925694445,\n",
       " 13.53525799189815,\n",
       " 13.53525799189815,\n",
       " 13.53566672685185,\n",
       " 13.53566672685185]"
      ]
     },
     "execution_count": 38,
     "metadata": {},
     "output_type": "execute_result"
    }
   ],
   "source": [
    "ZeroVals = [ 0.0 for x in range( lenDRN ) ]\n",
    "DSVals = list( -1.0 * DRN_DF[\"DS_cfs\"].to_numpy() )\n",
    "DSVals = DSVals[::-1]\n",
    "DSVals[:5]"
   ]
  },
  {
   "cell_type": "code",
   "execution_count": 39,
   "metadata": {},
   "outputs": [],
   "source": [
    "ValsList = deepcopy( ZeroVals )\n",
    "ValsList.extend( DSVals )\n",
    "DTTimeList.extend( BackDTList )"
   ]
  },
  {
   "cell_type": "code",
   "execution_count": 44,
   "metadata": {},
   "outputs": [],
   "source": [
    "disTicks = [ 5.0, 10.0, 50.0, 100.0 ]"
   ]
  },
  {
   "cell_type": "code",
   "execution_count": 45,
   "metadata": {},
   "outputs": [
    {
     "data": {
      "text/plain": [
       "'C:\\\\Users\\\\nmartin\\\\Documents\\\\BRATWURST\\\\EAA\\\\Images_Figures\\\\MF6_SA_DC_Calib.svg'"
      ]
     },
     "execution_count": 45,
     "metadata": {},
     "output_type": "execute_result"
    }
   ],
   "source": [
    "OutSVG = os.path.normpath( os.path.join( OUT_DIR, \"MF6_SA_DC_Calib.svg\" ) )\n",
    "OutSVG"
   ]
  },
  {
   "cell_type": "code",
   "execution_count": 46,
   "metadata": {},
   "outputs": [
    {
     "data": {
      "text/plain": [
       "'C:\\\\Users\\\\nmartin\\\\Documents\\\\BRATWURST\\\\EAA\\\\Images_Figures\\\\MF6_SA_DC_Calib.png'"
      ]
     },
     "execution_count": 46,
     "metadata": {},
     "output_type": "execute_result"
    }
   ],
   "source": [
    "OutPNG = os.path.normpath( os.path.join( OUT_DIR, \"MF6_SA_DC_Calib.png\" ) )\n",
    "OutPNG"
   ]
  },
  {
   "cell_type": "code",
   "execution_count": 47,
   "metadata": {},
   "outputs": [
    {
     "data": {
      "image/png": "[encoded data removed]",
      "text/plain": [
       "<Figure size 720x504 with 1 Axes>"
      ]
     },
     "metadata": {
      "needs_background": "light"
     },
     "output_type": "display_data"
    }
   ],
   "source": [
    "Fig1 = plt.figure()\n",
    "Fig1.set_size_inches(10.0, 7.0)\n",
    "ax11 = Fig1.add_subplot(111)\n",
    "Dcg, = ax11.plot( DCGauge.index, DCGauge[GAUGE_HDR], color='xkcd:ocean blue', linewidth=2,\n",
    "                  label=\"Dolan Creek Gauge\" )\n",
    "Rc5, = ax11.plot( H_RR5_ExIn.index, H_RR5_ExIn[\"ovol_cfs\"], color='xkcd:burnt orange', linewidth=2,\n",
    "                  label=\"HSPF Reach #5 Specified External Inflow Timeseries (Dolan Springs Discharge)\" )\n",
    "sfF = ax11.fill( DTTimeList, ValsList, color='xkcd:pale orange', alpha=0.5, \n",
    "                 label=\"Standalone MF6, Simulated Dolan Springs Discharge\")\n",
    "ax11.legend(loc='upper left')\n",
    "ax11.set_yscale('log')\n",
    "ax11.grid(b=True, which=\"both\", axis='y')\n",
    "ax11.set_ylim( ( 5.0, 100.0))\n",
    "ax11.set_xlim( (CStart_DT, CEnd_DT))\n",
    "ax11.set_yticks( disTicks )\n",
    "ax11.set_ylabel('Dolan Creek Discharge (cfs)', fontsize=12)\n",
    "ax11.tick_params(axis='both', which='major', labelsize=11)\n",
    "ax11.tick_params(axis='x', which='major', labelrotation=30.0)\n",
    "ax11.xaxis.set_major_formatter( mpl.dates.DateFormatter(\"%m/%d/%Y\") )\n",
    "ax11.yaxis.set_major_formatter( mpl.ticker.StrMethodFormatter( \"{x:,.1f}\" ) )\n",
    "Fig1.savefig( OutSVG )\n",
    "Fig1.savefig( OutPNG )"
   ]
  },
  {
   "cell_type": "code",
   "execution_count": null,
   "metadata": {},
   "outputs": [],
   "source": []
  }
 ],
 "metadata": {
  "kernelspec": {
   "display_name": "Python 3",
   "language": "python",
   "name": "python3"
  },
  "language_info": {
   "codemirror_mode": {
    "name": "ipython",
    "version": 3
   },
   "file_extension": ".py",
   "mimetype": "text/x-python",
   "name": "python",
   "nbconvert_exporter": "python",
   "pygments_lexer": "ipython3",
   "version": "3.7.7"
  }
 },
 "nbformat": 4,
 "nbformat_minor": 4
}
