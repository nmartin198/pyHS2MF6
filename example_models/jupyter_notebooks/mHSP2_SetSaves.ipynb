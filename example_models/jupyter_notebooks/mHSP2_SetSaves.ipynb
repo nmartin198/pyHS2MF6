{
 "cells": [
  {
   "cell_type": "markdown",
   "metadata": {},
   "source": [
    "# mHSP2: Set the \"Save\" Parameters to HDF5"
   ]
  },
  {
   "cell_type": "markdown",
   "metadata": {},
   "source": [
    "**mHSP2** is a reduced and modified version of [HSPsquared](https://github.com/respec/HSPsquared). **mHSP2** is reduced because it will only simulate the movement of water with *PERLND*, *IMPLND*, and *RCHRES* targets or simulation structures. It is modified relative to *HSPsquared* (or HSP2) so that it can be dynamically coupled to MODFLOW 6 using a daily time step.\n",
    "\n",
    "Dynamic coupling means that **mHSP2** runs one simulation day, then passes deep infiltration and stream losses to groundwater to MODFLOW 6, and finally MODFLOW 6 simulates the same day, using the inputs from **mHSP2**. At the end of the day, MODFLOW 6 sends discharge to the ground surface information back to **mHSP2** which is waiting for this information. Once **mHSP2** receives this information, it simulates the next day. The two programs alternate active simulation for every day during the simulation period.\n",
    "\n",
    "A goal in **mHSP2** design was to ensure that the user could use whatever, desired variant of HSPF for standalone watershed and streamflow routing model creation and calibration. Then, the HSPF model could be converted for use in **mHSP2** for integrated hydrologic modeling of the study site. **mHSP2** uses the input formats of *HSPsquared*. An advantage of *HSPsquared* is that it uses a single [HDF5](https://support.hdfgroup.org/HDF5/whatishdf5.html) file for model inputs and outputs. *HSPsquared* also provides conversion utilities to go from the historical HSPF inputs of a fixed format text user control input, .uci, file and a binary watershed data management, .wdm, time series input archive to the single HDF5 file. **mHSP2** relies on the translation utilities that are part of *HSPsquared* to provide the capability for a user to convert any HSPF model to the inputs for the **mHSP2** portion of an coupled simulation.\n",
    "\n",
    "**mHSP2** was designed and created for application to only a small subset of the typical HSPF model use cases. Consequently, there are some specific requirements for **mHSP2** model configuration. The relevant requirement for this Notebook is that **mHSP2** uses multiple *RCHRES* exits to route water to:\n",
    "\n",
    "1. Downstream to the next *RCHRES*\n",
    "2. Losses to groundwater which are routed to the MODFLOW 6, unsaturated zone flow (UZF), boundary condition package\n",
    "\n",
    "Given the importance of *RCHRES* exits in this formulation, development of **mHSP2** included special focus on the treatment of multiple *RCHRES* exits in *HSPsquared*. There seem to be some limitations in *HSPsquared* relative to other HSPF versions regarding the use of multiple exits. Consequently, **mHSP2** development focused on reinstating the original HSPF logic related to multiple *RCHRES* exits. One of these limitations is that it is not possible in *HSPsquared* to specify saving of outflows by exit.\n",
    "\n",
    "The purpose of this Notebook is to provide the **mHSP2** user with a template for modifying the HDF5 file produced by *HSPsquared* so that the user can customize the **mHSP2** outputs to include outputs from individual exits for each *RCHRES* in a simulation."
   ]
  },
  {
   "cell_type": "markdown",
   "metadata": {},
   "source": [
    "The customization of the *HSPsquared* HDF5 file is further complicated by the existence of two versions of *HSPsquared*, each of which uses an HDF5 file with a different format. These two versions are:\n",
    "\n",
    "1. New, or modified, format: [Python 3.6+ HSPsquared](https://github.com/respec/HSPsquared)\n",
    "2. Old, or original, format: [Python 2 HSPsquared](https://github.com/respec/HSPsquared/tree/archivePy2)"
   ]
  },
  {
   "cell_type": "markdown",
   "metadata": {},
   "source": [
    "## Imports and Parameters"
   ]
  },
  {
   "cell_type": "code",
   "execution_count": 1,
   "metadata": {},
   "outputs": [],
   "source": [
    "%matplotlib inline"
   ]
  },
  {
   "cell_type": "code",
   "execution_count": 2,
   "metadata": {},
   "outputs": [],
   "source": [
    "import h5py\n",
    "import pandas as pd\n",
    "import numpy as np\n",
    "from IPython.display import display, HTML"
   ]
  },
  {
   "cell_type": "markdown",
   "metadata": {},
   "source": [
    "HDF5 file for modification - change this filename and path to modify a different file"
   ]
  },
  {
   "cell_type": "code",
   "execution_count": 3,
   "metadata": {},
   "outputs": [],
   "source": [
    "HDF5_FILE = r'C:\\Users\\nmartin\\Documents\\LOCA\\Test_Models\\HSP2\\DC_Subs.h5'\n",
    "#HDF5_FILE = r'C:\\Users\\nmartin\\Documents\\LOCA\\Test_Models\\HSP2_NewFormat\\IDC_NewFormatTest.h5'"
   ]
  },
  {
   "cell_type": "markdown",
   "metadata": {},
   "source": [
    "**mHSP2** supported output parameters - Do **NOT** change these unless you change the **mHSP2** code"
   ]
  },
  {
   "cell_type": "code",
   "execution_count": 4,
   "metadata": {},
   "outputs": [],
   "source": [
    "PERLND_OUTPUTs = [ \"AGWET\", \"AGWI\", \"AGWO\", \"AGWS\", \"BASET\", \"CEPE\", \n",
    "                     \"CEPS\", \"GWVS\", \"IFWI\", \"IFWO\", \"IFWS\", \"IGWI\",\n",
    "                     \"INFFAC\", \"INFIL\", \"LZET\", \"LZI\", \"LZS\", \"RPARM\", \n",
    "                     \"PERC\", \"PERO\", \"PERS\", \"PET\", \"SUPY\", \n",
    "                     \"SURI\", \"SURO\", \"SURS\", \"TAET\", \"TGWS\", \"UZET\", \n",
    "                     \"UZI\", \"UZS\" ]"
   ]
  },
  {
   "cell_type": "code",
   "execution_count": 5,
   "metadata": {},
   "outputs": [],
   "source": [
    "IMPLND_OUTPUTs = [ \"IMPEV\", \"IMPS\", \"PET\", \"RETS\", \"SUPY\", \"SURI\", \n",
    "                     \"SURO\", \"SURS\" ]"
   ]
  },
  {
   "cell_type": "code",
   "execution_count": 6,
   "metadata": {},
   "outputs": [],
   "source": [
    "RCHRES_OUTPUTs = [ \"AVDEP\", \"AVVEL\", \"DEP\", \"HRAD\", \"IVOL\", \"O1\", \n",
    "                     \"O2\", \"O3\", \"O4\", \"O5\", \"OVOL1\", \"OVOL2\", \n",
    "                     \"OVOL3\", \"OVOL4\", \"OVOL5\", \"PRSUPY\", \"RO\", \n",
    "                     \"ROVOL\", \"SAREA\", \"STAGE\", \"VOL\", \"TAU\", \n",
    "                     \"TWID\", \"USTAR\", \"VOLEV\" ]"
   ]
  },
  {
   "cell_type": "markdown",
   "metadata": {},
   "source": [
    "## Determine the HDF5 Format"
   ]
  },
  {
   "cell_type": "markdown",
   "metadata": {},
   "source": [
    "In the code block below, determine which type of HDF5 file that are working with so that know where to put the \"SAVE\" information.\n",
    "\n",
    "The **HDF_FMT** variable is used to store the format style.\n",
    "\n",
    "- **HDF_FMT** == 0 means old or original format\n",
    "- **HDF_FMT** == 1 means new or modified format"
   ]
  },
  {
   "cell_type": "code",
   "execution_count": 7,
   "metadata": {},
   "outputs": [
    {
     "name": "stdout",
     "output_type": "stream",
     "text": [
      "Old or original format HDF5 file\n"
     ]
    }
   ],
   "source": [
    "GTABLE_PATH = '/CONTROL/GLOBAL/table'\n",
    "UNITS_STR = 'units'\n",
    "OldFmt = 0\n",
    "NewFmt = 1\n",
    "# locals\n",
    "FoundUnits = False\n",
    "# start\n",
    "chkFile = h5py.File(HDF5_FILE, 'r')\n",
    "globs = chkFile[GTABLE_PATH]\n",
    "NRows = globs.shape[0]\n",
    "for iI in range(NRows):\n",
    "    testStr = globs[iI][0]\n",
    "    utStr = testStr.decode()\n",
    "    if utStr == UNITS_STR:\n",
    "        FoundUnits = True\n",
    "        break\n",
    "    # end if\n",
    "# end for\n",
    "# close the file\n",
    "chkFile.close()\n",
    "# set the units\n",
    "if FoundUnits:\n",
    "    HDF_FMT = OldFmt\n",
    "else:\n",
    "    HDF_FMT = NewFmt\n",
    "# end if\n",
    "if HDF_FMT == 0:\n",
    "    print(\"Old or original format HDF5 file\")\n",
    "else:\n",
    "    print(\"New or modified format HDF5 file\")"
   ]
  },
  {
   "cell_type": "markdown",
   "metadata": {},
   "source": [
    "## Old Format Modifications"
   ]
  },
  {
   "cell_type": "markdown",
   "metadata": {},
   "source": [
    "Use this section if **HDF_FMT** == 0 and you have an old format file"
   ]
  },
  {
   "cell_type": "markdown",
   "metadata": {},
   "source": [
    "First get the inventory of targets, or simulation structures. For **mHSP2**, these are limited to *PERLND*, *IMPLND*, and *RCHRES*."
   ]
  },
  {
   "cell_type": "code",
   "execution_count": 8,
   "metadata": {},
   "outputs": [],
   "source": [
    "with pd.HDFStore( HDF5_FILE ) as store:\n",
    "    opsDF = store.get( \"/CONTROL/OP_SEQUENCE/\" )\n",
    "# end with and close HDF5 file"
   ]
  },
  {
   "cell_type": "code",
   "execution_count": 9,
   "metadata": {},
   "outputs": [
    {
     "data": {
      "text/html": [
       "<table border=\"1\" class=\"dataframe\">\n",
       "  <thead>\n",
       "    <tr style=\"text-align: right;\">\n",
       "      <th></th>\n",
       "      <th>TARGET</th>\n",
       "      <th>ID</th>\n",
       "      <th>DELT</th>\n",
       "    </tr>\n",
       "  </thead>\n",
       "  <tbody>\n",
       "    <tr>\n",
       "      <th>0</th>\n",
       "      <td>PERLND</td>\n",
       "      <td>P001</td>\n",
       "      <td>1440</td>\n",
       "    </tr>\n",
       "    <tr>\n",
       "      <th>1</th>\n",
       "      <td>PERLND</td>\n",
       "      <td>P002</td>\n",
       "      <td>1440</td>\n",
       "    </tr>\n",
       "    <tr>\n",
       "      <th>2</th>\n",
       "      <td>PERLND</td>\n",
       "      <td>P003</td>\n",
       "      <td>1440</td>\n",
       "    </tr>\n",
       "    <tr>\n",
       "      <th>3</th>\n",
       "      <td>PERLND</td>\n",
       "      <td>P004</td>\n",
       "      <td>1440</td>\n",
       "    </tr>\n",
       "    <tr>\n",
       "      <th>4</th>\n",
       "      <td>PERLND</td>\n",
       "      <td>P005</td>\n",
       "      <td>1440</td>\n",
       "    </tr>\n",
       "    <tr>\n",
       "      <th>5</th>\n",
       "      <td>IMPLND</td>\n",
       "      <td>I001</td>\n",
       "      <td>1440</td>\n",
       "    </tr>\n",
       "    <tr>\n",
       "      <th>6</th>\n",
       "      <td>IMPLND</td>\n",
       "      <td>I002</td>\n",
       "      <td>1440</td>\n",
       "    </tr>\n",
       "    <tr>\n",
       "      <th>7</th>\n",
       "      <td>IMPLND</td>\n",
       "      <td>I003</td>\n",
       "      <td>1440</td>\n",
       "    </tr>\n",
       "    <tr>\n",
       "      <th>8</th>\n",
       "      <td>IMPLND</td>\n",
       "      <td>I004</td>\n",
       "      <td>1440</td>\n",
       "    </tr>\n",
       "    <tr>\n",
       "      <th>9</th>\n",
       "      <td>IMPLND</td>\n",
       "      <td>I005</td>\n",
       "      <td>1440</td>\n",
       "    </tr>\n",
       "    <tr>\n",
       "      <th>10</th>\n",
       "      <td>RCHRES</td>\n",
       "      <td>R001</td>\n",
       "      <td>1440</td>\n",
       "    </tr>\n",
       "    <tr>\n",
       "      <th>11</th>\n",
       "      <td>RCHRES</td>\n",
       "      <td>R006</td>\n",
       "      <td>1440</td>\n",
       "    </tr>\n",
       "    <tr>\n",
       "      <th>12</th>\n",
       "      <td>RCHRES</td>\n",
       "      <td>R002</td>\n",
       "      <td>1440</td>\n",
       "    </tr>\n",
       "    <tr>\n",
       "      <th>13</th>\n",
       "      <td>RCHRES</td>\n",
       "      <td>R007</td>\n",
       "      <td>1440</td>\n",
       "    </tr>\n",
       "    <tr>\n",
       "      <th>14</th>\n",
       "      <td>RCHRES</td>\n",
       "      <td>R003</td>\n",
       "      <td>1440</td>\n",
       "    </tr>\n",
       "    <tr>\n",
       "      <th>15</th>\n",
       "      <td>RCHRES</td>\n",
       "      <td>R008</td>\n",
       "      <td>1440</td>\n",
       "    </tr>\n",
       "    <tr>\n",
       "      <th>16</th>\n",
       "      <td>RCHRES</td>\n",
       "      <td>R004</td>\n",
       "      <td>1440</td>\n",
       "    </tr>\n",
       "    <tr>\n",
       "      <th>17</th>\n",
       "      <td>RCHRES</td>\n",
       "      <td>R009</td>\n",
       "      <td>1440</td>\n",
       "    </tr>\n",
       "    <tr>\n",
       "      <th>18</th>\n",
       "      <td>RCHRES</td>\n",
       "      <td>R005</td>\n",
       "      <td>1440</td>\n",
       "    </tr>\n",
       "  </tbody>\n",
       "</table>"
      ],
      "text/plain": [
       "<IPython.core.display.HTML object>"
      ]
     },
     "metadata": {},
     "output_type": "display_data"
    }
   ],
   "source": [
    "display( HTML( opsDF.to_html() ) )"
   ]
  },
  {
   "cell_type": "code",
   "execution_count": 10,
   "metadata": {},
   "outputs": [],
   "source": [
    "TARG_DICT = dict()\n",
    "for index, row in opsDF.iterrows():\n",
    "    cKey = str( row['TARGET'] )\n",
    "    cVal = str( row['ID'] )\n",
    "    if cKey in TARG_DICT.keys():\n",
    "        TARG_DICT[cKey].append( cVal )\n",
    "    else:\n",
    "        TARG_DICT[cKey] = [ cVal ]\n",
    "    # end if\n",
    "# end for"
   ]
  },
  {
   "cell_type": "code",
   "execution_count": 11,
   "metadata": {},
   "outputs": [
    {
     "data": {
      "text/plain": [
       "{'PERLND': ['P001', 'P002', 'P003', 'P004', 'P005'],\n",
       " 'IMPLND': ['I001', 'I002', 'I003', 'I004', 'I005'],\n",
       " 'RCHRES': ['R001',\n",
       "  'R006',\n",
       "  'R002',\n",
       "  'R007',\n",
       "  'R003',\n",
       "  'R008',\n",
       "  'R004',\n",
       "  'R009',\n",
       "  'R005']}"
      ]
     },
     "execution_count": 11,
     "metadata": {},
     "output_type": "execute_result"
    }
   ],
   "source": [
    "TARG_DICT"
   ]
  },
  {
   "cell_type": "markdown",
   "metadata": {},
   "source": [
    "Because **mHSP2** only supports *PERLND*, *IMPLND*, and *RCHRES* only go through these structures in TARG_DICT to set our \"SAVE\" values."
   ]
  },
  {
   "cell_type": "code",
   "execution_count": 12,
   "metadata": {},
   "outputs": [],
   "source": [
    "GOOD_TARGS = [ 'PERLND', 'IMPLND', 'RCHRES' ]"
   ]
  },
  {
   "cell_type": "markdown",
   "metadata": {},
   "source": [
    "Do these one at a time starting with *PERLND*"
   ]
  },
  {
   "cell_type": "markdown",
   "metadata": {},
   "source": [
    "### PERLND"
   ]
  },
  {
   "cell_type": "code",
   "execution_count": 13,
   "metadata": {},
   "outputs": [],
   "source": [
    "tTarg = GOOD_TARGS[0]\n",
    "tIDs = sorted( TARG_DICT[tTarg ] )\n",
    "NumIDs = len( tIDs )\n",
    "Vals = np.ones( NumIDs, dtype=np.int32 )"
   ]
  },
  {
   "cell_type": "markdown",
   "metadata": {},
   "source": [
    "Build a Pandas DataFrame to put into the HDF5 file and overwriting the existing \"Save\" information. Here all fields are set to 1 which means \"Save\" or output. You can edit the fields individually using HDFView or change the logic here to only set 1 for the what you want output."
   ]
  },
  {
   "cell_type": "code",
   "execution_count": 14,
   "metadata": {},
   "outputs": [],
   "source": [
    "DataDict = dict()\n",
    "for tHdr in PERLND_OUTPUTs:\n",
    "    DataDict[tHdr] = Vals\n",
    "# end for\n",
    "woDF = pd.DataFrame( index=tIDs, data=DataDict )"
   ]
  },
  {
   "cell_type": "code",
   "execution_count": 15,
   "metadata": {},
   "outputs": [
    {
     "data": {
      "text/html": [
       "<table border=\"1\" class=\"dataframe\">\n",
       "  <thead>\n",
       "    <tr style=\"text-align: right;\">\n",
       "      <th></th>\n",
       "      <th>AGWET</th>\n",
       "      <th>AGWI</th>\n",
       "      <th>AGWO</th>\n",
       "      <th>AGWS</th>\n",
       "      <th>BASET</th>\n",
       "      <th>CEPE</th>\n",
       "      <th>CEPS</th>\n",
       "      <th>GWVS</th>\n",
       "      <th>IFWI</th>\n",
       "      <th>IFWO</th>\n",
       "      <th>IFWS</th>\n",
       "      <th>IGWI</th>\n",
       "      <th>INFFAC</th>\n",
       "      <th>INFIL</th>\n",
       "      <th>LZET</th>\n",
       "      <th>LZI</th>\n",
       "      <th>LZS</th>\n",
       "      <th>RPARM</th>\n",
       "      <th>PERC</th>\n",
       "      <th>PERO</th>\n",
       "      <th>PERS</th>\n",
       "      <th>PET</th>\n",
       "      <th>SUPY</th>\n",
       "      <th>SURI</th>\n",
       "      <th>SURO</th>\n",
       "      <th>SURS</th>\n",
       "      <th>TAET</th>\n",
       "      <th>TGWS</th>\n",
       "      <th>UZET</th>\n",
       "      <th>UZI</th>\n",
       "      <th>UZS</th>\n",
       "    </tr>\n",
       "  </thead>\n",
       "  <tbody>\n",
       "    <tr>\n",
       "      <th>P001</th>\n",
       "      <td>1</td>\n",
       "      <td>1</td>\n",
       "      <td>1</td>\n",
       "      <td>1</td>\n",
       "      <td>1</td>\n",
       "      <td>1</td>\n",
       "      <td>1</td>\n",
       "      <td>1</td>\n",
       "      <td>1</td>\n",
       "      <td>1</td>\n",
       "      <td>1</td>\n",
       "      <td>1</td>\n",
       "      <td>1</td>\n",
       "      <td>1</td>\n",
       "      <td>1</td>\n",
       "      <td>1</td>\n",
       "      <td>1</td>\n",
       "      <td>1</td>\n",
       "      <td>1</td>\n",
       "      <td>1</td>\n",
       "      <td>1</td>\n",
       "      <td>1</td>\n",
       "      <td>1</td>\n",
       "      <td>1</td>\n",
       "      <td>1</td>\n",
       "      <td>1</td>\n",
       "      <td>1</td>\n",
       "      <td>1</td>\n",
       "      <td>1</td>\n",
       "      <td>1</td>\n",
       "      <td>1</td>\n",
       "    </tr>\n",
       "    <tr>\n",
       "      <th>P002</th>\n",
       "      <td>1</td>\n",
       "      <td>1</td>\n",
       "      <td>1</td>\n",
       "      <td>1</td>\n",
       "      <td>1</td>\n",
       "      <td>1</td>\n",
       "      <td>1</td>\n",
       "      <td>1</td>\n",
       "      <td>1</td>\n",
       "      <td>1</td>\n",
       "      <td>1</td>\n",
       "      <td>1</td>\n",
       "      <td>1</td>\n",
       "      <td>1</td>\n",
       "      <td>1</td>\n",
       "      <td>1</td>\n",
       "      <td>1</td>\n",
       "      <td>1</td>\n",
       "      <td>1</td>\n",
       "      <td>1</td>\n",
       "      <td>1</td>\n",
       "      <td>1</td>\n",
       "      <td>1</td>\n",
       "      <td>1</td>\n",
       "      <td>1</td>\n",
       "      <td>1</td>\n",
       "      <td>1</td>\n",
       "      <td>1</td>\n",
       "      <td>1</td>\n",
       "      <td>1</td>\n",
       "      <td>1</td>\n",
       "    </tr>\n",
       "    <tr>\n",
       "      <th>P003</th>\n",
       "      <td>1</td>\n",
       "      <td>1</td>\n",
       "      <td>1</td>\n",
       "      <td>1</td>\n",
       "      <td>1</td>\n",
       "      <td>1</td>\n",
       "      <td>1</td>\n",
       "      <td>1</td>\n",
       "      <td>1</td>\n",
       "      <td>1</td>\n",
       "      <td>1</td>\n",
       "      <td>1</td>\n",
       "      <td>1</td>\n",
       "      <td>1</td>\n",
       "      <td>1</td>\n",
       "      <td>1</td>\n",
       "      <td>1</td>\n",
       "      <td>1</td>\n",
       "      <td>1</td>\n",
       "      <td>1</td>\n",
       "      <td>1</td>\n",
       "      <td>1</td>\n",
       "      <td>1</td>\n",
       "      <td>1</td>\n",
       "      <td>1</td>\n",
       "      <td>1</td>\n",
       "      <td>1</td>\n",
       "      <td>1</td>\n",
       "      <td>1</td>\n",
       "      <td>1</td>\n",
       "      <td>1</td>\n",
       "    </tr>\n",
       "    <tr>\n",
       "      <th>P004</th>\n",
       "      <td>1</td>\n",
       "      <td>1</td>\n",
       "      <td>1</td>\n",
       "      <td>1</td>\n",
       "      <td>1</td>\n",
       "      <td>1</td>\n",
       "      <td>1</td>\n",
       "      <td>1</td>\n",
       "      <td>1</td>\n",
       "      <td>1</td>\n",
       "      <td>1</td>\n",
       "      <td>1</td>\n",
       "      <td>1</td>\n",
       "      <td>1</td>\n",
       "      <td>1</td>\n",
       "      <td>1</td>\n",
       "      <td>1</td>\n",
       "      <td>1</td>\n",
       "      <td>1</td>\n",
       "      <td>1</td>\n",
       "      <td>1</td>\n",
       "      <td>1</td>\n",
       "      <td>1</td>\n",
       "      <td>1</td>\n",
       "      <td>1</td>\n",
       "      <td>1</td>\n",
       "      <td>1</td>\n",
       "      <td>1</td>\n",
       "      <td>1</td>\n",
       "      <td>1</td>\n",
       "      <td>1</td>\n",
       "    </tr>\n",
       "    <tr>\n",
       "      <th>P005</th>\n",
       "      <td>1</td>\n",
       "      <td>1</td>\n",
       "      <td>1</td>\n",
       "      <td>1</td>\n",
       "      <td>1</td>\n",
       "      <td>1</td>\n",
       "      <td>1</td>\n",
       "      <td>1</td>\n",
       "      <td>1</td>\n",
       "      <td>1</td>\n",
       "      <td>1</td>\n",
       "      <td>1</td>\n",
       "      <td>1</td>\n",
       "      <td>1</td>\n",
       "      <td>1</td>\n",
       "      <td>1</td>\n",
       "      <td>1</td>\n",
       "      <td>1</td>\n",
       "      <td>1</td>\n",
       "      <td>1</td>\n",
       "      <td>1</td>\n",
       "      <td>1</td>\n",
       "      <td>1</td>\n",
       "      <td>1</td>\n",
       "      <td>1</td>\n",
       "      <td>1</td>\n",
       "      <td>1</td>\n",
       "      <td>1</td>\n",
       "      <td>1</td>\n",
       "      <td>1</td>\n",
       "      <td>1</td>\n",
       "    </tr>\n",
       "  </tbody>\n",
       "</table>"
      ],
      "text/plain": [
       "<IPython.core.display.HTML object>"
      ]
     },
     "metadata": {},
     "output_type": "display_data"
    }
   ],
   "source": [
    "display( HTML( woDF.to_html() ) )"
   ]
  },
  {
   "cell_type": "code",
   "execution_count": 16,
   "metadata": {},
   "outputs": [],
   "source": [
    "with h5py.File(HDF5_FILE, 'a') as h5:\n",
    "    del h5[\"/PERLND/PWATER/SAVE\"]\n",
    "# end with"
   ]
  },
  {
   "cell_type": "code",
   "execution_count": 17,
   "metadata": {},
   "outputs": [],
   "source": [
    "with pd.HDFStore( HDF5_FILE ) as store:\n",
    "    store.put( key=\"/PERLND/PWATER/SAVE/\", value=woDF, format='table', index=True, data_columns=True )\n",
    "# end with "
   ]
  },
  {
   "cell_type": "markdown",
   "metadata": {},
   "source": [
    "### IMPLND"
   ]
  },
  {
   "cell_type": "code",
   "execution_count": 18,
   "metadata": {},
   "outputs": [],
   "source": [
    "tTarg = GOOD_TARGS[1]\n",
    "tIDs = sorted( TARG_DICT[tTarg ] )\n",
    "NumIDs = len( tIDs )\n",
    "Vals = np.ones( NumIDs, dtype=np.int32 )"
   ]
  },
  {
   "cell_type": "code",
   "execution_count": 19,
   "metadata": {},
   "outputs": [],
   "source": [
    "DataDict = dict()\n",
    "for tHdr in IMPLND_OUTPUTs:\n",
    "    DataDict[tHdr] = Vals\n",
    "# end for\n",
    "woDF = pd.DataFrame( index=tIDs, data=DataDict )"
   ]
  },
  {
   "cell_type": "code",
   "execution_count": 20,
   "metadata": {},
   "outputs": [
    {
     "data": {
      "text/html": [
       "<table border=\"1\" class=\"dataframe\">\n",
       "  <thead>\n",
       "    <tr style=\"text-align: right;\">\n",
       "      <th></th>\n",
       "      <th>IMPEV</th>\n",
       "      <th>IMPS</th>\n",
       "      <th>PET</th>\n",
       "      <th>RETS</th>\n",
       "      <th>SUPY</th>\n",
       "      <th>SURI</th>\n",
       "      <th>SURO</th>\n",
       "      <th>SURS</th>\n",
       "    </tr>\n",
       "  </thead>\n",
       "  <tbody>\n",
       "    <tr>\n",
       "      <th>I001</th>\n",
       "      <td>1</td>\n",
       "      <td>1</td>\n",
       "      <td>1</td>\n",
       "      <td>1</td>\n",
       "      <td>1</td>\n",
       "      <td>1</td>\n",
       "      <td>1</td>\n",
       "      <td>1</td>\n",
       "    </tr>\n",
       "    <tr>\n",
       "      <th>I002</th>\n",
       "      <td>1</td>\n",
       "      <td>1</td>\n",
       "      <td>1</td>\n",
       "      <td>1</td>\n",
       "      <td>1</td>\n",
       "      <td>1</td>\n",
       "      <td>1</td>\n",
       "      <td>1</td>\n",
       "    </tr>\n",
       "    <tr>\n",
       "      <th>I003</th>\n",
       "      <td>1</td>\n",
       "      <td>1</td>\n",
       "      <td>1</td>\n",
       "      <td>1</td>\n",
       "      <td>1</td>\n",
       "      <td>1</td>\n",
       "      <td>1</td>\n",
       "      <td>1</td>\n",
       "    </tr>\n",
       "    <tr>\n",
       "      <th>I004</th>\n",
       "      <td>1</td>\n",
       "      <td>1</td>\n",
       "      <td>1</td>\n",
       "      <td>1</td>\n",
       "      <td>1</td>\n",
       "      <td>1</td>\n",
       "      <td>1</td>\n",
       "      <td>1</td>\n",
       "    </tr>\n",
       "    <tr>\n",
       "      <th>I005</th>\n",
       "      <td>1</td>\n",
       "      <td>1</td>\n",
       "      <td>1</td>\n",
       "      <td>1</td>\n",
       "      <td>1</td>\n",
       "      <td>1</td>\n",
       "      <td>1</td>\n",
       "      <td>1</td>\n",
       "    </tr>\n",
       "  </tbody>\n",
       "</table>"
      ],
      "text/plain": [
       "<IPython.core.display.HTML object>"
      ]
     },
     "metadata": {},
     "output_type": "display_data"
    }
   ],
   "source": [
    "display( HTML( woDF.to_html() ) )"
   ]
  },
  {
   "cell_type": "code",
   "execution_count": 21,
   "metadata": {},
   "outputs": [],
   "source": [
    "with h5py.File(HDF5_FILE, 'a') as h5:\n",
    "    del h5[\"/IMPLND/IWATER/SAVE\"]\n",
    "# end with"
   ]
  },
  {
   "cell_type": "code",
   "execution_count": 22,
   "metadata": {},
   "outputs": [],
   "source": [
    "with pd.HDFStore( HDF5_FILE ) as store:\n",
    "    store.put( key=\"/IMPLND/IWATER/SAVE/\", value=woDF, format='table', index=True, data_columns=True )\n",
    "# end with "
   ]
  },
  {
   "cell_type": "markdown",
   "metadata": {},
   "source": [
    "### RCHRES"
   ]
  },
  {
   "cell_type": "code",
   "execution_count": 23,
   "metadata": {},
   "outputs": [],
   "source": [
    "tTarg = GOOD_TARGS[2]\n",
    "tIDs = sorted( TARG_DICT[tTarg ] )\n",
    "NumIDs = len( tIDs )\n",
    "Vals = np.ones( NumIDs, dtype=np.int32 )"
   ]
  },
  {
   "cell_type": "code",
   "execution_count": 24,
   "metadata": {},
   "outputs": [],
   "source": [
    "DataDict = dict()\n",
    "for tHdr in RCHRES_OUTPUTs:\n",
    "    DataDict[tHdr] = Vals\n",
    "# end for\n",
    "woDF = pd.DataFrame( index=tIDs, data=DataDict )"
   ]
  },
  {
   "cell_type": "code",
   "execution_count": 25,
   "metadata": {},
   "outputs": [
    {
     "data": {
      "text/html": [
       "<table border=\"1\" class=\"dataframe\">\n",
       "  <thead>\n",
       "    <tr style=\"text-align: right;\">\n",
       "      <th></th>\n",
       "      <th>AVDEP</th>\n",
       "      <th>AVVEL</th>\n",
       "      <th>DEP</th>\n",
       "      <th>HRAD</th>\n",
       "      <th>IVOL</th>\n",
       "      <th>O1</th>\n",
       "      <th>O2</th>\n",
       "      <th>O3</th>\n",
       "      <th>O4</th>\n",
       "      <th>O5</th>\n",
       "      <th>OVOL1</th>\n",
       "      <th>OVOL2</th>\n",
       "      <th>OVOL3</th>\n",
       "      <th>OVOL4</th>\n",
       "      <th>OVOL5</th>\n",
       "      <th>PRSUPY</th>\n",
       "      <th>RO</th>\n",
       "      <th>ROVOL</th>\n",
       "      <th>SAREA</th>\n",
       "      <th>STAGE</th>\n",
       "      <th>VOL</th>\n",
       "      <th>TAU</th>\n",
       "      <th>TWID</th>\n",
       "      <th>USTAR</th>\n",
       "      <th>VOLEV</th>\n",
       "    </tr>\n",
       "  </thead>\n",
       "  <tbody>\n",
       "    <tr>\n",
       "      <th>R001</th>\n",
       "      <td>1</td>\n",
       "      <td>1</td>\n",
       "      <td>1</td>\n",
       "      <td>1</td>\n",
       "      <td>1</td>\n",
       "      <td>1</td>\n",
       "      <td>1</td>\n",
       "      <td>1</td>\n",
       "      <td>1</td>\n",
       "      <td>1</td>\n",
       "      <td>1</td>\n",
       "      <td>1</td>\n",
       "      <td>1</td>\n",
       "      <td>1</td>\n",
       "      <td>1</td>\n",
       "      <td>1</td>\n",
       "      <td>1</td>\n",
       "      <td>1</td>\n",
       "      <td>1</td>\n",
       "      <td>1</td>\n",
       "      <td>1</td>\n",
       "      <td>1</td>\n",
       "      <td>1</td>\n",
       "      <td>1</td>\n",
       "      <td>1</td>\n",
       "    </tr>\n",
       "    <tr>\n",
       "      <th>R002</th>\n",
       "      <td>1</td>\n",
       "      <td>1</td>\n",
       "      <td>1</td>\n",
       "      <td>1</td>\n",
       "      <td>1</td>\n",
       "      <td>1</td>\n",
       "      <td>1</td>\n",
       "      <td>1</td>\n",
       "      <td>1</td>\n",
       "      <td>1</td>\n",
       "      <td>1</td>\n",
       "      <td>1</td>\n",
       "      <td>1</td>\n",
       "      <td>1</td>\n",
       "      <td>1</td>\n",
       "      <td>1</td>\n",
       "      <td>1</td>\n",
       "      <td>1</td>\n",
       "      <td>1</td>\n",
       "      <td>1</td>\n",
       "      <td>1</td>\n",
       "      <td>1</td>\n",
       "      <td>1</td>\n",
       "      <td>1</td>\n",
       "      <td>1</td>\n",
       "    </tr>\n",
       "    <tr>\n",
       "      <th>R003</th>\n",
       "      <td>1</td>\n",
       "      <td>1</td>\n",
       "      <td>1</td>\n",
       "      <td>1</td>\n",
       "      <td>1</td>\n",
       "      <td>1</td>\n",
       "      <td>1</td>\n",
       "      <td>1</td>\n",
       "      <td>1</td>\n",
       "      <td>1</td>\n",
       "      <td>1</td>\n",
       "      <td>1</td>\n",
       "      <td>1</td>\n",
       "      <td>1</td>\n",
       "      <td>1</td>\n",
       "      <td>1</td>\n",
       "      <td>1</td>\n",
       "      <td>1</td>\n",
       "      <td>1</td>\n",
       "      <td>1</td>\n",
       "      <td>1</td>\n",
       "      <td>1</td>\n",
       "      <td>1</td>\n",
       "      <td>1</td>\n",
       "      <td>1</td>\n",
       "    </tr>\n",
       "    <tr>\n",
       "      <th>R004</th>\n",
       "      <td>1</td>\n",
       "      <td>1</td>\n",
       "      <td>1</td>\n",
       "      <td>1</td>\n",
       "      <td>1</td>\n",
       "      <td>1</td>\n",
       "      <td>1</td>\n",
       "      <td>1</td>\n",
       "      <td>1</td>\n",
       "      <td>1</td>\n",
       "      <td>1</td>\n",
       "      <td>1</td>\n",
       "      <td>1</td>\n",
       "      <td>1</td>\n",
       "      <td>1</td>\n",
       "      <td>1</td>\n",
       "      <td>1</td>\n",
       "      <td>1</td>\n",
       "      <td>1</td>\n",
       "      <td>1</td>\n",
       "      <td>1</td>\n",
       "      <td>1</td>\n",
       "      <td>1</td>\n",
       "      <td>1</td>\n",
       "      <td>1</td>\n",
       "    </tr>\n",
       "    <tr>\n",
       "      <th>R005</th>\n",
       "      <td>1</td>\n",
       "      <td>1</td>\n",
       "      <td>1</td>\n",
       "      <td>1</td>\n",
       "      <td>1</td>\n",
       "      <td>1</td>\n",
       "      <td>1</td>\n",
       "      <td>1</td>\n",
       "      <td>1</td>\n",
       "      <td>1</td>\n",
       "      <td>1</td>\n",
       "      <td>1</td>\n",
       "      <td>1</td>\n",
       "      <td>1</td>\n",
       "      <td>1</td>\n",
       "      <td>1</td>\n",
       "      <td>1</td>\n",
       "      <td>1</td>\n",
       "      <td>1</td>\n",
       "      <td>1</td>\n",
       "      <td>1</td>\n",
       "      <td>1</td>\n",
       "      <td>1</td>\n",
       "      <td>1</td>\n",
       "      <td>1</td>\n",
       "    </tr>\n",
       "    <tr>\n",
       "      <th>R006</th>\n",
       "      <td>1</td>\n",
       "      <td>1</td>\n",
       "      <td>1</td>\n",
       "      <td>1</td>\n",
       "      <td>1</td>\n",
       "      <td>1</td>\n",
       "      <td>1</td>\n",
       "      <td>1</td>\n",
       "      <td>1</td>\n",
       "      <td>1</td>\n",
       "      <td>1</td>\n",
       "      <td>1</td>\n",
       "      <td>1</td>\n",
       "      <td>1</td>\n",
       "      <td>1</td>\n",
       "      <td>1</td>\n",
       "      <td>1</td>\n",
       "      <td>1</td>\n",
       "      <td>1</td>\n",
       "      <td>1</td>\n",
       "      <td>1</td>\n",
       "      <td>1</td>\n",
       "      <td>1</td>\n",
       "      <td>1</td>\n",
       "      <td>1</td>\n",
       "    </tr>\n",
       "    <tr>\n",
       "      <th>R007</th>\n",
       "      <td>1</td>\n",
       "      <td>1</td>\n",
       "      <td>1</td>\n",
       "      <td>1</td>\n",
       "      <td>1</td>\n",
       "      <td>1</td>\n",
       "      <td>1</td>\n",
       "      <td>1</td>\n",
       "      <td>1</td>\n",
       "      <td>1</td>\n",
       "      <td>1</td>\n",
       "      <td>1</td>\n",
       "      <td>1</td>\n",
       "      <td>1</td>\n",
       "      <td>1</td>\n",
       "      <td>1</td>\n",
       "      <td>1</td>\n",
       "      <td>1</td>\n",
       "      <td>1</td>\n",
       "      <td>1</td>\n",
       "      <td>1</td>\n",
       "      <td>1</td>\n",
       "      <td>1</td>\n",
       "      <td>1</td>\n",
       "      <td>1</td>\n",
       "    </tr>\n",
       "    <tr>\n",
       "      <th>R008</th>\n",
       "      <td>1</td>\n",
       "      <td>1</td>\n",
       "      <td>1</td>\n",
       "      <td>1</td>\n",
       "      <td>1</td>\n",
       "      <td>1</td>\n",
       "      <td>1</td>\n",
       "      <td>1</td>\n",
       "      <td>1</td>\n",
       "      <td>1</td>\n",
       "      <td>1</td>\n",
       "      <td>1</td>\n",
       "      <td>1</td>\n",
       "      <td>1</td>\n",
       "      <td>1</td>\n",
       "      <td>1</td>\n",
       "      <td>1</td>\n",
       "      <td>1</td>\n",
       "      <td>1</td>\n",
       "      <td>1</td>\n",
       "      <td>1</td>\n",
       "      <td>1</td>\n",
       "      <td>1</td>\n",
       "      <td>1</td>\n",
       "      <td>1</td>\n",
       "    </tr>\n",
       "    <tr>\n",
       "      <th>R009</th>\n",
       "      <td>1</td>\n",
       "      <td>1</td>\n",
       "      <td>1</td>\n",
       "      <td>1</td>\n",
       "      <td>1</td>\n",
       "      <td>1</td>\n",
       "      <td>1</td>\n",
       "      <td>1</td>\n",
       "      <td>1</td>\n",
       "      <td>1</td>\n",
       "      <td>1</td>\n",
       "      <td>1</td>\n",
       "      <td>1</td>\n",
       "      <td>1</td>\n",
       "      <td>1</td>\n",
       "      <td>1</td>\n",
       "      <td>1</td>\n",
       "      <td>1</td>\n",
       "      <td>1</td>\n",
       "      <td>1</td>\n",
       "      <td>1</td>\n",
       "      <td>1</td>\n",
       "      <td>1</td>\n",
       "      <td>1</td>\n",
       "      <td>1</td>\n",
       "    </tr>\n",
       "  </tbody>\n",
       "</table>"
      ],
      "text/plain": [
       "<IPython.core.display.HTML object>"
      ]
     },
     "metadata": {},
     "output_type": "display_data"
    }
   ],
   "source": [
    "display( HTML( woDF.to_html() ) )"
   ]
  },
  {
   "cell_type": "code",
   "execution_count": 26,
   "metadata": {},
   "outputs": [],
   "source": [
    "with h5py.File(HDF5_FILE, 'a') as h5:\n",
    "    del h5[\"/RCHRES/HYDR/SAVE/\"]\n",
    "# end with"
   ]
  },
  {
   "cell_type": "code",
   "execution_count": 27,
   "metadata": {},
   "outputs": [],
   "source": [
    "with pd.HDFStore( HDF5_FILE ) as store:\n",
    "    store.put( key=\"/RCHRES/HYDR/SAVE/\", value=woDF, format='table', index=True, data_columns=True )\n",
    "# end with "
   ]
  },
  {
   "cell_type": "markdown",
   "metadata": {},
   "source": [
    "## New Format Modifications"
   ]
  },
  {
   "cell_type": "markdown",
   "metadata": {},
   "source": [
    "Use this section if **HDF_FMT** == 1 and you have an new format file"
   ]
  },
  {
   "cell_type": "markdown",
   "metadata": {},
   "source": [
    "First get the inventory of targets, or simulation structures. For **mHSP2**, these are limited to *PERLND*, *IMPLND*, and *RCHRES*."
   ]
  },
  {
   "cell_type": "code",
   "execution_count": null,
   "metadata": {},
   "outputs": [],
   "source": [
    "with pd.HDFStore( HDF5_FILE ) as store:\n",
    "    opsDF = store.get( \"/CONTROL/OP_SEQUENCE/\" )\n",
    "# end with and close HDF5 file"
   ]
  },
  {
   "cell_type": "code",
   "execution_count": null,
   "metadata": {},
   "outputs": [],
   "source": [
    "display( HTML( opsDF.to_html() ) )"
   ]
  },
  {
   "cell_type": "code",
   "execution_count": null,
   "metadata": {},
   "outputs": [],
   "source": [
    "TARG_DICT = dict()\n",
    "for index, row in opsDF.iterrows():\n",
    "    cKey = str( row['OPERATION'] )\n",
    "    cVal = str( row['SEGMENT'] )\n",
    "    if cKey in TARG_DICT.keys():\n",
    "        TARG_DICT[cKey].append( cVal )\n",
    "    else:\n",
    "        TARG_DICT[cKey] = [ cVal ]\n",
    "    # end if\n",
    "# end for"
   ]
  },
  {
   "cell_type": "code",
   "execution_count": null,
   "metadata": {},
   "outputs": [],
   "source": [
    "TARG_DICT"
   ]
  },
  {
   "cell_type": "markdown",
   "metadata": {},
   "source": [
    "Because **mHSP2** only supports *PERLND*, *IMPLND*, and *RCHRES* only go through these structures in TARG_DICT to set our \"SAVE\" values."
   ]
  },
  {
   "cell_type": "code",
   "execution_count": null,
   "metadata": {},
   "outputs": [],
   "source": [
    "GOOD_TARGS = [ 'PERLND', 'IMPLND', 'RCHRES' ]"
   ]
  },
  {
   "cell_type": "markdown",
   "metadata": {},
   "source": [
    "Do these one at a time starting with *PERLND*"
   ]
  },
  {
   "cell_type": "markdown",
   "metadata": {},
   "source": [
    "### PERLND"
   ]
  },
  {
   "cell_type": "code",
   "execution_count": null,
   "metadata": {},
   "outputs": [],
   "source": [
    "tTarg = GOOD_TARGS[0]\n",
    "tIDs = sorted( TARG_DICT[tTarg ] )\n",
    "NumIDs = len( tIDs )\n",
    "Vals = np.ones( NumIDs, dtype=np.int32 )"
   ]
  },
  {
   "cell_type": "markdown",
   "metadata": {},
   "source": [
    "Build a Pandas DataFrame to put into the HDF5 file and overwriting the existing \"Save\" information. Here all fields are set to 1 which means \"Save\" or output. You can edit the fields individually using HDFView or change the logic here to only set 1 for the what you want output."
   ]
  },
  {
   "cell_type": "code",
   "execution_count": null,
   "metadata": {},
   "outputs": [],
   "source": [
    "DataDict = dict()\n",
    "for tHdr in PERLND_OUTPUTs:\n",
    "    DataDict[tHdr] = Vals\n",
    "# end for\n",
    "woDF = pd.DataFrame( index=tIDs, data=DataDict )"
   ]
  },
  {
   "cell_type": "code",
   "execution_count": null,
   "metadata": {},
   "outputs": [],
   "source": [
    "display( HTML( woDF.to_html() ) )"
   ]
  },
  {
   "cell_type": "code",
   "execution_count": null,
   "metadata": {},
   "outputs": [],
   "source": [
    "with h5py.File(HDF5_FILE, 'a') as h5:\n",
    "    del h5[\"/PERLND/PWATER/SAVE\"]\n",
    "# end with"
   ]
  },
  {
   "cell_type": "code",
   "execution_count": null,
   "metadata": {},
   "outputs": [],
   "source": [
    "with pd.HDFStore( HDF5_FILE ) as store:\n",
    "    store.put( key=\"/PERLND/PWATER/SAVE/\", value=woDF, format='table', index=True, data_columns=True )\n",
    "# end with "
   ]
  },
  {
   "cell_type": "markdown",
   "metadata": {},
   "source": [
    "### IMPLND"
   ]
  },
  {
   "cell_type": "code",
   "execution_count": null,
   "metadata": {},
   "outputs": [],
   "source": [
    "tTarg = GOOD_TARGS[1]\n",
    "tIDs = sorted( TARG_DICT[tTarg ] )\n",
    "NumIDs = len( tIDs )\n",
    "Vals = np.ones( NumIDs, dtype=np.int32 )"
   ]
  },
  {
   "cell_type": "code",
   "execution_count": null,
   "metadata": {},
   "outputs": [],
   "source": [
    "DataDict = dict()\n",
    "for tHdr in IMPLND_OUTPUTs:\n",
    "    DataDict[tHdr] = Vals\n",
    "# end for\n",
    "woDF = pd.DataFrame( index=tIDs, data=DataDict )"
   ]
  },
  {
   "cell_type": "code",
   "execution_count": null,
   "metadata": {},
   "outputs": [],
   "source": [
    "display( HTML( woDF.to_html() ) )"
   ]
  },
  {
   "cell_type": "code",
   "execution_count": null,
   "metadata": {},
   "outputs": [],
   "source": [
    "with h5py.File(HDF5_FILE, 'a') as h5:\n",
    "    del h5[\"/IMPLND/IWATER/SAVE\"]\n",
    "# end with"
   ]
  },
  {
   "cell_type": "code",
   "execution_count": null,
   "metadata": {},
   "outputs": [],
   "source": [
    "with pd.HDFStore( HDF5_FILE ) as store:\n",
    "    store.put( key=\"/IMPLND/IWATER/SAVE/\", value=woDF, format='table', index=True, data_columns=True )\n",
    "# end with "
   ]
  },
  {
   "cell_type": "markdown",
   "metadata": {},
   "source": [
    "### RCHRES"
   ]
  },
  {
   "cell_type": "code",
   "execution_count": null,
   "metadata": {},
   "outputs": [],
   "source": [
    "tTarg = GOOD_TARGS[2]\n",
    "tIDs = sorted( TARG_DICT[tTarg ] )\n",
    "NumIDs = len( tIDs )\n",
    "Vals = np.ones( NumIDs, dtype=np.int32 )"
   ]
  },
  {
   "cell_type": "code",
   "execution_count": null,
   "metadata": {},
   "outputs": [],
   "source": [
    "DataDict = dict()\n",
    "for tHdr in RCHRES_OUTPUTs:\n",
    "    DataDict[tHdr] = Vals\n",
    "# end for\n",
    "woDF = pd.DataFrame( index=tIDs, data=DataDict )"
   ]
  },
  {
   "cell_type": "code",
   "execution_count": null,
   "metadata": {},
   "outputs": [],
   "source": [
    "display( HTML( woDF.to_html() ) )"
   ]
  },
  {
   "cell_type": "code",
   "execution_count": null,
   "metadata": {},
   "outputs": [],
   "source": [
    "with h5py.File(HDF5_FILE, 'a') as h5:\n",
    "    del h5[\"/RCHRES/HYDR/SAVE/\"]\n",
    "# end with"
   ]
  },
  {
   "cell_type": "code",
   "execution_count": null,
   "metadata": {},
   "outputs": [],
   "source": [
    "with pd.HDFStore( HDF5_FILE ) as store:\n",
    "    store.put( key=\"/RCHRES/HYDR/SAVE/\", value=woDF, format='table', index=True, data_columns=True )\n",
    "# end with "
   ]
  },
  {
   "cell_type": "code",
   "execution_count": null,
   "metadata": {},
   "outputs": [],
   "source": []
  }
 ],
 "metadata": {
  "kernelspec": {
   "display_name": "Python 3",
   "language": "python",
   "name": "python3"
  },
  "language_info": {
   "codemirror_mode": {
    "name": "ipython",
    "version": 3
   },
   "file_extension": ".py",
   "mimetype": "text/x-python",
   "name": "python",
   "nbconvert_exporter": "python",
   "pygments_lexer": "ipython3",
   "version": "3.7.7"
  }
 },
 "nbformat": 4,
 "nbformat_minor": 4
}
